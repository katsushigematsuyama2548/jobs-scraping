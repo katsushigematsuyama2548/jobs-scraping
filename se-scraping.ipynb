{
 "cells": [
  {
   "cell_type": "code",
   "execution_count": 26,
   "id": "7f7d0175-64f7-401a-aaa3-03f742b2f233",
   "metadata": {
    "tags": []
   },
   "outputs": [
    {
     "name": "stderr",
     "output_type": "stream",
     "text": [
      "ページ処理中:   0%|          | 0/120 [00:00<?, ?it/s]"
     ]
    },
    {
     "name": "stdout",
     "output_type": "stream",
     "text": [
      "Found 30 job listings on page 1.\n"
     ]
    },
    {
     "name": "stderr",
     "output_type": "stream",
     "text": [
      "ページ処理中:   1%|          | 1/120 [00:29<58:10, 29.33s/it]"
     ]
    },
    {
     "name": "stdout",
     "output_type": "stream",
     "text": [
      "Found 30 job listings on page 2.\n"
     ]
    },
    {
     "name": "stderr",
     "output_type": "stream",
     "text": [
      "ページ処理中:   2%|▏         | 2/120 [00:55<54:02, 27.48s/it]"
     ]
    },
    {
     "name": "stdout",
     "output_type": "stream",
     "text": [
      "Found 30 job listings on page 3.\n"
     ]
    },
    {
     "name": "stderr",
     "output_type": "stream",
     "text": [
      "ページ処理中:   2%|▎         | 3/120 [01:18<49:48, 25.54s/it]"
     ]
    },
    {
     "name": "stdout",
     "output_type": "stream",
     "text": [
      "Found 30 job listings on page 4.\n"
     ]
    },
    {
     "name": "stderr",
     "output_type": "stream",
     "text": [
      "ページ処理中:   3%|▎         | 4/120 [01:43<48:23, 25.03s/it]"
     ]
    },
    {
     "name": "stdout",
     "output_type": "stream",
     "text": [
      "Found 30 job listings on page 5.\n"
     ]
    },
    {
     "name": "stderr",
     "output_type": "stream",
     "text": [
      "ページ処理中:   4%|▍         | 5/120 [02:05<46:00, 24.01s/it]"
     ]
    },
    {
     "name": "stdout",
     "output_type": "stream",
     "text": [
      "Found 30 job listings on page 6.\n"
     ]
    },
    {
     "name": "stderr",
     "output_type": "stream",
     "text": [
      "ページ処理中:   5%|▌         | 6/120 [02:24<42:44, 22.50s/it]"
     ]
    },
    {
     "name": "stdout",
     "output_type": "stream",
     "text": [
      "Found 30 job listings on page 7.\n"
     ]
    },
    {
     "name": "stderr",
     "output_type": "stream",
     "text": [
      "ページ処理中:   6%|▌         | 7/120 [02:42<39:26, 20.94s/it]"
     ]
    },
    {
     "name": "stdout",
     "output_type": "stream",
     "text": [
      "Found 30 job listings on page 8.\n"
     ]
    },
    {
     "name": "stderr",
     "output_type": "stream",
     "text": [
      "ページ処理中:   7%|▋         | 8/120 [03:03<39:14, 21.02s/it]"
     ]
    },
    {
     "name": "stdout",
     "output_type": "stream",
     "text": [
      "Found 30 job listings on page 9.\n"
     ]
    },
    {
     "name": "stderr",
     "output_type": "stream",
     "text": [
      "ページ処理中:   8%|▊         | 9/120 [03:24<39:03, 21.11s/it]"
     ]
    },
    {
     "name": "stdout",
     "output_type": "stream",
     "text": [
      "Found 30 job listings on page 10.\n"
     ]
    },
    {
     "name": "stderr",
     "output_type": "stream",
     "text": [
      "ページ処理中:   8%|▊         | 10/120 [03:49<40:31, 22.10s/it]"
     ]
    },
    {
     "name": "stdout",
     "output_type": "stream",
     "text": [
      "Found 30 job listings on page 11.\n"
     ]
    },
    {
     "name": "stderr",
     "output_type": "stream",
     "text": [
      "ページ処理中:   9%|▉         | 11/120 [04:07<38:00, 20.92s/it]"
     ]
    },
    {
     "name": "stdout",
     "output_type": "stream",
     "text": [
      "Found 30 job listings on page 12.\n"
     ]
    },
    {
     "name": "stderr",
     "output_type": "stream",
     "text": [
      "ページ処理中:  10%|█         | 12/120 [04:29<38:08, 21.19s/it]"
     ]
    },
    {
     "name": "stdout",
     "output_type": "stream",
     "text": [
      "Found 30 job listings on page 13.\n"
     ]
    },
    {
     "name": "stderr",
     "output_type": "stream",
     "text": [
      "ページ処理中:  11%|█         | 13/120 [04:37<30:55, 17.35s/it]"
     ]
    },
    {
     "name": "stdout",
     "output_type": "stream",
     "text": [
      "Found 30 job listings on page 14.\n"
     ]
    },
    {
     "name": "stderr",
     "output_type": "stream",
     "text": [
      "ページ処理中:  12%|█▏        | 14/120 [04:57<31:38, 17.91s/it]"
     ]
    },
    {
     "name": "stdout",
     "output_type": "stream",
     "text": [
      "Found 30 job listings on page 15.\n"
     ]
    },
    {
     "name": "stderr",
     "output_type": "stream",
     "text": [
      "ページ処理中:  12%|█▎        | 15/120 [05:22<35:06, 20.07s/it]"
     ]
    },
    {
     "name": "stdout",
     "output_type": "stream",
     "text": [
      "Found 30 job listings on page 16.\n"
     ]
    },
    {
     "name": "stderr",
     "output_type": "stream",
     "text": [
      "ページ処理中:  13%|█▎        | 16/120 [05:40<33:44, 19.47s/it]"
     ]
    },
    {
     "name": "stdout",
     "output_type": "stream",
     "text": [
      "Found 30 job listings on page 17.\n"
     ]
    },
    {
     "name": "stderr",
     "output_type": "stream",
     "text": [
      "ページ処理中:  14%|█▍        | 17/120 [06:03<35:17, 20.55s/it]"
     ]
    },
    {
     "name": "stdout",
     "output_type": "stream",
     "text": [
      "Found 30 job listings on page 18.\n"
     ]
    },
    {
     "name": "stderr",
     "output_type": "stream",
     "text": [
      "ページ処理中:  15%|█▌        | 18/120 [06:29<37:58, 22.34s/it]"
     ]
    },
    {
     "name": "stdout",
     "output_type": "stream",
     "text": [
      "Found 30 job listings on page 19.\n"
     ]
    },
    {
     "name": "stderr",
     "output_type": "stream",
     "text": [
      "ページ処理中:  16%|█▌        | 19/120 [06:51<37:22, 22.20s/it]"
     ]
    },
    {
     "name": "stdout",
     "output_type": "stream",
     "text": [
      "Found 30 job listings on page 20.\n"
     ]
    },
    {
     "name": "stderr",
     "output_type": "stream",
     "text": [
      "ページ処理中:  17%|█▋        | 20/120 [07:12<36:06, 21.66s/it]"
     ]
    },
    {
     "name": "stdout",
     "output_type": "stream",
     "text": [
      "Found 30 job listings on page 21.\n"
     ]
    },
    {
     "name": "stderr",
     "output_type": "stream",
     "text": [
      "ページ処理中:  18%|█▊        | 21/120 [07:33<35:25, 21.47s/it]"
     ]
    },
    {
     "name": "stdout",
     "output_type": "stream",
     "text": [
      "Found 30 job listings on page 22.\n"
     ]
    },
    {
     "name": "stderr",
     "output_type": "stream",
     "text": [
      "ページ処理中:  18%|█▊        | 22/120 [07:54<34:51, 21.34s/it]"
     ]
    },
    {
     "name": "stdout",
     "output_type": "stream",
     "text": [
      "Found 30 job listings on page 23.\n"
     ]
    },
    {
     "name": "stderr",
     "output_type": "stream",
     "text": [
      "ページ処理中:  19%|█▉        | 23/120 [08:15<34:26, 21.30s/it]"
     ]
    },
    {
     "name": "stdout",
     "output_type": "stream",
     "text": [
      "Found 30 job listings on page 24.\n"
     ]
    },
    {
     "name": "stderr",
     "output_type": "stream",
     "text": [
      "ページ処理中:  20%|██        | 24/120 [08:40<35:52, 22.42s/it]"
     ]
    },
    {
     "name": "stdout",
     "output_type": "stream",
     "text": [
      "Found 30 job listings on page 25.\n"
     ]
    },
    {
     "name": "stderr",
     "output_type": "stream",
     "text": [
      "ページ処理中:  21%|██        | 25/120 [08:59<33:53, 21.40s/it]"
     ]
    },
    {
     "name": "stdout",
     "output_type": "stream",
     "text": [
      "Found 30 job listings on page 26.\n"
     ]
    },
    {
     "name": "stderr",
     "output_type": "stream",
     "text": [
      "ページ処理中:  22%|██▏       | 26/120 [09:20<33:34, 21.43s/it]"
     ]
    },
    {
     "name": "stdout",
     "output_type": "stream",
     "text": [
      "Found 30 job listings on page 27.\n"
     ]
    },
    {
     "name": "stderr",
     "output_type": "stream",
     "text": [
      "ページ処理中:  22%|██▎       | 27/120 [09:50<36:55, 23.82s/it]"
     ]
    },
    {
     "name": "stdout",
     "output_type": "stream",
     "text": [
      "Found 30 job listings on page 28.\n"
     ]
    },
    {
     "name": "stderr",
     "output_type": "stream",
     "text": [
      "ページ処理中:  23%|██▎       | 28/120 [10:12<35:48, 23.35s/it]"
     ]
    },
    {
     "name": "stdout",
     "output_type": "stream",
     "text": [
      "Found 30 job listings on page 29.\n"
     ]
    },
    {
     "name": "stderr",
     "output_type": "stream",
     "text": [
      "ページ処理中:  24%|██▍       | 29/120 [10:36<35:40, 23.52s/it]"
     ]
    },
    {
     "name": "stdout",
     "output_type": "stream",
     "text": [
      "Found 30 job listings on page 30.\n"
     ]
    },
    {
     "name": "stderr",
     "output_type": "stream",
     "text": [
      "ページ処理中:  25%|██▌       | 30/120 [11:00<35:35, 23.73s/it]"
     ]
    },
    {
     "name": "stdout",
     "output_type": "stream",
     "text": [
      "Found 30 job listings on page 31.\n"
     ]
    },
    {
     "name": "stderr",
     "output_type": "stream",
     "text": [
      "ページ処理中:  26%|██▌       | 31/120 [11:20<33:37, 22.67s/it]"
     ]
    },
    {
     "name": "stdout",
     "output_type": "stream",
     "text": [
      "Found 30 job listings on page 32.\n"
     ]
    },
    {
     "name": "stderr",
     "output_type": "stream",
     "text": [
      "ページ処理中:  27%|██▋       | 32/120 [11:44<33:32, 22.87s/it]"
     ]
    },
    {
     "name": "stdout",
     "output_type": "stream",
     "text": [
      "Found 30 job listings on page 33.\n"
     ]
    },
    {
     "name": "stderr",
     "output_type": "stream",
     "text": [
      "ページ処理中:  28%|██▊       | 33/120 [12:07<33:32, 23.14s/it]"
     ]
    },
    {
     "name": "stdout",
     "output_type": "stream",
     "text": [
      "Found 30 job listings on page 34.\n"
     ]
    },
    {
     "name": "stderr",
     "output_type": "stream",
     "text": [
      "ページ処理中:  28%|██▊       | 34/120 [12:30<32:54, 22.95s/it]"
     ]
    },
    {
     "name": "stdout",
     "output_type": "stream",
     "text": [
      "Found 30 job listings on page 35.\n"
     ]
    },
    {
     "name": "stderr",
     "output_type": "stream",
     "text": [
      "ページ処理中:  29%|██▉       | 35/120 [12:52<31:58, 22.57s/it]"
     ]
    },
    {
     "name": "stdout",
     "output_type": "stream",
     "text": [
      "Found 30 job listings on page 36.\n"
     ]
    },
    {
     "name": "stderr",
     "output_type": "stream",
     "text": [
      "ページ処理中:  30%|███       | 36/120 [13:11<30:21, 21.68s/it]"
     ]
    },
    {
     "name": "stdout",
     "output_type": "stream",
     "text": [
      "Found 30 job listings on page 37.\n"
     ]
    },
    {
     "name": "stderr",
     "output_type": "stream",
     "text": [
      "ページ処理中:  31%|███       | 37/120 [13:35<30:51, 22.31s/it]"
     ]
    },
    {
     "name": "stdout",
     "output_type": "stream",
     "text": [
      "Found 30 job listings on page 38.\n"
     ]
    },
    {
     "name": "stderr",
     "output_type": "stream",
     "text": [
      "ページ処理中:  32%|███▏      | 38/120 [13:56<29:47, 21.80s/it]"
     ]
    },
    {
     "name": "stdout",
     "output_type": "stream",
     "text": [
      "Found 30 job listings on page 39.\n"
     ]
    },
    {
     "name": "stderr",
     "output_type": "stream",
     "text": [
      "ページ処理中:  32%|███▎      | 39/120 [14:16<28:48, 21.34s/it]"
     ]
    },
    {
     "name": "stdout",
     "output_type": "stream",
     "text": [
      "Found 30 job listings on page 40.\n"
     ]
    },
    {
     "name": "stderr",
     "output_type": "stream",
     "text": [
      "ページ処理中:  33%|███▎      | 40/120 [14:45<31:31, 23.64s/it]"
     ]
    },
    {
     "name": "stdout",
     "output_type": "stream",
     "text": [
      "Found 30 job listings on page 41.\n"
     ]
    },
    {
     "name": "stderr",
     "output_type": "stream",
     "text": [
      "ページ処理中:  34%|███▍      | 41/120 [15:10<31:47, 24.15s/it]"
     ]
    },
    {
     "name": "stdout",
     "output_type": "stream",
     "text": [
      "Found 30 job listings on page 42.\n"
     ]
    },
    {
     "name": "stderr",
     "output_type": "stream",
     "text": [
      "ページ処理中:  35%|███▌      | 42/120 [15:33<30:52, 23.75s/it]"
     ]
    },
    {
     "name": "stdout",
     "output_type": "stream",
     "text": [
      "Found 30 job listings on page 43.\n"
     ]
    },
    {
     "name": "stderr",
     "output_type": "stream",
     "text": [
      "ページ処理中:  36%|███▌      | 43/120 [16:02<32:24, 25.25s/it]"
     ]
    },
    {
     "name": "stdout",
     "output_type": "stream",
     "text": [
      "Found 30 job listings on page 44.\n"
     ]
    },
    {
     "name": "stderr",
     "output_type": "stream",
     "text": [
      "ページ処理中:  37%|███▋      | 44/120 [16:21<29:40, 23.43s/it]"
     ]
    },
    {
     "name": "stdout",
     "output_type": "stream",
     "text": [
      "Found 30 job listings on page 45.\n"
     ]
    },
    {
     "name": "stderr",
     "output_type": "stream",
     "text": [
      "ページ処理中:  38%|███▊      | 45/120 [16:41<27:56, 22.35s/it]"
     ]
    },
    {
     "name": "stdout",
     "output_type": "stream",
     "text": [
      "Found 30 job listings on page 46.\n"
     ]
    },
    {
     "name": "stderr",
     "output_type": "stream",
     "text": [
      "ページ処理中:  38%|███▊      | 46/120 [17:03<27:39, 22.42s/it]"
     ]
    },
    {
     "name": "stdout",
     "output_type": "stream",
     "text": [
      "Found 30 job listings on page 47.\n"
     ]
    },
    {
     "name": "stderr",
     "output_type": "stream",
     "text": [
      "ページ処理中:  39%|███▉      | 47/120 [17:23<26:07, 21.47s/it]"
     ]
    },
    {
     "name": "stdout",
     "output_type": "stream",
     "text": [
      "Found 30 job listings on page 48.\n"
     ]
    },
    {
     "name": "stderr",
     "output_type": "stream",
     "text": [
      "ページ処理中:  40%|████      | 48/120 [17:43<25:14, 21.03s/it]"
     ]
    },
    {
     "name": "stdout",
     "output_type": "stream",
     "text": [
      "Found 30 job listings on page 49.\n"
     ]
    },
    {
     "name": "stderr",
     "output_type": "stream",
     "text": [
      "ページ処理中:  41%|████      | 49/120 [18:10<27:00, 22.82s/it]"
     ]
    },
    {
     "name": "stdout",
     "output_type": "stream",
     "text": [
      "Found 30 job listings on page 50.\n"
     ]
    },
    {
     "name": "stderr",
     "output_type": "stream",
     "text": [
      "ページ処理中:  42%|████▏     | 50/120 [18:34<27:09, 23.28s/it]"
     ]
    },
    {
     "name": "stdout",
     "output_type": "stream",
     "text": [
      "Found 30 job listings on page 51.\n"
     ]
    },
    {
     "name": "stderr",
     "output_type": "stream",
     "text": [
      "ページ処理中:  42%|████▎     | 51/120 [19:09<30:44, 26.73s/it]"
     ]
    },
    {
     "name": "stdout",
     "output_type": "stream",
     "text": [
      "Found 30 job listings on page 52.\n"
     ]
    },
    {
     "name": "stderr",
     "output_type": "stream",
     "text": [
      "ページ処理中:  43%|████▎     | 52/120 [19:37<30:42, 27.10s/it]"
     ]
    },
    {
     "name": "stdout",
     "output_type": "stream",
     "text": [
      "Found 30 job listings on page 53.\n"
     ]
    },
    {
     "name": "stderr",
     "output_type": "stream",
     "text": [
      "ページ処理中:  44%|████▍     | 53/120 [19:58<28:18, 25.35s/it]"
     ]
    },
    {
     "name": "stdout",
     "output_type": "stream",
     "text": [
      "Found 30 job listings on page 54.\n"
     ]
    },
    {
     "name": "stderr",
     "output_type": "stream",
     "text": [
      "ページ処理中:  45%|████▌     | 54/120 [20:22<27:31, 25.02s/it]"
     ]
    },
    {
     "name": "stdout",
     "output_type": "stream",
     "text": [
      "Found 30 job listings on page 55.\n"
     ]
    },
    {
     "name": "stderr",
     "output_type": "stream",
     "text": [
      "ページ処理中:  46%|████▌     | 55/120 [20:41<24:57, 23.04s/it]"
     ]
    },
    {
     "name": "stdout",
     "output_type": "stream",
     "text": [
      "Found 30 job listings on page 56.\n"
     ]
    },
    {
     "name": "stderr",
     "output_type": "stream",
     "text": [
      "ページ処理中:  47%|████▋     | 56/120 [20:54<21:29, 20.14s/it]"
     ]
    },
    {
     "name": "stdout",
     "output_type": "stream",
     "text": [
      "Found 30 job listings on page 57.\n"
     ]
    },
    {
     "name": "stderr",
     "output_type": "stream",
     "text": [
      "ページ処理中:  48%|████▊     | 57/120 [21:00<16:35, 15.81s/it]"
     ]
    },
    {
     "name": "stdout",
     "output_type": "stream",
     "text": [
      "Found 30 job listings on page 58.\n"
     ]
    },
    {
     "name": "stderr",
     "output_type": "stream",
     "text": [
      "ページ処理中:  48%|████▊     | 58/120 [21:10<14:43, 14.24s/it]"
     ]
    },
    {
     "name": "stdout",
     "output_type": "stream",
     "text": [
      "Found 30 job listings on page 59.\n"
     ]
    },
    {
     "name": "stderr",
     "output_type": "stream",
     "text": [
      "ページ処理中:  50%|█████     | 60/120 [21:21<09:32,  9.54s/it]"
     ]
    },
    {
     "name": "stdout",
     "output_type": "stream",
     "text": [
      "Found 30 job listings on page 60.\n",
      "Found 30 job listings on page 61.\n"
     ]
    },
    {
     "name": "stderr",
     "output_type": "stream",
     "text": [
      "ページ処理中:  51%|█████     | 61/120 [21:41<12:27, 12.66s/it]"
     ]
    },
    {
     "name": "stdout",
     "output_type": "stream",
     "text": [
      "Found 30 job listings on page 62.\n"
     ]
    },
    {
     "name": "stderr",
     "output_type": "stream",
     "text": [
      "ページ処理中:  52%|█████▎    | 63/120 [22:11<12:07, 12.76s/it]"
     ]
    },
    {
     "name": "stdout",
     "output_type": "stream",
     "text": [
      "Found 30 job listings on page 63.\n",
      "Found 30 job listings on page 64.\n"
     ]
    },
    {
     "name": "stderr",
     "output_type": "stream",
     "text": [
      "ページ処理中:  53%|█████▎    | 64/120 [22:34<14:46, 15.84s/it]"
     ]
    },
    {
     "name": "stdout",
     "output_type": "stream",
     "text": [
      "Found 30 job listings on page 65.\n"
     ]
    },
    {
     "name": "stderr",
     "output_type": "stream",
     "text": [
      "ページ処理中:  54%|█████▍    | 65/120 [22:55<16:10, 17.64s/it]"
     ]
    },
    {
     "name": "stdout",
     "output_type": "stream",
     "text": [
      "Found 30 job listings on page 66.\n"
     ]
    },
    {
     "name": "stderr",
     "output_type": "stream",
     "text": [
      "ページ処理中:  55%|█████▌    | 66/120 [23:22<18:17, 20.32s/it]"
     ]
    },
    {
     "name": "stdout",
     "output_type": "stream",
     "text": [
      "Found 30 job listings on page 67.\n"
     ]
    },
    {
     "name": "stderr",
     "output_type": "stream",
     "text": [
      "ページ処理中:  56%|█████▌    | 67/120 [23:41<17:44, 20.08s/it]"
     ]
    },
    {
     "name": "stdout",
     "output_type": "stream",
     "text": [
      "Found 30 job listings on page 68.\n"
     ]
    },
    {
     "name": "stderr",
     "output_type": "stream",
     "text": [
      "ページ処理中:  57%|█████▋    | 68/120 [24:10<19:40, 22.70s/it]"
     ]
    },
    {
     "name": "stdout",
     "output_type": "stream",
     "text": [
      "Found 30 job listings on page 69.\n"
     ]
    },
    {
     "name": "stderr",
     "output_type": "stream",
     "text": [
      "ページ処理中:  57%|█████▊    | 69/120 [24:31<18:43, 22.04s/it]"
     ]
    },
    {
     "name": "stdout",
     "output_type": "stream",
     "text": [
      "Found 30 job listings on page 70.\n"
     ]
    },
    {
     "name": "stderr",
     "output_type": "stream",
     "text": [
      "ページ処理中:  58%|█████▊    | 70/120 [24:52<18:07, 21.76s/it]"
     ]
    },
    {
     "name": "stdout",
     "output_type": "stream",
     "text": [
      "Found 30 job listings on page 71.\n"
     ]
    },
    {
     "name": "stderr",
     "output_type": "stream",
     "text": [
      "ページ処理中:  59%|█████▉    | 71/120 [25:13<17:39, 21.62s/it]"
     ]
    },
    {
     "name": "stdout",
     "output_type": "stream",
     "text": [
      "Found 30 job listings on page 72.\n"
     ]
    },
    {
     "name": "stderr",
     "output_type": "stream",
     "text": [
      "ページ処理中:  60%|██████    | 72/120 [25:35<17:18, 21.63s/it]"
     ]
    },
    {
     "name": "stdout",
     "output_type": "stream",
     "text": [
      "Found 30 job listings on page 73.\n"
     ]
    },
    {
     "name": "stderr",
     "output_type": "stream",
     "text": [
      "ページ処理中:  61%|██████    | 73/120 [25:57<17:04, 21.80s/it]"
     ]
    },
    {
     "name": "stdout",
     "output_type": "stream",
     "text": [
      "Found 30 job listings on page 74.\n"
     ]
    },
    {
     "name": "stderr",
     "output_type": "stream",
     "text": [
      "ページ処理中:  62%|██████▏   | 74/120 [26:22<17:30, 22.84s/it]"
     ]
    },
    {
     "name": "stdout",
     "output_type": "stream",
     "text": [
      "Found 30 job listings on page 75.\n"
     ]
    },
    {
     "name": "stderr",
     "output_type": "stream",
     "text": [
      "ページ処理中:  62%|██████▎   | 75/120 [26:51<18:20, 24.46s/it]"
     ]
    },
    {
     "name": "stdout",
     "output_type": "stream",
     "text": [
      "Found 30 job listings on page 76.\n"
     ]
    },
    {
     "name": "stderr",
     "output_type": "stream",
     "text": [
      "ページ処理中:  63%|██████▎   | 76/120 [27:15<17:49, 24.32s/it]"
     ]
    },
    {
     "name": "stdout",
     "output_type": "stream",
     "text": [
      "Found 30 job listings on page 77.\n"
     ]
    },
    {
     "name": "stderr",
     "output_type": "stream",
     "text": [
      "ページ処理中:  64%|██████▍   | 77/120 [27:39<17:29, 24.40s/it]"
     ]
    },
    {
     "name": "stdout",
     "output_type": "stream",
     "text": [
      "Found 30 job listings on page 78.\n"
     ]
    },
    {
     "name": "stderr",
     "output_type": "stream",
     "text": [
      "ページ処理中:  65%|██████▌   | 78/120 [28:07<17:51, 25.51s/it]"
     ]
    },
    {
     "name": "stdout",
     "output_type": "stream",
     "text": [
      "Found 30 job listings on page 79.\n"
     ]
    },
    {
     "name": "stderr",
     "output_type": "stream",
     "text": [
      "ページ処理中:  66%|██████▌   | 79/120 [28:29<16:44, 24.50s/it]"
     ]
    },
    {
     "name": "stdout",
     "output_type": "stream",
     "text": [
      "Found 30 job listings on page 80.\n"
     ]
    },
    {
     "name": "stderr",
     "output_type": "stream",
     "text": [
      "ページ処理中:  67%|██████▋   | 80/120 [28:33<12:09, 18.23s/it]"
     ]
    },
    {
     "name": "stdout",
     "output_type": "stream",
     "text": [
      "Found 30 job listings on page 81.\n"
     ]
    },
    {
     "name": "stderr",
     "output_type": "stream",
     "text": [
      "ページ処理中:  68%|██████▊   | 81/120 [28:56<12:49, 19.72s/it]"
     ]
    },
    {
     "name": "stdout",
     "output_type": "stream",
     "text": [
      "Found 30 job listings on page 82.\n"
     ]
    },
    {
     "name": "stderr",
     "output_type": "stream",
     "text": [
      "ページ処理中:  68%|██████▊   | 82/120 [29:17<12:44, 20.12s/it]"
     ]
    },
    {
     "name": "stdout",
     "output_type": "stream",
     "text": [
      "Found 30 job listings on page 83.\n"
     ]
    },
    {
     "name": "stderr",
     "output_type": "stream",
     "text": [
      "ページ処理中:  69%|██████▉   | 83/120 [29:24<09:51, 15.99s/it]"
     ]
    },
    {
     "name": "stdout",
     "output_type": "stream",
     "text": [
      "Found 30 job listings on page 84.\n"
     ]
    },
    {
     "name": "stderr",
     "output_type": "stream",
     "text": [
      "ページ処理中:  70%|███████   | 84/120 [29:42<10:01, 16.71s/it]"
     ]
    },
    {
     "name": "stdout",
     "output_type": "stream",
     "text": [
      "Found 30 job listings on page 85.\n"
     ]
    },
    {
     "name": "stderr",
     "output_type": "stream",
     "text": [
      "ページ処理中:  71%|███████   | 85/120 [30:04<10:38, 18.25s/it]"
     ]
    },
    {
     "name": "stdout",
     "output_type": "stream",
     "text": [
      "Found 30 job listings on page 86.\n"
     ]
    },
    {
     "name": "stderr",
     "output_type": "stream",
     "text": [
      "ページ処理中:  72%|███████▏  | 86/120 [30:26<10:59, 19.39s/it]"
     ]
    },
    {
     "name": "stdout",
     "output_type": "stream",
     "text": [
      "Found 30 job listings on page 87.\n"
     ]
    },
    {
     "name": "stderr",
     "output_type": "stream",
     "text": [
      "ページ処理中:  72%|███████▎  | 87/120 [30:29<07:59, 14.52s/it]"
     ]
    },
    {
     "name": "stdout",
     "output_type": "stream",
     "text": [
      "Found 30 job listings on page 88.\n"
     ]
    },
    {
     "name": "stderr",
     "output_type": "stream",
     "text": [
      "ページ処理中:  73%|███████▎  | 88/120 [30:49<08:39, 16.23s/it]"
     ]
    },
    {
     "name": "stdout",
     "output_type": "stream",
     "text": [
      "Found 30 job listings on page 89.\n"
     ]
    },
    {
     "name": "stderr",
     "output_type": "stream",
     "text": [
      "ページ処理中:  74%|███████▍  | 89/120 [31:13<09:35, 18.56s/it]"
     ]
    },
    {
     "name": "stdout",
     "output_type": "stream",
     "text": [
      "Found 30 job listings on page 90.\n"
     ]
    },
    {
     "name": "stderr",
     "output_type": "stream",
     "text": [
      "ページ処理中:  75%|███████▌  | 90/120 [31:34<09:35, 19.20s/it]"
     ]
    },
    {
     "name": "stdout",
     "output_type": "stream",
     "text": [
      "Found 30 job listings on page 91.\n"
     ]
    },
    {
     "name": "stderr",
     "output_type": "stream",
     "text": [
      "ページ処理中:  76%|███████▌  | 91/120 [31:56<09:38, 19.96s/it]"
     ]
    },
    {
     "name": "stdout",
     "output_type": "stream",
     "text": [
      "Found 30 job listings on page 92.\n"
     ]
    },
    {
     "name": "stderr",
     "output_type": "stream",
     "text": [
      "ページ処理中:  77%|███████▋  | 92/120 [32:18<09:42, 20.79s/it]"
     ]
    },
    {
     "name": "stdout",
     "output_type": "stream",
     "text": [
      "Found 30 job listings on page 93.\n"
     ]
    },
    {
     "name": "stderr",
     "output_type": "stream",
     "text": [
      "ページ処理中:  78%|███████▊  | 93/120 [32:38<09:09, 20.36s/it]"
     ]
    },
    {
     "name": "stdout",
     "output_type": "stream",
     "text": [
      "Found 30 job listings on page 94.\n"
     ]
    },
    {
     "name": "stderr",
     "output_type": "stream",
     "text": [
      "ページ処理中:  78%|███████▊  | 94/120 [32:57<08:43, 20.14s/it]"
     ]
    },
    {
     "name": "stdout",
     "output_type": "stream",
     "text": [
      "Found 30 job listings on page 95.\n"
     ]
    },
    {
     "name": "stderr",
     "output_type": "stream",
     "text": [
      "ページ処理中:  79%|███████▉  | 95/120 [33:04<06:45, 16.24s/it]"
     ]
    },
    {
     "name": "stdout",
     "output_type": "stream",
     "text": [
      "Found 30 job listings on page 96.\n"
     ]
    },
    {
     "name": "stderr",
     "output_type": "stream",
     "text": [
      "ページ処理中:  80%|████████  | 96/120 [33:31<07:42, 19.25s/it]"
     ]
    },
    {
     "name": "stdout",
     "output_type": "stream",
     "text": [
      "Found 30 job listings on page 97.\n"
     ]
    },
    {
     "name": "stderr",
     "output_type": "stream",
     "text": [
      "ページ処理中:  81%|████████  | 97/120 [33:51<07:30, 19.57s/it]"
     ]
    },
    {
     "name": "stdout",
     "output_type": "stream",
     "text": [
      "Found 30 job listings on page 98.\n"
     ]
    },
    {
     "name": "stderr",
     "output_type": "stream",
     "text": [
      "ページ処理中:  82%|████████▏ | 98/120 [34:12<07:16, 19.83s/it]"
     ]
    },
    {
     "name": "stdout",
     "output_type": "stream",
     "text": [
      "Found 30 job listings on page 99.\n"
     ]
    },
    {
     "name": "stderr",
     "output_type": "stream",
     "text": [
      "ページ処理中:  82%|████████▎ | 99/120 [34:32<06:58, 19.93s/it]"
     ]
    },
    {
     "name": "stdout",
     "output_type": "stream",
     "text": [
      "Found 30 job listings on page 100.\n"
     ]
    },
    {
     "name": "stderr",
     "output_type": "stream",
     "text": [
      "ページ処理中:  83%|████████▎ | 100/120 [34:57<07:13, 21.66s/it]"
     ]
    },
    {
     "name": "stdout",
     "output_type": "stream",
     "text": [
      "Found 30 job listings on page 101.\n"
     ]
    },
    {
     "name": "stderr",
     "output_type": "stream",
     "text": [
      "ページ処理中:  84%|████████▍ | 101/120 [35:21<07:05, 22.37s/it]"
     ]
    },
    {
     "name": "stdout",
     "output_type": "stream",
     "text": [
      "Found 30 job listings on page 102.\n"
     ]
    },
    {
     "name": "stderr",
     "output_type": "stream",
     "text": [
      "ページ処理中:  85%|████████▌ | 102/120 [35:43<06:40, 22.27s/it]"
     ]
    },
    {
     "name": "stdout",
     "output_type": "stream",
     "text": [
      "Found 30 job listings on page 103.\n"
     ]
    },
    {
     "name": "stderr",
     "output_type": "stream",
     "text": [
      "ページ処理中:  86%|████████▌ | 103/120 [36:03<06:05, 21.50s/it]"
     ]
    },
    {
     "name": "stdout",
     "output_type": "stream",
     "text": [
      "Found 30 job listings on page 104.\n"
     ]
    },
    {
     "name": "stderr",
     "output_type": "stream",
     "text": [
      "ページ処理中:  87%|████████▋ | 104/120 [36:28<06:01, 22.57s/it]"
     ]
    },
    {
     "name": "stdout",
     "output_type": "stream",
     "text": [
      "Found 30 job listings on page 105.\n"
     ]
    },
    {
     "name": "stderr",
     "output_type": "stream",
     "text": [
      "ページ処理中:  88%|████████▊ | 105/120 [36:48<05:26, 21.79s/it]"
     ]
    },
    {
     "name": "stdout",
     "output_type": "stream",
     "text": [
      "Found 30 job listings on page 106.\n"
     ]
    },
    {
     "name": "stderr",
     "output_type": "stream",
     "text": [
      "ページ処理中:  88%|████████▊ | 106/120 [37:00<04:21, 18.65s/it]"
     ]
    },
    {
     "name": "stdout",
     "output_type": "stream",
     "text": [
      "Found 30 job listings on page 107.\n"
     ]
    },
    {
     "name": "stderr",
     "output_type": "stream",
     "text": [
      "ページ処理中:  89%|████████▉ | 107/120 [37:20<04:11, 19.33s/it]"
     ]
    },
    {
     "name": "stdout",
     "output_type": "stream",
     "text": [
      "Found 30 job listings on page 108.\n"
     ]
    },
    {
     "name": "stderr",
     "output_type": "stream",
     "text": [
      "ページ処理中:  90%|█████████ | 108/120 [37:41<03:58, 19.85s/it]"
     ]
    },
    {
     "name": "stdout",
     "output_type": "stream",
     "text": [
      "Found 30 job listings on page 109.\n"
     ]
    },
    {
     "name": "stderr",
     "output_type": "stream",
     "text": [
      "ページ処理中:  91%|█████████ | 109/120 [38:03<03:42, 20.22s/it]"
     ]
    },
    {
     "name": "stdout",
     "output_type": "stream",
     "text": [
      "Found 30 job listings on page 110.\n"
     ]
    },
    {
     "name": "stderr",
     "output_type": "stream",
     "text": [
      "ページ処理中:  92%|█████████▏| 110/120 [38:26<03:30, 21.04s/it]"
     ]
    },
    {
     "name": "stdout",
     "output_type": "stream",
     "text": [
      "Found 30 job listings on page 111.\n"
     ]
    },
    {
     "name": "stderr",
     "output_type": "stream",
     "text": [
      "ページ処理中:  92%|█████████▎| 111/120 [38:45<03:05, 20.64s/it]"
     ]
    },
    {
     "name": "stdout",
     "output_type": "stream",
     "text": [
      "Found 30 job listings on page 112.\n"
     ]
    },
    {
     "name": "stderr",
     "output_type": "stream",
     "text": [
      "ページ処理中:  93%|█████████▎| 112/120 [39:12<02:59, 22.48s/it]"
     ]
    },
    {
     "name": "stdout",
     "output_type": "stream",
     "text": [
      "Found 30 job listings on page 113.\n"
     ]
    },
    {
     "name": "stderr",
     "output_type": "stream",
     "text": [
      "ページ処理中:  94%|█████████▍| 113/120 [39:31<02:31, 21.58s/it]"
     ]
    },
    {
     "name": "stdout",
     "output_type": "stream",
     "text": [
      "Found 30 job listings on page 114.\n"
     ]
    },
    {
     "name": "stderr",
     "output_type": "stream",
     "text": [
      "ページ処理中:  95%|█████████▌| 114/120 [39:53<02:10, 21.68s/it]"
     ]
    },
    {
     "name": "stdout",
     "output_type": "stream",
     "text": [
      "Found 30 job listings on page 115.\n"
     ]
    },
    {
     "name": "stderr",
     "output_type": "stream",
     "text": [
      "ページ処理中:  96%|█████████▌| 115/120 [40:12<01:43, 20.73s/it]"
     ]
    },
    {
     "name": "stdout",
     "output_type": "stream",
     "text": [
      "Found 30 job listings on page 116.\n"
     ]
    },
    {
     "name": "stderr",
     "output_type": "stream",
     "text": [
      "ページ処理中:  97%|█████████▋| 116/120 [40:35<01:26, 21.55s/it]"
     ]
    },
    {
     "name": "stdout",
     "output_type": "stream",
     "text": [
      "Found 30 job listings on page 117.\n"
     ]
    },
    {
     "name": "stderr",
     "output_type": "stream",
     "text": [
      "ページ処理中:  98%|█████████▊| 117/120 [40:59<01:06, 22.08s/it]"
     ]
    },
    {
     "name": "stdout",
     "output_type": "stream",
     "text": [
      "Found 30 job listings on page 118.\n"
     ]
    },
    {
     "name": "stderr",
     "output_type": "stream",
     "text": [
      "ページ処理中:  98%|█████████▊| 118/120 [41:20<00:43, 21.71s/it]"
     ]
    },
    {
     "name": "stdout",
     "output_type": "stream",
     "text": [
      "Found 30 job listings on page 119.\n"
     ]
    },
    {
     "name": "stderr",
     "output_type": "stream",
     "text": [
      "ページ処理中:  99%|█████████▉| 119/120 [41:40<00:21, 21.27s/it]"
     ]
    },
    {
     "name": "stdout",
     "output_type": "stream",
     "text": [
      "Found 26 job listings on page 120.\n"
     ]
    },
    {
     "name": "stderr",
     "output_type": "stream",
     "text": [
      "ページ処理中: 100%|██████████| 120/120 [42:00<00:00, 21.00s/it]\n"
     ]
    },
    {
     "data": {
      "text/html": [
       "<div>\n",
       "<style scoped>\n",
       "    .dataframe tbody tr th:only-of-type {\n",
       "        vertical-align: middle;\n",
       "    }\n",
       "\n",
       "    .dataframe tbody tr th {\n",
       "        vertical-align: top;\n",
       "    }\n",
       "\n",
       "    .dataframe thead th {\n",
       "        text-align: right;\n",
       "    }\n",
       "</style>\n",
       "<table border=\"1\" class=\"dataframe\">\n",
       "  <thead>\n",
       "    <tr style=\"text-align: right;\">\n",
       "      <th></th>\n",
       "      <th>company</th>\n",
       "      <th>title</th>\n",
       "      <th>salary</th>\n",
       "      <th>location</th>\n",
       "      <th>industry</th>\n",
       "      <th>detail_url</th>\n",
       "      <th>hiring_org_url</th>\n",
       "    </tr>\n",
       "  </thead>\n",
       "  <tbody>\n",
       "    <tr>\n",
       "      <th>0</th>\n",
       "      <td>阪急阪神マーケティングソリューションズ株式会社</td>\n",
       "      <td>WEBデザイナー　フレックス制／平均残業20h程度／阪急阪神東宝G案件｜Photoshop ...</td>\n",
       "      <td>420 万円 〜</td>\n",
       "      <td>大阪市北区中崎西２－４－１２ 梅田センタービル２６Ｆ</td>\n",
       "      <td>広告・デザイン・イベント ECサイト</td>\n",
       "      <td>https://se-navi.jp/jobs/1850</td>\n",
       "      <td>https://hhms.co.jp/</td>\n",
       "    </tr>\n",
       "    <tr>\n",
       "      <th>1</th>\n",
       "      <td>株式会社アイモバイル</td>\n",
       "      <td>【フレックス勤務／残業10h未満／17時退社可】東証プライム上場のIT企業を支える社内SE【...</td>\n",
       "      <td>500 万円 〜 700 万円</td>\n",
       "      <td>東京都 渋谷区桜丘町22－14 NESビルN棟 6F</td>\n",
       "      <td>ソフトウェア・情報処理</td>\n",
       "      <td>https://se-navi.jp/jobs/92252</td>\n",
       "      <td>https://www.i-mobile.co.jp/</td>\n",
       "    </tr>\n",
       "    <tr>\n",
       "      <th>2</th>\n",
       "      <td>株式会社SBI証券</td>\n",
       "      <td>【東京】社内SE　システム運用管理（SBIシンプレクス・ソリューションズ出向）案件｜AWS ...</td>\n",
       "      <td>400 万円 〜 800 万円</td>\n",
       "      <td>東京都 六本木三丁目１番１号</td>\n",
       "      <td>インターネット・通信</td>\n",
       "      <td>https://se-navi.jp/jobs/92190</td>\n",
       "      <td>https://www.sbisec.co.jp/ETGate</td>\n",
       "    </tr>\n",
       "    <tr>\n",
       "      <th>3</th>\n",
       "      <td>株式会社SBI証券</td>\n",
       "      <td>【東京】社内SE　プロジェクトマネージャー（SBIシンプレクス・ソリューションズ出向）案件｜...</td>\n",
       "      <td>600 万円 〜</td>\n",
       "      <td>六本木三丁目１番１号</td>\n",
       "      <td>インターネット・通信</td>\n",
       "      <td>https://se-navi.jp/jobs/92197</td>\n",
       "      <td>https://www.sbisec.co.jp/ETGate</td>\n",
       "    </tr>\n",
       "    <tr>\n",
       "      <th>4</th>\n",
       "      <td>株式会社SBI証券</td>\n",
       "      <td>AWS Solution Architect (Cybersecurity)（SBIシンプレ...</td>\n",
       "      <td>600 万円 〜 1000 万円</td>\n",
       "      <td>東京都 六本木</td>\n",
       "      <td>インターネット・通信</td>\n",
       "      <td>https://se-navi.jp/jobs/92166</td>\n",
       "      <td>https://www.sbisec.co.jp/ETGate</td>\n",
       "    </tr>\n",
       "    <tr>\n",
       "      <th>...</th>\n",
       "      <td>...</td>\n",
       "      <td>...</td>\n",
       "      <td>...</td>\n",
       "      <td>...</td>\n",
       "      <td>...</td>\n",
       "      <td>...</td>\n",
       "      <td>...</td>\n",
       "    </tr>\n",
       "    <tr>\n",
       "      <th>3315</th>\n",
       "      <td>スマートキャンプ株式会社</td>\n",
       "      <td>【SEOコンテンツ編集・制作ディレクション】〜国内最大級SaaS比較サイト\"BOXIL Sa...</td>\n",
       "      <td>450 万円 〜 750 万円</td>\n",
       "      <td></td>\n",
       "      <td>ソフトウェア・情報処理</td>\n",
       "      <td>https://se-navi.jp/jobs/93421</td>\n",
       "      <td>http://smartcamp.asia/</td>\n",
       "    </tr>\n",
       "    <tr>\n",
       "      <th>3316</th>\n",
       "      <td>スマートキャンプ株式会社</td>\n",
       "      <td>【Webマーケター（BOXIL）】〜国内最大級SaaSマーケティングプラットフォームのさらな...</td>\n",
       "      <td>500 万円 〜 750 万円</td>\n",
       "      <td>東京都 港区三田3-13-16 三田43MTビル13階</td>\n",
       "      <td>ソフトウェア・情報処理</td>\n",
       "      <td>https://se-navi.jp/jobs/93420</td>\n",
       "      <td>http://smartcamp.asia/</td>\n",
       "    </tr>\n",
       "    <tr>\n",
       "      <th>3317</th>\n",
       "      <td>AMBL株式会社</td>\n",
       "      <td>【AI開発プロジェクトマネージャー】弊社注力事業/AI技術を活用した顧客課題解決/AI開発P...</td>\n",
       "      <td>650 万円 〜 1200 万円</td>\n",
       "      <td>東京都 品川区大崎一丁目2番2号 アートヴィレッジ大崎セントラルタワー10階（本社）/在宅勤務</td>\n",
       "      <td>SIer</td>\n",
       "      <td>https://se-navi.jp/jobs/2244</td>\n",
       "      <td>https://www.ambl.co.jp/</td>\n",
       "    </tr>\n",
       "    <tr>\n",
       "      <th>3318</th>\n",
       "      <td>株式会社富士通ゼネラルＯＳテクノロジー</td>\n",
       "      <td>【自社プロダクトSE】医療現場を支える患者案内システム/上流工程から挑戦可！案件｜ 年収 ～...</td>\n",
       "      <td>500 万円 〜 750 万円</td>\n",
       "      <td>川崎市高津区末長3-3-17</td>\n",
       "      <td>SIer ソフトウェア・情報処理</td>\n",
       "      <td>https://se-navi.jp/jobs/94360</td>\n",
       "      <td>https://www.fujitsu-general.com/jp/fgot/</td>\n",
       "    </tr>\n",
       "    <tr>\n",
       "      <th>3319</th>\n",
       "      <td>株式会社富士通ゼネラルＯＳテクノロジー</td>\n",
       "      <td>【自社プロダクトSE】流通・外食システム開発／SaaSパッケージ開発案件｜ 年収 ～ 750万円</td>\n",
       "      <td>500 万円 〜 750 万円</td>\n",
       "      <td>■所在地 川崎市高津区末長3-3-17</td>\n",
       "      <td>SIer ソフトウェア・情報処理</td>\n",
       "      <td>https://se-navi.jp/jobs/94356</td>\n",
       "      <td>https://www.fujitsu-general.com/jp/fgot/</td>\n",
       "    </tr>\n",
       "  </tbody>\n",
       "</table>\n",
       "<p>3320 rows × 7 columns</p>\n",
       "</div>"
      ],
      "text/plain": [
       "                      company  \\\n",
       "0     阪急阪神マーケティングソリューションズ株式会社   \n",
       "1                  株式会社アイモバイル   \n",
       "2                   株式会社SBI証券   \n",
       "3                   株式会社SBI証券   \n",
       "4                   株式会社SBI証券   \n",
       "...                       ...   \n",
       "3315             スマートキャンプ株式会社   \n",
       "3316             スマートキャンプ株式会社   \n",
       "3317                 AMBL株式会社   \n",
       "3318      株式会社富士通ゼネラルＯＳテクノロジー   \n",
       "3319      株式会社富士通ゼネラルＯＳテクノロジー   \n",
       "\n",
       "                                                  title            salary  \\\n",
       "0     WEBデザイナー　フレックス制／平均残業20h程度／阪急阪神東宝G案件｜Photoshop ...          420 万円 〜   \n",
       "1     【フレックス勤務／残業10h未満／17時退社可】東証プライム上場のIT企業を支える社内SE【...   500 万円 〜 700 万円   \n",
       "2     【東京】社内SE　システム運用管理（SBIシンプレクス・ソリューションズ出向）案件｜AWS ...   400 万円 〜 800 万円   \n",
       "3     【東京】社内SE　プロジェクトマネージャー（SBIシンプレクス・ソリューションズ出向）案件｜...          600 万円 〜   \n",
       "4     AWS Solution Architect (Cybersecurity)（SBIシンプレ...  600 万円 〜 1000 万円   \n",
       "...                                                 ...               ...   \n",
       "3315  【SEOコンテンツ編集・制作ディレクション】〜国内最大級SaaS比較サイト\"BOXIL Sa...   450 万円 〜 750 万円   \n",
       "3316  【Webマーケター（BOXIL）】〜国内最大級SaaSマーケティングプラットフォームのさらな...   500 万円 〜 750 万円   \n",
       "3317  【AI開発プロジェクトマネージャー】弊社注力事業/AI技術を活用した顧客課題解決/AI開発P...  650 万円 〜 1200 万円   \n",
       "3318  【自社プロダクトSE】医療現場を支える患者案内システム/上流工程から挑戦可！案件｜ 年収 ～...   500 万円 〜 750 万円   \n",
       "3319   【自社プロダクトSE】流通・外食システム開発／SaaSパッケージ開発案件｜ 年収 ～ 750万円   500 万円 〜 750 万円   \n",
       "\n",
       "                                             location            industry  \\\n",
       "0                          大阪市北区中崎西２－４－１２ 梅田センタービル２６Ｆ  広告・デザイン・イベント ECサイト   \n",
       "1                          東京都 渋谷区桜丘町22－14 NESビルN棟 6F         ソフトウェア・情報処理   \n",
       "2                                      東京都 六本木三丁目１番１号          インターネット・通信   \n",
       "3                                          六本木三丁目１番１号          インターネット・通信   \n",
       "4                                             東京都 六本木          インターネット・通信   \n",
       "...                                               ...                 ...   \n",
       "3315                                                          ソフトウェア・情報処理   \n",
       "3316                      東京都 港区三田3-13-16 三田43MTビル13階         ソフトウェア・情報処理   \n",
       "3317  東京都 品川区大崎一丁目2番2号 アートヴィレッジ大崎セントラルタワー10階（本社）/在宅勤務                SIer   \n",
       "3318                                   川崎市高津区末長3-3-17    SIer ソフトウェア・情報処理   \n",
       "3319                              ■所在地 川崎市高津区末長3-3-17    SIer ソフトウェア・情報処理   \n",
       "\n",
       "                         detail_url                            hiring_org_url  \n",
       "0      https://se-navi.jp/jobs/1850                       https://hhms.co.jp/  \n",
       "1     https://se-navi.jp/jobs/92252               https://www.i-mobile.co.jp/  \n",
       "2     https://se-navi.jp/jobs/92190           https://www.sbisec.co.jp/ETGate  \n",
       "3     https://se-navi.jp/jobs/92197           https://www.sbisec.co.jp/ETGate  \n",
       "4     https://se-navi.jp/jobs/92166           https://www.sbisec.co.jp/ETGate  \n",
       "...                             ...                                       ...  \n",
       "3315  https://se-navi.jp/jobs/93421                    http://smartcamp.asia/  \n",
       "3316  https://se-navi.jp/jobs/93420                    http://smartcamp.asia/  \n",
       "3317   https://se-navi.jp/jobs/2244                   https://www.ambl.co.jp/  \n",
       "3318  https://se-navi.jp/jobs/94360  https://www.fujitsu-general.com/jp/fgot/  \n",
       "3319  https://se-navi.jp/jobs/94356  https://www.fujitsu-general.com/jp/fgot/  \n",
       "\n",
       "[3320 rows x 7 columns]"
      ]
     },
     "execution_count": 26,
     "metadata": {},
     "output_type": "execute_result"
    }
   ],
   "source": [
    "import requests\n",
    "from bs4 import BeautifulSoup\n",
    "import pandas as pd  # pandasをインポート\n",
    "import json  # jsonをインポート\n",
    "from tqdm import tqdm  # tqdmをインポート\n",
    "\n",
    "# データを格納するリスト\n",
    "jobs = []\n",
    "\n",
    "for page in tqdm(range(1, 121), desc=\"ページ処理中\"):\n",
    "    try:\n",
    "    # URLを指定\n",
    "        url = f'https://se-navi.jp/jobs?industries=5003&industries=5004&industries=5005&industries=5007&industries=5008&industries=5041&page={page}&sort=-publication_date_senavi'  # 実際のURLに置き換えてください\n",
    "\n",
    "        # ページを取得\n",
    "        response = requests.get(url)\n",
    "        soup = BeautifulSoup(response.content, 'html.parser')\n",
    "\n",
    "        # 各求人情報を取得\n",
    "        job_boxes = soup.select('.jobsBox')\n",
    "        print(f\"Found {len(job_boxes)} job listings on page {page}.\")\n",
    "        for job_box in job_boxes:\n",
    "            company = job_box.select_one('.jobsBox__company').text.strip()\n",
    "            title = job_box.select_one('.jobsBox__title').text.strip()\n",
    "            salary = ' '.join(job_box.select_one('.modTable__title--money + .modTable__item').text.split())\n",
    "            location = ' '.join(job_box.select_one('.modTable__title--map + .modTable__item').text.split())\n",
    "            industry = ' '.join(job_box.select_one('.modTable__title--cat + .modTable__item').text.split())\n",
    "            detail_url = 'https://se-navi.jp' + job_box.select_one('.modBtnMain--blue')['href']\n",
    "\n",
    "            # detail_urlにアクセスして追加情報を取得\n",
    "            detail_response = requests.get(detail_url)\n",
    "            detail_soup = BeautifulSoup(detail_response.content, 'html.parser')\n",
    "            script_tag = detail_soup.find('script', {'type': 'application/ld+json'})\n",
    "            hiring_org_url = None\n",
    "            if script_tag:\n",
    "                data = json.loads(script_tag.string)\n",
    "                for item in data:\n",
    "                    if item.get('@type') == 'JobPosting':\n",
    "                        hiring_org = item.get('hiringOrganization', {})\n",
    "                        hiring_org_url = hiring_org.get('sameAs')\n",
    "                        if hiring_org_url:\n",
    "                            if hiring_org_url.startswith('http://http://'):\n",
    "                                hiring_org_url = hiring_org_url.replace('http://http://', 'http://')\n",
    "                            if 'https:' in hiring_org_url and 'http://' in hiring_org_url:\n",
    "                                hiring_org_url = hiring_org_url.replace('http://', '')\n",
    "                        break\n",
    "\n",
    "            # データを辞書に格納\n",
    "            job_data = {\n",
    "                'company': company,\n",
    "                'title': title,\n",
    "                'salary': salary,\n",
    "                'location': location,\n",
    "                'industry': industry,\n",
    "                'detail_url': detail_url,\n",
    "                'hiring_org_url': hiring_org_url  # 追加情報を格納\n",
    "            }\n",
    "\n",
    "            # リストに追加\n",
    "            jobs.append(job_data)\n",
    "            \n",
    "    except Exception:\n",
    "        continue\n",
    "        \n",
    "# データフレームに変換\n",
    "df = pd.DataFrame(jobs)\n",
    "df.to_csv('se-scraping.csv', index=False, encoding='utf-8')"
   ]
  }
 ],
 "metadata": {
  "kernelspec": {
   "display_name": "Python 3 (ipykernel)",
   "language": "python",
   "name": "python3"
  },
  "language_info": {
   "codemirror_mode": {
    "name": "ipython",
    "version": 3
   },
   "file_extension": ".py",
   "mimetype": "text/x-python",
   "name": "python",
   "nbconvert_exporter": "python",
   "pygments_lexer": "ipython3",
   "version": "3.11.5"
  }
 },
 "nbformat": 4,
 "nbformat_minor": 5
}
