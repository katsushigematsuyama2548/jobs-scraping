{
 "cells": [
  {
   "cell_type": "code",
   "execution_count": 4,
   "id": "9fa7b6f3-1e13-45f3-86e3-2477db7623ee",
   "metadata": {
    "scrolled": true,
    "tags": []
   },
   "outputs": [
    {
     "name": "stderr",
     "output_type": "stream",
     "text": [
      "Processing pages 1 to 10:   0%|          | 0/10 [00:00<?, ?it/s]"
     ]
    },
    {
     "name": "stdout",
     "output_type": "stream",
     "text": [
      "Fetching page 1: https://doda.jp/DodaFront/View/JobSearchList.action?pic=1&ds=0&oc=03L%2C14L&so=50&ind=0101S%2C0103S%2C0107S&op=17&pf=0&ne=3%2C4&tp=1&page=1&prsrt=1\n",
      "Fetching page 2: https://doda.jp/DodaFront/View/JobSearchList.action?pic=1&ds=0&oc=03L%2C14L&so=50&ind=0101S%2C0103S%2C0107S&op=17&pf=0&ne=3%2C4&tp=1&page=2&prsrt=1\n",
      "Fetching page 3: https://doda.jp/DodaFront/View/JobSearchList.action?pic=1&ds=0&oc=03L%2C14L&so=50&ind=0101S%2C0103S%2C0107S&op=17&pf=0&ne=3%2C4&tp=1&page=3&prsrt=1\n",
      "Fetching page 4: https://doda.jp/DodaFront/View/JobSearchList.action?pic=1&ds=0&oc=03L%2C14L&so=50&ind=0101S%2C0103S%2C0107S&op=17&pf=0&ne=3%2C4&tp=1&page=4&prsrt=1\n",
      "Fetching page 5: https://doda.jp/DodaFront/View/JobSearchList.action?pic=1&ds=0&oc=03L%2C14L&so=50&ind=0101S%2C0103S%2C0107S&op=17&pf=0&ne=3%2C4&tp=1&page=5&prsrt=1\n",
      "Fetching page 6: https://doda.jp/DodaFront/View/JobSearchList.action?pic=1&ds=0&oc=03L%2C14L&so=50&ind=0101S%2C0103S%2C0107S&op=17&pf=0&ne=3%2C4&tp=1&page=6&prsrt=1\n",
      "Fetching page 7: https://doda.jp/DodaFront/View/JobSearchList.action?pic=1&ds=0&oc=03L%2C14L&so=50&ind=0101S%2C0103S%2C0107S&op=17&pf=0&ne=3%2C4&tp=1&page=7&prsrt=1\n",
      "Fetching page 8: https://doda.jp/DodaFront/View/JobSearchList.action?pic=1&ds=0&oc=03L%2C14L&so=50&ind=0101S%2C0103S%2C0107S&op=17&pf=0&ne=3%2C4&tp=1&page=8&prsrt=1\n",
      "Fetching page 9: https://doda.jp/DodaFront/View/JobSearchList.action?pic=1&ds=0&oc=03L%2C14L&so=50&ind=0101S%2C0103S%2C0107S&op=17&pf=0&ne=3%2C4&tp=1&page=9&prsrt=1\n",
      "Fetching page 10: https://doda.jp/DodaFront/View/JobSearchList.action?pic=1&ds=0&oc=03L%2C14L&so=50&ind=0101S%2C0103S%2C0107S&op=17&pf=0&ne=3%2C4&tp=1&page=10&prsrt=1\n"
     ]
    },
    {
     "name": "stderr",
     "output_type": "stream",
     "text": [
      "Processing pages 1 to 10: 100%|██████████| 10/10 [02:44<00:00, 16.49s/it]\n",
      "Processing pages 11 to 20:   0%|          | 0/10 [00:00<?, ?it/s]"
     ]
    },
    {
     "name": "stdout",
     "output_type": "stream",
     "text": [
      "Fetching page 11: https://doda.jp/DodaFront/View/JobSearchList.action?pic=1&ds=0&oc=03L%2C14L&so=50&ind=0101S%2C0103S%2C0107S&op=17&pf=0&ne=3%2C4&tp=1&page=11&prsrt=1\n",
      "Fetching page 12: https://doda.jp/DodaFront/View/JobSearchList.action?pic=1&ds=0&oc=03L%2C14L&so=50&ind=0101S%2C0103S%2C0107S&op=17&pf=0&ne=3%2C4&tp=1&page=12&prsrt=1\n",
      "Fetching page 13: https://doda.jp/DodaFront/View/JobSearchList.action?pic=1&ds=0&oc=03L%2C14L&so=50&ind=0101S%2C0103S%2C0107S&op=17&pf=0&ne=3%2C4&tp=1&page=13&prsrt=1\n",
      "Fetching page 14: https://doda.jp/DodaFront/View/JobSearchList.action?pic=1&ds=0&oc=03L%2C14L&so=50&ind=0101S%2C0103S%2C0107S&op=17&pf=0&ne=3%2C4&tp=1&page=14&prsrt=1\n",
      "Fetching page 15: https://doda.jp/DodaFront/View/JobSearchList.action?pic=1&ds=0&oc=03L%2C14L&so=50&ind=0101S%2C0103S%2C0107S&op=17&pf=0&ne=3%2C4&tp=1&page=15&prsrt=1\n",
      "Fetching page 16: https://doda.jp/DodaFront/View/JobSearchList.action?pic=1&ds=0&oc=03L%2C14L&so=50&ind=0101S%2C0103S%2C0107S&op=17&pf=0&ne=3%2C4&tp=1&page=16&prsrt=1\n",
      "Fetching page 17: https://doda.jp/DodaFront/View/JobSearchList.action?pic=1&ds=0&oc=03L%2C14L&so=50&ind=0101S%2C0103S%2C0107S&op=17&pf=0&ne=3%2C4&tp=1&page=17&prsrt=1\n",
      "Fetching page 18: https://doda.jp/DodaFront/View/JobSearchList.action?pic=1&ds=0&oc=03L%2C14L&so=50&ind=0101S%2C0103S%2C0107S&op=17&pf=0&ne=3%2C4&tp=1&page=18&prsrt=1\n",
      "Fetching page 19: https://doda.jp/DodaFront/View/JobSearchList.action?pic=1&ds=0&oc=03L%2C14L&so=50&ind=0101S%2C0103S%2C0107S&op=17&pf=0&ne=3%2C4&tp=1&page=19&prsrt=1\n",
      "Fetching page 20: https://doda.jp/DodaFront/View/JobSearchList.action?pic=1&ds=0&oc=03L%2C14L&so=50&ind=0101S%2C0103S%2C0107S&op=17&pf=0&ne=3%2C4&tp=1&page=20&prsrt=1\n"
     ]
    },
    {
     "name": "stderr",
     "output_type": "stream",
     "text": [
      "Processing pages 11 to 20: 100%|██████████| 10/10 [02:39<00:00, 16.00s/it]\n",
      "Processing pages 21 to 30:   0%|          | 0/10 [00:00<?, ?it/s]"
     ]
    },
    {
     "name": "stdout",
     "output_type": "stream",
     "text": [
      "Fetching page 21: https://doda.jp/DodaFront/View/JobSearchList.action?pic=1&ds=0&oc=03L%2C14L&so=50&ind=0101S%2C0103S%2C0107S&op=17&pf=0&ne=3%2C4&tp=1&page=21&prsrt=1\n",
      "Fetching page 22: https://doda.jp/DodaFront/View/JobSearchList.action?pic=1&ds=0&oc=03L%2C14L&so=50&ind=0101S%2C0103S%2C0107S&op=17&pf=0&ne=3%2C4&tp=1&page=22&prsrt=1\n",
      "Fetching page 23: https://doda.jp/DodaFront/View/JobSearchList.action?pic=1&ds=0&oc=03L%2C14L&so=50&ind=0101S%2C0103S%2C0107S&op=17&pf=0&ne=3%2C4&tp=1&page=23&prsrt=1\n",
      "Fetching page 24: https://doda.jp/DodaFront/View/JobSearchList.action?pic=1&ds=0&oc=03L%2C14L&so=50&ind=0101S%2C0103S%2C0107S&op=17&pf=0&ne=3%2C4&tp=1&page=24&prsrt=1\n",
      "Fetching page 25: https://doda.jp/DodaFront/View/JobSearchList.action?pic=1&ds=0&oc=03L%2C14L&so=50&ind=0101S%2C0103S%2C0107S&op=17&pf=0&ne=3%2C4&tp=1&page=25&prsrt=1\n",
      "Fetching page 26: https://doda.jp/DodaFront/View/JobSearchList.action?pic=1&ds=0&oc=03L%2C14L&so=50&ind=0101S%2C0103S%2C0107S&op=17&pf=0&ne=3%2C4&tp=1&page=26&prsrt=1\n",
      "Fetching page 27: https://doda.jp/DodaFront/View/JobSearchList.action?pic=1&ds=0&oc=03L%2C14L&so=50&ind=0101S%2C0103S%2C0107S&op=17&pf=0&ne=3%2C4&tp=1&page=27&prsrt=1\n",
      "Fetching page 28: https://doda.jp/DodaFront/View/JobSearchList.action?pic=1&ds=0&oc=03L%2C14L&so=50&ind=0101S%2C0103S%2C0107S&op=17&pf=0&ne=3%2C4&tp=1&page=28&prsrt=1\n",
      "Fetching page 29: https://doda.jp/DodaFront/View/JobSearchList.action?pic=1&ds=0&oc=03L%2C14L&so=50&ind=0101S%2C0103S%2C0107S&op=17&pf=0&ne=3%2C4&tp=1&page=29&prsrt=1\n",
      "Fetching page 30: https://doda.jp/DodaFront/View/JobSearchList.action?pic=1&ds=0&oc=03L%2C14L&so=50&ind=0101S%2C0103S%2C0107S&op=17&pf=0&ne=3%2C4&tp=1&page=30&prsrt=1\n"
     ]
    },
    {
     "name": "stderr",
     "output_type": "stream",
     "text": [
      "Processing pages 21 to 30: 100%|██████████| 10/10 [02:44<00:00, 16.42s/it]\n",
      "Processing pages 31 to 40:   0%|          | 0/10 [00:00<?, ?it/s]"
     ]
    },
    {
     "name": "stdout",
     "output_type": "stream",
     "text": [
      "Fetching page 31: https://doda.jp/DodaFront/View/JobSearchList.action?pic=1&ds=0&oc=03L%2C14L&so=50&ind=0101S%2C0103S%2C0107S&op=17&pf=0&ne=3%2C4&tp=1&page=31&prsrt=1\n",
      "Fetching page 32: https://doda.jp/DodaFront/View/JobSearchList.action?pic=1&ds=0&oc=03L%2C14L&so=50&ind=0101S%2C0103S%2C0107S&op=17&pf=0&ne=3%2C4&tp=1&page=32&prsrt=1\n",
      "Fetching page 33: https://doda.jp/DodaFront/View/JobSearchList.action?pic=1&ds=0&oc=03L%2C14L&so=50&ind=0101S%2C0103S%2C0107S&op=17&pf=0&ne=3%2C4&tp=1&page=33&prsrt=1\n",
      "Fetching page 34: https://doda.jp/DodaFront/View/JobSearchList.action?pic=1&ds=0&oc=03L%2C14L&so=50&ind=0101S%2C0103S%2C0107S&op=17&pf=0&ne=3%2C4&tp=1&page=34&prsrt=1\n",
      "Fetching page 35: https://doda.jp/DodaFront/View/JobSearchList.action?pic=1&ds=0&oc=03L%2C14L&so=50&ind=0101S%2C0103S%2C0107S&op=17&pf=0&ne=3%2C4&tp=1&page=35&prsrt=1\n",
      "Fetching page 36: https://doda.jp/DodaFront/View/JobSearchList.action?pic=1&ds=0&oc=03L%2C14L&so=50&ind=0101S%2C0103S%2C0107S&op=17&pf=0&ne=3%2C4&tp=1&page=36&prsrt=1\n",
      "Fetching page 37: https://doda.jp/DodaFront/View/JobSearchList.action?pic=1&ds=0&oc=03L%2C14L&so=50&ind=0101S%2C0103S%2C0107S&op=17&pf=0&ne=3%2C4&tp=1&page=37&prsrt=1\n",
      "Fetching page 38: https://doda.jp/DodaFront/View/JobSearchList.action?pic=1&ds=0&oc=03L%2C14L&so=50&ind=0101S%2C0103S%2C0107S&op=17&pf=0&ne=3%2C4&tp=1&page=38&prsrt=1\n",
      "Fetching page 39: https://doda.jp/DodaFront/View/JobSearchList.action?pic=1&ds=0&oc=03L%2C14L&so=50&ind=0101S%2C0103S%2C0107S&op=17&pf=0&ne=3%2C4&tp=1&page=39&prsrt=1\n",
      "Fetching page 40: https://doda.jp/DodaFront/View/JobSearchList.action?pic=1&ds=0&oc=03L%2C14L&so=50&ind=0101S%2C0103S%2C0107S&op=17&pf=0&ne=3%2C4&tp=1&page=40&prsrt=1\n"
     ]
    },
    {
     "name": "stderr",
     "output_type": "stream",
     "text": [
      "Processing pages 31 to 40: 100%|██████████| 10/10 [02:43<00:00, 16.39s/it]\n",
      "Processing pages 41 to 50:   0%|          | 0/10 [00:00<?, ?it/s]"
     ]
    },
    {
     "name": "stdout",
     "output_type": "stream",
     "text": [
      "Fetching page 41: https://doda.jp/DodaFront/View/JobSearchList.action?pic=1&ds=0&oc=03L%2C14L&so=50&ind=0101S%2C0103S%2C0107S&op=17&pf=0&ne=3%2C4&tp=1&page=41&prsrt=1\n",
      "Fetching page 42: https://doda.jp/DodaFront/View/JobSearchList.action?pic=1&ds=0&oc=03L%2C14L&so=50&ind=0101S%2C0103S%2C0107S&op=17&pf=0&ne=3%2C4&tp=1&page=42&prsrt=1\n",
      "Fetching page 43: https://doda.jp/DodaFront/View/JobSearchList.action?pic=1&ds=0&oc=03L%2C14L&so=50&ind=0101S%2C0103S%2C0107S&op=17&pf=0&ne=3%2C4&tp=1&page=43&prsrt=1\n",
      "Fetching page 44: https://doda.jp/DodaFront/View/JobSearchList.action?pic=1&ds=0&oc=03L%2C14L&so=50&ind=0101S%2C0103S%2C0107S&op=17&pf=0&ne=3%2C4&tp=1&page=44&prsrt=1\n",
      "Fetching page 45: https://doda.jp/DodaFront/View/JobSearchList.action?pic=1&ds=0&oc=03L%2C14L&so=50&ind=0101S%2C0103S%2C0107S&op=17&pf=0&ne=3%2C4&tp=1&page=45&prsrt=1\n",
      "Fetching page 46: https://doda.jp/DodaFront/View/JobSearchList.action?pic=1&ds=0&oc=03L%2C14L&so=50&ind=0101S%2C0103S%2C0107S&op=17&pf=0&ne=3%2C4&tp=1&page=46&prsrt=1\n",
      "Fetching page 47: https://doda.jp/DodaFront/View/JobSearchList.action?pic=1&ds=0&oc=03L%2C14L&so=50&ind=0101S%2C0103S%2C0107S&op=17&pf=0&ne=3%2C4&tp=1&page=47&prsrt=1\n",
      "Fetching page 48: https://doda.jp/DodaFront/View/JobSearchList.action?pic=1&ds=0&oc=03L%2C14L&so=50&ind=0101S%2C0103S%2C0107S&op=17&pf=0&ne=3%2C4&tp=1&page=48&prsrt=1\n",
      "Fetching page 49: https://doda.jp/DodaFront/View/JobSearchList.action?pic=1&ds=0&oc=03L%2C14L&so=50&ind=0101S%2C0103S%2C0107S&op=17&pf=0&ne=3%2C4&tp=1&page=49&prsrt=1\n",
      "Fetching page 50: https://doda.jp/DodaFront/View/JobSearchList.action?pic=1&ds=0&oc=03L%2C14L&so=50&ind=0101S%2C0103S%2C0107S&op=17&pf=0&ne=3%2C4&tp=1&page=50&prsrt=1\n"
     ]
    },
    {
     "name": "stderr",
     "output_type": "stream",
     "text": [
      "Processing pages 41 to 50: 100%|██████████| 10/10 [02:39<00:00, 15.96s/it]\n",
      "Processing pages 51 to 60:   0%|          | 0/10 [00:00<?, ?it/s]"
     ]
    },
    {
     "name": "stdout",
     "output_type": "stream",
     "text": [
      "Fetching page 51: https://doda.jp/DodaFront/View/JobSearchList.action?pic=1&ds=0&oc=03L%2C14L&so=50&ind=0101S%2C0103S%2C0107S&op=17&pf=0&ne=3%2C4&tp=1&page=51&prsrt=1\n",
      "Fetching page 52: https://doda.jp/DodaFront/View/JobSearchList.action?pic=1&ds=0&oc=03L%2C14L&so=50&ind=0101S%2C0103S%2C0107S&op=17&pf=0&ne=3%2C4&tp=1&page=52&prsrt=1\n",
      "Fetching page 53: https://doda.jp/DodaFront/View/JobSearchList.action?pic=1&ds=0&oc=03L%2C14L&so=50&ind=0101S%2C0103S%2C0107S&op=17&pf=0&ne=3%2C4&tp=1&page=53&prsrt=1\n",
      "Fetching page 54: https://doda.jp/DodaFront/View/JobSearchList.action?pic=1&ds=0&oc=03L%2C14L&so=50&ind=0101S%2C0103S%2C0107S&op=17&pf=0&ne=3%2C4&tp=1&page=54&prsrt=1\n",
      "Fetching page 55: https://doda.jp/DodaFront/View/JobSearchList.action?pic=1&ds=0&oc=03L%2C14L&so=50&ind=0101S%2C0103S%2C0107S&op=17&pf=0&ne=3%2C4&tp=1&page=55&prsrt=1\n",
      "Fetching page 56: https://doda.jp/DodaFront/View/JobSearchList.action?pic=1&ds=0&oc=03L%2C14L&so=50&ind=0101S%2C0103S%2C0107S&op=17&pf=0&ne=3%2C4&tp=1&page=56&prsrt=1\n",
      "Fetching page 57: https://doda.jp/DodaFront/View/JobSearchList.action?pic=1&ds=0&oc=03L%2C14L&so=50&ind=0101S%2C0103S%2C0107S&op=17&pf=0&ne=3%2C4&tp=1&page=57&prsrt=1\n",
      "Fetching page 58: https://doda.jp/DodaFront/View/JobSearchList.action?pic=1&ds=0&oc=03L%2C14L&so=50&ind=0101S%2C0103S%2C0107S&op=17&pf=0&ne=3%2C4&tp=1&page=58&prsrt=1\n",
      "Fetching page 59: https://doda.jp/DodaFront/View/JobSearchList.action?pic=1&ds=0&oc=03L%2C14L&so=50&ind=0101S%2C0103S%2C0107S&op=17&pf=0&ne=3%2C4&tp=1&page=59&prsrt=1\n",
      "Fetching page 60: https://doda.jp/DodaFront/View/JobSearchList.action?pic=1&ds=0&oc=03L%2C14L&so=50&ind=0101S%2C0103S%2C0107S&op=17&pf=0&ne=3%2C4&tp=1&page=60&prsrt=1\n"
     ]
    },
    {
     "name": "stderr",
     "output_type": "stream",
     "text": [
      "Processing pages 51 to 60: 100%|██████████| 10/10 [02:43<00:00, 16.37s/it]\n",
      "Processing pages 61 to 70:   0%|          | 0/10 [00:00<?, ?it/s]"
     ]
    },
    {
     "name": "stdout",
     "output_type": "stream",
     "text": [
      "Fetching page 61: https://doda.jp/DodaFront/View/JobSearchList.action?pic=1&ds=0&oc=03L%2C14L&so=50&ind=0101S%2C0103S%2C0107S&op=17&pf=0&ne=3%2C4&tp=1&page=61&prsrt=1\n",
      "Fetching page 62: https://doda.jp/DodaFront/View/JobSearchList.action?pic=1&ds=0&oc=03L%2C14L&so=50&ind=0101S%2C0103S%2C0107S&op=17&pf=0&ne=3%2C4&tp=1&page=62&prsrt=1\n",
      "Fetching page 63: https://doda.jp/DodaFront/View/JobSearchList.action?pic=1&ds=0&oc=03L%2C14L&so=50&ind=0101S%2C0103S%2C0107S&op=17&pf=0&ne=3%2C4&tp=1&page=63&prsrt=1\n",
      "Fetching page 64: https://doda.jp/DodaFront/View/JobSearchList.action?pic=1&ds=0&oc=03L%2C14L&so=50&ind=0101S%2C0103S%2C0107S&op=17&pf=0&ne=3%2C4&tp=1&page=64&prsrt=1\n",
      "Fetching page 65: https://doda.jp/DodaFront/View/JobSearchList.action?pic=1&ds=0&oc=03L%2C14L&so=50&ind=0101S%2C0103S%2C0107S&op=17&pf=0&ne=3%2C4&tp=1&page=65&prsrt=1\n",
      "Fetching page 66: https://doda.jp/DodaFront/View/JobSearchList.action?pic=1&ds=0&oc=03L%2C14L&so=50&ind=0101S%2C0103S%2C0107S&op=17&pf=0&ne=3%2C4&tp=1&page=66&prsrt=1\n",
      "Fetching page 67: https://doda.jp/DodaFront/View/JobSearchList.action?pic=1&ds=0&oc=03L%2C14L&so=50&ind=0101S%2C0103S%2C0107S&op=17&pf=0&ne=3%2C4&tp=1&page=67&prsrt=1\n",
      "Fetching page 68: https://doda.jp/DodaFront/View/JobSearchList.action?pic=1&ds=0&oc=03L%2C14L&so=50&ind=0101S%2C0103S%2C0107S&op=17&pf=0&ne=3%2C4&tp=1&page=68&prsrt=1\n",
      "Fetching page 69: https://doda.jp/DodaFront/View/JobSearchList.action?pic=1&ds=0&oc=03L%2C14L&so=50&ind=0101S%2C0103S%2C0107S&op=17&pf=0&ne=3%2C4&tp=1&page=69&prsrt=1\n",
      "Fetching page 70: https://doda.jp/DodaFront/View/JobSearchList.action?pic=1&ds=0&oc=03L%2C14L&so=50&ind=0101S%2C0103S%2C0107S&op=17&pf=0&ne=3%2C4&tp=1&page=70&prsrt=1\n"
     ]
    },
    {
     "name": "stderr",
     "output_type": "stream",
     "text": [
      "Processing pages 61 to 70: 100%|██████████| 10/10 [02:42<00:00, 16.22s/it]\n",
      "Processing pages 71 to 80:   0%|          | 0/10 [00:00<?, ?it/s]"
     ]
    },
    {
     "name": "stdout",
     "output_type": "stream",
     "text": [
      "Fetching page 71: https://doda.jp/DodaFront/View/JobSearchList.action?pic=1&ds=0&oc=03L%2C14L&so=50&ind=0101S%2C0103S%2C0107S&op=17&pf=0&ne=3%2C4&tp=1&page=71&prsrt=1\n",
      "Fetching page 72: https://doda.jp/DodaFront/View/JobSearchList.action?pic=1&ds=0&oc=03L%2C14L&so=50&ind=0101S%2C0103S%2C0107S&op=17&pf=0&ne=3%2C4&tp=1&page=72&prsrt=1\n",
      "Fetching page 73: https://doda.jp/DodaFront/View/JobSearchList.action?pic=1&ds=0&oc=03L%2C14L&so=50&ind=0101S%2C0103S%2C0107S&op=17&pf=0&ne=3%2C4&tp=1&page=73&prsrt=1\n",
      "Fetching page 74: https://doda.jp/DodaFront/View/JobSearchList.action?pic=1&ds=0&oc=03L%2C14L&so=50&ind=0101S%2C0103S%2C0107S&op=17&pf=0&ne=3%2C4&tp=1&page=74&prsrt=1\n",
      "Fetching page 75: https://doda.jp/DodaFront/View/JobSearchList.action?pic=1&ds=0&oc=03L%2C14L&so=50&ind=0101S%2C0103S%2C0107S&op=17&pf=0&ne=3%2C4&tp=1&page=75&prsrt=1\n",
      "Fetching page 76: https://doda.jp/DodaFront/View/JobSearchList.action?pic=1&ds=0&oc=03L%2C14L&so=50&ind=0101S%2C0103S%2C0107S&op=17&pf=0&ne=3%2C4&tp=1&page=76&prsrt=1\n",
      "Fetching page 77: https://doda.jp/DodaFront/View/JobSearchList.action?pic=1&ds=0&oc=03L%2C14L&so=50&ind=0101S%2C0103S%2C0107S&op=17&pf=0&ne=3%2C4&tp=1&page=77&prsrt=1\n",
      "Fetching page 78: https://doda.jp/DodaFront/View/JobSearchList.action?pic=1&ds=0&oc=03L%2C14L&so=50&ind=0101S%2C0103S%2C0107S&op=17&pf=0&ne=3%2C4&tp=1&page=78&prsrt=1\n",
      "Fetching page 79: https://doda.jp/DodaFront/View/JobSearchList.action?pic=1&ds=0&oc=03L%2C14L&so=50&ind=0101S%2C0103S%2C0107S&op=17&pf=0&ne=3%2C4&tp=1&page=79&prsrt=1\n",
      "Fetching page 80: https://doda.jp/DodaFront/View/JobSearchList.action?pic=1&ds=0&oc=03L%2C14L&so=50&ind=0101S%2C0103S%2C0107S&op=17&pf=0&ne=3%2C4&tp=1&page=80&prsrt=1\n"
     ]
    },
    {
     "name": "stderr",
     "output_type": "stream",
     "text": [
      "Processing pages 71 to 80: 100%|██████████| 10/10 [02:41<00:00, 16.19s/it]\n",
      "Processing pages 81 to 90:   0%|          | 0/10 [00:00<?, ?it/s]"
     ]
    },
    {
     "name": "stdout",
     "output_type": "stream",
     "text": [
      "Fetching page 81: https://doda.jp/DodaFront/View/JobSearchList.action?pic=1&ds=0&oc=03L%2C14L&so=50&ind=0101S%2C0103S%2C0107S&op=17&pf=0&ne=3%2C4&tp=1&page=81&prsrt=1\n",
      "Fetching page 82: https://doda.jp/DodaFront/View/JobSearchList.action?pic=1&ds=0&oc=03L%2C14L&so=50&ind=0101S%2C0103S%2C0107S&op=17&pf=0&ne=3%2C4&tp=1&page=82&prsrt=1\n",
      "Fetching page 83: https://doda.jp/DodaFront/View/JobSearchList.action?pic=1&ds=0&oc=03L%2C14L&so=50&ind=0101S%2C0103S%2C0107S&op=17&pf=0&ne=3%2C4&tp=1&page=83&prsrt=1\n",
      "Fetching page 84: https://doda.jp/DodaFront/View/JobSearchList.action?pic=1&ds=0&oc=03L%2C14L&so=50&ind=0101S%2C0103S%2C0107S&op=17&pf=0&ne=3%2C4&tp=1&page=84&prsrt=1\n",
      "Fetching page 85: https://doda.jp/DodaFront/View/JobSearchList.action?pic=1&ds=0&oc=03L%2C14L&so=50&ind=0101S%2C0103S%2C0107S&op=17&pf=0&ne=3%2C4&tp=1&page=85&prsrt=1\n",
      "Fetching page 86: https://doda.jp/DodaFront/View/JobSearchList.action?pic=1&ds=0&oc=03L%2C14L&so=50&ind=0101S%2C0103S%2C0107S&op=17&pf=0&ne=3%2C4&tp=1&page=86&prsrt=1\n",
      "Fetching page 87: https://doda.jp/DodaFront/View/JobSearchList.action?pic=1&ds=0&oc=03L%2C14L&so=50&ind=0101S%2C0103S%2C0107S&op=17&pf=0&ne=3%2C4&tp=1&page=87&prsrt=1\n",
      "Fetching page 88: https://doda.jp/DodaFront/View/JobSearchList.action?pic=1&ds=0&oc=03L%2C14L&so=50&ind=0101S%2C0103S%2C0107S&op=17&pf=0&ne=3%2C4&tp=1&page=88&prsrt=1\n",
      "Fetching page 89: https://doda.jp/DodaFront/View/JobSearchList.action?pic=1&ds=0&oc=03L%2C14L&so=50&ind=0101S%2C0103S%2C0107S&op=17&pf=0&ne=3%2C4&tp=1&page=89&prsrt=1\n",
      "Fetching page 90: https://doda.jp/DodaFront/View/JobSearchList.action?pic=1&ds=0&oc=03L%2C14L&so=50&ind=0101S%2C0103S%2C0107S&op=17&pf=0&ne=3%2C4&tp=1&page=90&prsrt=1\n"
     ]
    },
    {
     "name": "stderr",
     "output_type": "stream",
     "text": [
      "Processing pages 81 to 90: 100%|██████████| 10/10 [02:46<00:00, 16.60s/it]\n",
      "Processing pages 91 to 100:   0%|          | 0/10 [00:00<?, ?it/s]"
     ]
    },
    {
     "name": "stdout",
     "output_type": "stream",
     "text": [
      "Fetching page 91: https://doda.jp/DodaFront/View/JobSearchList.action?pic=1&ds=0&oc=03L%2C14L&so=50&ind=0101S%2C0103S%2C0107S&op=17&pf=0&ne=3%2C4&tp=1&page=91&prsrt=1\n",
      "Fetching page 92: https://doda.jp/DodaFront/View/JobSearchList.action?pic=1&ds=0&oc=03L%2C14L&so=50&ind=0101S%2C0103S%2C0107S&op=17&pf=0&ne=3%2C4&tp=1&page=92&prsrt=1\n",
      "Fetching page 93: https://doda.jp/DodaFront/View/JobSearchList.action?pic=1&ds=0&oc=03L%2C14L&so=50&ind=0101S%2C0103S%2C0107S&op=17&pf=0&ne=3%2C4&tp=1&page=93&prsrt=1\n",
      "Fetching page 94: https://doda.jp/DodaFront/View/JobSearchList.action?pic=1&ds=0&oc=03L%2C14L&so=50&ind=0101S%2C0103S%2C0107S&op=17&pf=0&ne=3%2C4&tp=1&page=94&prsrt=1\n",
      "Fetching page 95: https://doda.jp/DodaFront/View/JobSearchList.action?pic=1&ds=0&oc=03L%2C14L&so=50&ind=0101S%2C0103S%2C0107S&op=17&pf=0&ne=3%2C4&tp=1&page=95&prsrt=1\n",
      "Fetching page 96: https://doda.jp/DodaFront/View/JobSearchList.action?pic=1&ds=0&oc=03L%2C14L&so=50&ind=0101S%2C0103S%2C0107S&op=17&pf=0&ne=3%2C4&tp=1&page=96&prsrt=1\n",
      "Fetching page 97: https://doda.jp/DodaFront/View/JobSearchList.action?pic=1&ds=0&oc=03L%2C14L&so=50&ind=0101S%2C0103S%2C0107S&op=17&pf=0&ne=3%2C4&tp=1&page=97&prsrt=1\n",
      "Fetching page 98: https://doda.jp/DodaFront/View/JobSearchList.action?pic=1&ds=0&oc=03L%2C14L&so=50&ind=0101S%2C0103S%2C0107S&op=17&pf=0&ne=3%2C4&tp=1&page=98&prsrt=1\n",
      "Fetching page 99: https://doda.jp/DodaFront/View/JobSearchList.action?pic=1&ds=0&oc=03L%2C14L&so=50&ind=0101S%2C0103S%2C0107S&op=17&pf=0&ne=3%2C4&tp=1&page=99&prsrt=1\n",
      "Fetching page 100: https://doda.jp/DodaFront/View/JobSearchList.action?pic=1&ds=0&oc=03L%2C14L&so=50&ind=0101S%2C0103S%2C0107S&op=17&pf=0&ne=3%2C4&tp=1&page=100&prsrt=1\n"
     ]
    },
    {
     "name": "stderr",
     "output_type": "stream",
     "text": [
      "Processing pages 91 to 100: 100%|██████████| 10/10 [02:35<00:00, 15.58s/it]\n",
      "Processing pages 101 to 110:   0%|          | 0/10 [00:00<?, ?it/s]"
     ]
    },
    {
     "name": "stdout",
     "output_type": "stream",
     "text": [
      "Fetching page 101: https://doda.jp/DodaFront/View/JobSearchList.action?pic=1&ds=0&oc=03L%2C14L&so=50&ind=0101S%2C0103S%2C0107S&op=17&pf=0&ne=3%2C4&tp=1&page=101&prsrt=1\n",
      "Fetching page 102: https://doda.jp/DodaFront/View/JobSearchList.action?pic=1&ds=0&oc=03L%2C14L&so=50&ind=0101S%2C0103S%2C0107S&op=17&pf=0&ne=3%2C4&tp=1&page=102&prsrt=1\n",
      "Fetching page 103: https://doda.jp/DodaFront/View/JobSearchList.action?pic=1&ds=0&oc=03L%2C14L&so=50&ind=0101S%2C0103S%2C0107S&op=17&pf=0&ne=3%2C4&tp=1&page=103&prsrt=1\n",
      "Fetching page 104: https://doda.jp/DodaFront/View/JobSearchList.action?pic=1&ds=0&oc=03L%2C14L&so=50&ind=0101S%2C0103S%2C0107S&op=17&pf=0&ne=3%2C4&tp=1&page=104&prsrt=1\n",
      "Fetching page 105: https://doda.jp/DodaFront/View/JobSearchList.action?pic=1&ds=0&oc=03L%2C14L&so=50&ind=0101S%2C0103S%2C0107S&op=17&pf=0&ne=3%2C4&tp=1&page=105&prsrt=1\n",
      "Fetching page 106: https://doda.jp/DodaFront/View/JobSearchList.action?pic=1&ds=0&oc=03L%2C14L&so=50&ind=0101S%2C0103S%2C0107S&op=17&pf=0&ne=3%2C4&tp=1&page=106&prsrt=1\n",
      "Fetching page 107: https://doda.jp/DodaFront/View/JobSearchList.action?pic=1&ds=0&oc=03L%2C14L&so=50&ind=0101S%2C0103S%2C0107S&op=17&pf=0&ne=3%2C4&tp=1&page=107&prsrt=1\n",
      "Fetching page 108: https://doda.jp/DodaFront/View/JobSearchList.action?pic=1&ds=0&oc=03L%2C14L&so=50&ind=0101S%2C0103S%2C0107S&op=17&pf=0&ne=3%2C4&tp=1&page=108&prsrt=1\n",
      "Fetching page 109: https://doda.jp/DodaFront/View/JobSearchList.action?pic=1&ds=0&oc=03L%2C14L&so=50&ind=0101S%2C0103S%2C0107S&op=17&pf=0&ne=3%2C4&tp=1&page=109&prsrt=1\n",
      "Fetching page 110: https://doda.jp/DodaFront/View/JobSearchList.action?pic=1&ds=0&oc=03L%2C14L&so=50&ind=0101S%2C0103S%2C0107S&op=17&pf=0&ne=3%2C4&tp=1&page=110&prsrt=1\n"
     ]
    },
    {
     "name": "stderr",
     "output_type": "stream",
     "text": [
      "Processing pages 101 to 110: 100%|██████████| 10/10 [02:38<00:00, 15.86s/it]\n",
      "Processing pages 111 to 120:   0%|          | 0/10 [00:00<?, ?it/s]"
     ]
    },
    {
     "name": "stdout",
     "output_type": "stream",
     "text": [
      "Fetching page 111: https://doda.jp/DodaFront/View/JobSearchList.action?pic=1&ds=0&oc=03L%2C14L&so=50&ind=0101S%2C0103S%2C0107S&op=17&pf=0&ne=3%2C4&tp=1&page=111&prsrt=1\n",
      "Fetching page 112: https://doda.jp/DodaFront/View/JobSearchList.action?pic=1&ds=0&oc=03L%2C14L&so=50&ind=0101S%2C0103S%2C0107S&op=17&pf=0&ne=3%2C4&tp=1&page=112&prsrt=1\n",
      "Fetching page 113: https://doda.jp/DodaFront/View/JobSearchList.action?pic=1&ds=0&oc=03L%2C14L&so=50&ind=0101S%2C0103S%2C0107S&op=17&pf=0&ne=3%2C4&tp=1&page=113&prsrt=1\n",
      "Fetching page 114: https://doda.jp/DodaFront/View/JobSearchList.action?pic=1&ds=0&oc=03L%2C14L&so=50&ind=0101S%2C0103S%2C0107S&op=17&pf=0&ne=3%2C4&tp=1&page=114&prsrt=1\n",
      "Fetching page 115: https://doda.jp/DodaFront/View/JobSearchList.action?pic=1&ds=0&oc=03L%2C14L&so=50&ind=0101S%2C0103S%2C0107S&op=17&pf=0&ne=3%2C4&tp=1&page=115&prsrt=1\n",
      "Fetching page 116: https://doda.jp/DodaFront/View/JobSearchList.action?pic=1&ds=0&oc=03L%2C14L&so=50&ind=0101S%2C0103S%2C0107S&op=17&pf=0&ne=3%2C4&tp=1&page=116&prsrt=1\n",
      "Fetching page 117: https://doda.jp/DodaFront/View/JobSearchList.action?pic=1&ds=0&oc=03L%2C14L&so=50&ind=0101S%2C0103S%2C0107S&op=17&pf=0&ne=3%2C4&tp=1&page=117&prsrt=1\n",
      "Fetching page 118: https://doda.jp/DodaFront/View/JobSearchList.action?pic=1&ds=0&oc=03L%2C14L&so=50&ind=0101S%2C0103S%2C0107S&op=17&pf=0&ne=3%2C4&tp=1&page=118&prsrt=1\n",
      "Fetching page 119: https://doda.jp/DodaFront/View/JobSearchList.action?pic=1&ds=0&oc=03L%2C14L&so=50&ind=0101S%2C0103S%2C0107S&op=17&pf=0&ne=3%2C4&tp=1&page=119&prsrt=1\n",
      "Fetching page 120: https://doda.jp/DodaFront/View/JobSearchList.action?pic=1&ds=0&oc=03L%2C14L&so=50&ind=0101S%2C0103S%2C0107S&op=17&pf=0&ne=3%2C4&tp=1&page=120&prsrt=1\n"
     ]
    },
    {
     "name": "stderr",
     "output_type": "stream",
     "text": [
      "Processing pages 111 to 120: 100%|██████████| 10/10 [02:45<00:00, 16.60s/it]\n",
      "Processing pages 121 to 130:   0%|          | 0/10 [00:00<?, ?it/s]"
     ]
    },
    {
     "name": "stdout",
     "output_type": "stream",
     "text": [
      "Fetching page 121: https://doda.jp/DodaFront/View/JobSearchList.action?pic=1&ds=0&oc=03L%2C14L&so=50&ind=0101S%2C0103S%2C0107S&op=17&pf=0&ne=3%2C4&tp=1&page=121&prsrt=1\n",
      "Fetching page 122: https://doda.jp/DodaFront/View/JobSearchList.action?pic=1&ds=0&oc=03L%2C14L&so=50&ind=0101S%2C0103S%2C0107S&op=17&pf=0&ne=3%2C4&tp=1&page=122&prsrt=1\n",
      "Fetching page 123: https://doda.jp/DodaFront/View/JobSearchList.action?pic=1&ds=0&oc=03L%2C14L&so=50&ind=0101S%2C0103S%2C0107S&op=17&pf=0&ne=3%2C4&tp=1&page=123&prsrt=1\n",
      "Fetching page 124: https://doda.jp/DodaFront/View/JobSearchList.action?pic=1&ds=0&oc=03L%2C14L&so=50&ind=0101S%2C0103S%2C0107S&op=17&pf=0&ne=3%2C4&tp=1&page=124&prsrt=1\n",
      "Fetching page 125: https://doda.jp/DodaFront/View/JobSearchList.action?pic=1&ds=0&oc=03L%2C14L&so=50&ind=0101S%2C0103S%2C0107S&op=17&pf=0&ne=3%2C4&tp=1&page=125&prsrt=1\n",
      "Fetching page 126: https://doda.jp/DodaFront/View/JobSearchList.action?pic=1&ds=0&oc=03L%2C14L&so=50&ind=0101S%2C0103S%2C0107S&op=17&pf=0&ne=3%2C4&tp=1&page=126&prsrt=1\n",
      "Fetching page 127: https://doda.jp/DodaFront/View/JobSearchList.action?pic=1&ds=0&oc=03L%2C14L&so=50&ind=0101S%2C0103S%2C0107S&op=17&pf=0&ne=3%2C4&tp=1&page=127&prsrt=1\n",
      "Fetching page 128: https://doda.jp/DodaFront/View/JobSearchList.action?pic=1&ds=0&oc=03L%2C14L&so=50&ind=0101S%2C0103S%2C0107S&op=17&pf=0&ne=3%2C4&tp=1&page=128&prsrt=1\n",
      "Fetching page 129: https://doda.jp/DodaFront/View/JobSearchList.action?pic=1&ds=0&oc=03L%2C14L&so=50&ind=0101S%2C0103S%2C0107S&op=17&pf=0&ne=3%2C4&tp=1&page=129&prsrt=1\n",
      "Fetching page 130: https://doda.jp/DodaFront/View/JobSearchList.action?pic=1&ds=0&oc=03L%2C14L&so=50&ind=0101S%2C0103S%2C0107S&op=17&pf=0&ne=3%2C4&tp=1&page=130&prsrt=1\n"
     ]
    },
    {
     "name": "stderr",
     "output_type": "stream",
     "text": [
      "Processing pages 121 to 130: 100%|██████████| 10/10 [02:38<00:00, 15.88s/it]\n",
      "Processing pages 131 to 140:   0%|          | 0/10 [00:00<?, ?it/s]"
     ]
    },
    {
     "name": "stdout",
     "output_type": "stream",
     "text": [
      "Fetching page 131: https://doda.jp/DodaFront/View/JobSearchList.action?pic=1&ds=0&oc=03L%2C14L&so=50&ind=0101S%2C0103S%2C0107S&op=17&pf=0&ne=3%2C4&tp=1&page=131&prsrt=1\n",
      "Fetching page 132: https://doda.jp/DodaFront/View/JobSearchList.action?pic=1&ds=0&oc=03L%2C14L&so=50&ind=0101S%2C0103S%2C0107S&op=17&pf=0&ne=3%2C4&tp=1&page=132&prsrt=1\n",
      "Fetching page 133: https://doda.jp/DodaFront/View/JobSearchList.action?pic=1&ds=0&oc=03L%2C14L&so=50&ind=0101S%2C0103S%2C0107S&op=17&pf=0&ne=3%2C4&tp=1&page=133&prsrt=1\n",
      "Fetching page 134: https://doda.jp/DodaFront/View/JobSearchList.action?pic=1&ds=0&oc=03L%2C14L&so=50&ind=0101S%2C0103S%2C0107S&op=17&pf=0&ne=3%2C4&tp=1&page=134&prsrt=1\n",
      "Fetching page 135: https://doda.jp/DodaFront/View/JobSearchList.action?pic=1&ds=0&oc=03L%2C14L&so=50&ind=0101S%2C0103S%2C0107S&op=17&pf=0&ne=3%2C4&tp=1&page=135&prsrt=1\n",
      "Fetching page 136: https://doda.jp/DodaFront/View/JobSearchList.action?pic=1&ds=0&oc=03L%2C14L&so=50&ind=0101S%2C0103S%2C0107S&op=17&pf=0&ne=3%2C4&tp=1&page=136&prsrt=1\n",
      "Fetching page 137: https://doda.jp/DodaFront/View/JobSearchList.action?pic=1&ds=0&oc=03L%2C14L&so=50&ind=0101S%2C0103S%2C0107S&op=17&pf=0&ne=3%2C4&tp=1&page=137&prsrt=1\n",
      "Fetching page 138: https://doda.jp/DodaFront/View/JobSearchList.action?pic=1&ds=0&oc=03L%2C14L&so=50&ind=0101S%2C0103S%2C0107S&op=17&pf=0&ne=3%2C4&tp=1&page=138&prsrt=1\n",
      "Fetching page 139: https://doda.jp/DodaFront/View/JobSearchList.action?pic=1&ds=0&oc=03L%2C14L&so=50&ind=0101S%2C0103S%2C0107S&op=17&pf=0&ne=3%2C4&tp=1&page=139&prsrt=1\n",
      "Fetching page 140: https://doda.jp/DodaFront/View/JobSearchList.action?pic=1&ds=0&oc=03L%2C14L&so=50&ind=0101S%2C0103S%2C0107S&op=17&pf=0&ne=3%2C4&tp=1&page=140&prsrt=1\n"
     ]
    },
    {
     "name": "stderr",
     "output_type": "stream",
     "text": [
      "Processing pages 131 to 140: 100%|██████████| 10/10 [02:44<00:00, 16.43s/it]\n",
      "Processing pages 141 to 150:   0%|          | 0/10 [00:00<?, ?it/s]"
     ]
    },
    {
     "name": "stdout",
     "output_type": "stream",
     "text": [
      "Fetching page 141: https://doda.jp/DodaFront/View/JobSearchList.action?pic=1&ds=0&oc=03L%2C14L&so=50&ind=0101S%2C0103S%2C0107S&op=17&pf=0&ne=3%2C4&tp=1&page=141&prsrt=1\n",
      "Fetching page 142: https://doda.jp/DodaFront/View/JobSearchList.action?pic=1&ds=0&oc=03L%2C14L&so=50&ind=0101S%2C0103S%2C0107S&op=17&pf=0&ne=3%2C4&tp=1&page=142&prsrt=1\n",
      "Fetching page 143: https://doda.jp/DodaFront/View/JobSearchList.action?pic=1&ds=0&oc=03L%2C14L&so=50&ind=0101S%2C0103S%2C0107S&op=17&pf=0&ne=3%2C4&tp=1&page=143&prsrt=1\n",
      "Fetching page 144: https://doda.jp/DodaFront/View/JobSearchList.action?pic=1&ds=0&oc=03L%2C14L&so=50&ind=0101S%2C0103S%2C0107S&op=17&pf=0&ne=3%2C4&tp=1&page=144&prsrt=1\n",
      "Fetching page 145: https://doda.jp/DodaFront/View/JobSearchList.action?pic=1&ds=0&oc=03L%2C14L&so=50&ind=0101S%2C0103S%2C0107S&op=17&pf=0&ne=3%2C4&tp=1&page=145&prsrt=1\n",
      "Fetching page 146: https://doda.jp/DodaFront/View/JobSearchList.action?pic=1&ds=0&oc=03L%2C14L&so=50&ind=0101S%2C0103S%2C0107S&op=17&pf=0&ne=3%2C4&tp=1&page=146&prsrt=1\n",
      "Fetching page 147: https://doda.jp/DodaFront/View/JobSearchList.action?pic=1&ds=0&oc=03L%2C14L&so=50&ind=0101S%2C0103S%2C0107S&op=17&pf=0&ne=3%2C4&tp=1&page=147&prsrt=1\n",
      "Fetching page 148: https://doda.jp/DodaFront/View/JobSearchList.action?pic=1&ds=0&oc=03L%2C14L&so=50&ind=0101S%2C0103S%2C0107S&op=17&pf=0&ne=3%2C4&tp=1&page=148&prsrt=1\n",
      "Fetching page 149: https://doda.jp/DodaFront/View/JobSearchList.action?pic=1&ds=0&oc=03L%2C14L&so=50&ind=0101S%2C0103S%2C0107S&op=17&pf=0&ne=3%2C4&tp=1&page=149&prsrt=1\n",
      "Fetching page 150: https://doda.jp/DodaFront/View/JobSearchList.action?pic=1&ds=0&oc=03L%2C14L&so=50&ind=0101S%2C0103S%2C0107S&op=17&pf=0&ne=3%2C4&tp=1&page=150&prsrt=1\n"
     ]
    },
    {
     "name": "stderr",
     "output_type": "stream",
     "text": [
      "Processing pages 141 to 150: 100%|██████████| 10/10 [02:41<00:00, 16.19s/it]\n",
      "Processing pages 151 to 160:   0%|          | 0/10 [00:00<?, ?it/s]"
     ]
    },
    {
     "name": "stdout",
     "output_type": "stream",
     "text": [
      "Fetching page 151: https://doda.jp/DodaFront/View/JobSearchList.action?pic=1&ds=0&oc=03L%2C14L&so=50&ind=0101S%2C0103S%2C0107S&op=17&pf=0&ne=3%2C4&tp=1&page=151&prsrt=1\n",
      "Fetching page 152: https://doda.jp/DodaFront/View/JobSearchList.action?pic=1&ds=0&oc=03L%2C14L&so=50&ind=0101S%2C0103S%2C0107S&op=17&pf=0&ne=3%2C4&tp=1&page=152&prsrt=1\n",
      "Fetching page 153: https://doda.jp/DodaFront/View/JobSearchList.action?pic=1&ds=0&oc=03L%2C14L&so=50&ind=0101S%2C0103S%2C0107S&op=17&pf=0&ne=3%2C4&tp=1&page=153&prsrt=1\n",
      "Fetching page 154: https://doda.jp/DodaFront/View/JobSearchList.action?pic=1&ds=0&oc=03L%2C14L&so=50&ind=0101S%2C0103S%2C0107S&op=17&pf=0&ne=3%2C4&tp=1&page=154&prsrt=1\n",
      "Fetching page 155: https://doda.jp/DodaFront/View/JobSearchList.action?pic=1&ds=0&oc=03L%2C14L&so=50&ind=0101S%2C0103S%2C0107S&op=17&pf=0&ne=3%2C4&tp=1&page=155&prsrt=1\n",
      "Fetching page 156: https://doda.jp/DodaFront/View/JobSearchList.action?pic=1&ds=0&oc=03L%2C14L&so=50&ind=0101S%2C0103S%2C0107S&op=17&pf=0&ne=3%2C4&tp=1&page=156&prsrt=1\n",
      "Fetching page 157: https://doda.jp/DodaFront/View/JobSearchList.action?pic=1&ds=0&oc=03L%2C14L&so=50&ind=0101S%2C0103S%2C0107S&op=17&pf=0&ne=3%2C4&tp=1&page=157&prsrt=1\n",
      "Fetching page 158: https://doda.jp/DodaFront/View/JobSearchList.action?pic=1&ds=0&oc=03L%2C14L&so=50&ind=0101S%2C0103S%2C0107S&op=17&pf=0&ne=3%2C4&tp=1&page=158&prsrt=1\n",
      "Fetching page 159: https://doda.jp/DodaFront/View/JobSearchList.action?pic=1&ds=0&oc=03L%2C14L&so=50&ind=0101S%2C0103S%2C0107S&op=17&pf=0&ne=3%2C4&tp=1&page=159&prsrt=1\n",
      "Fetching page 160: https://doda.jp/DodaFront/View/JobSearchList.action?pic=1&ds=0&oc=03L%2C14L&so=50&ind=0101S%2C0103S%2C0107S&op=17&pf=0&ne=3%2C4&tp=1&page=160&prsrt=1\n"
     ]
    },
    {
     "name": "stderr",
     "output_type": "stream",
     "text": [
      "Processing pages 151 to 160: 100%|██████████| 10/10 [02:43<00:00, 16.33s/it]\n",
      "Processing pages 161 to 170:   0%|          | 0/10 [00:00<?, ?it/s]"
     ]
    },
    {
     "name": "stdout",
     "output_type": "stream",
     "text": [
      "Fetching page 161: https://doda.jp/DodaFront/View/JobSearchList.action?pic=1&ds=0&oc=03L%2C14L&so=50&ind=0101S%2C0103S%2C0107S&op=17&pf=0&ne=3%2C4&tp=1&page=161&prsrt=1\n",
      "Fetching page 162: https://doda.jp/DodaFront/View/JobSearchList.action?pic=1&ds=0&oc=03L%2C14L&so=50&ind=0101S%2C0103S%2C0107S&op=17&pf=0&ne=3%2C4&tp=1&page=162&prsrt=1\n",
      "Fetching page 163: https://doda.jp/DodaFront/View/JobSearchList.action?pic=1&ds=0&oc=03L%2C14L&so=50&ind=0101S%2C0103S%2C0107S&op=17&pf=0&ne=3%2C4&tp=1&page=163&prsrt=1\n",
      "Fetching page 164: https://doda.jp/DodaFront/View/JobSearchList.action?pic=1&ds=0&oc=03L%2C14L&so=50&ind=0101S%2C0103S%2C0107S&op=17&pf=0&ne=3%2C4&tp=1&page=164&prsrt=1\n",
      "Fetching page 165: https://doda.jp/DodaFront/View/JobSearchList.action?pic=1&ds=0&oc=03L%2C14L&so=50&ind=0101S%2C0103S%2C0107S&op=17&pf=0&ne=3%2C4&tp=1&page=165&prsrt=1\n",
      "Fetching page 166: https://doda.jp/DodaFront/View/JobSearchList.action?pic=1&ds=0&oc=03L%2C14L&so=50&ind=0101S%2C0103S%2C0107S&op=17&pf=0&ne=3%2C4&tp=1&page=166&prsrt=1\n",
      "Fetching page 167: https://doda.jp/DodaFront/View/JobSearchList.action?pic=1&ds=0&oc=03L%2C14L&so=50&ind=0101S%2C0103S%2C0107S&op=17&pf=0&ne=3%2C4&tp=1&page=167&prsrt=1\n",
      "Fetching page 168: https://doda.jp/DodaFront/View/JobSearchList.action?pic=1&ds=0&oc=03L%2C14L&so=50&ind=0101S%2C0103S%2C0107S&op=17&pf=0&ne=3%2C4&tp=1&page=168&prsrt=1\n",
      "Fetching page 169: https://doda.jp/DodaFront/View/JobSearchList.action?pic=1&ds=0&oc=03L%2C14L&so=50&ind=0101S%2C0103S%2C0107S&op=17&pf=0&ne=3%2C4&tp=1&page=169&prsrt=1\n",
      "Fetching page 170: https://doda.jp/DodaFront/View/JobSearchList.action?pic=1&ds=0&oc=03L%2C14L&so=50&ind=0101S%2C0103S%2C0107S&op=17&pf=0&ne=3%2C4&tp=1&page=170&prsrt=1\n"
     ]
    },
    {
     "name": "stderr",
     "output_type": "stream",
     "text": [
      "Processing pages 161 to 170: 100%|██████████| 10/10 [02:39<00:00, 15.99s/it]\n",
      "Processing pages 171 to 180:   0%|          | 0/10 [00:00<?, ?it/s]"
     ]
    },
    {
     "name": "stdout",
     "output_type": "stream",
     "text": [
      "Fetching page 171: https://doda.jp/DodaFront/View/JobSearchList.action?pic=1&ds=0&oc=03L%2C14L&so=50&ind=0101S%2C0103S%2C0107S&op=17&pf=0&ne=3%2C4&tp=1&page=171&prsrt=1\n",
      "Fetching page 172: https://doda.jp/DodaFront/View/JobSearchList.action?pic=1&ds=0&oc=03L%2C14L&so=50&ind=0101S%2C0103S%2C0107S&op=17&pf=0&ne=3%2C4&tp=1&page=172&prsrt=1\n",
      "Fetching page 173: https://doda.jp/DodaFront/View/JobSearchList.action?pic=1&ds=0&oc=03L%2C14L&so=50&ind=0101S%2C0103S%2C0107S&op=17&pf=0&ne=3%2C4&tp=1&page=173&prsrt=1\n",
      "Fetching page 174: https://doda.jp/DodaFront/View/JobSearchList.action?pic=1&ds=0&oc=03L%2C14L&so=50&ind=0101S%2C0103S%2C0107S&op=17&pf=0&ne=3%2C4&tp=1&page=174&prsrt=1\n",
      "Fetching page 175: https://doda.jp/DodaFront/View/JobSearchList.action?pic=1&ds=0&oc=03L%2C14L&so=50&ind=0101S%2C0103S%2C0107S&op=17&pf=0&ne=3%2C4&tp=1&page=175&prsrt=1\n",
      "Fetching page 176: https://doda.jp/DodaFront/View/JobSearchList.action?pic=1&ds=0&oc=03L%2C14L&so=50&ind=0101S%2C0103S%2C0107S&op=17&pf=0&ne=3%2C4&tp=1&page=176&prsrt=1\n",
      "Fetching page 177: https://doda.jp/DodaFront/View/JobSearchList.action?pic=1&ds=0&oc=03L%2C14L&so=50&ind=0101S%2C0103S%2C0107S&op=17&pf=0&ne=3%2C4&tp=1&page=177&prsrt=1\n",
      "Fetching page 178: https://doda.jp/DodaFront/View/JobSearchList.action?pic=1&ds=0&oc=03L%2C14L&so=50&ind=0101S%2C0103S%2C0107S&op=17&pf=0&ne=3%2C4&tp=1&page=178&prsrt=1\n",
      "Fetching page 179: https://doda.jp/DodaFront/View/JobSearchList.action?pic=1&ds=0&oc=03L%2C14L&so=50&ind=0101S%2C0103S%2C0107S&op=17&pf=0&ne=3%2C4&tp=1&page=179&prsrt=1\n",
      "Fetching page 180: https://doda.jp/DodaFront/View/JobSearchList.action?pic=1&ds=0&oc=03L%2C14L&so=50&ind=0101S%2C0103S%2C0107S&op=17&pf=0&ne=3%2C4&tp=1&page=180&prsrt=1\n"
     ]
    },
    {
     "name": "stderr",
     "output_type": "stream",
     "text": [
      "Processing pages 171 to 180: 100%|██████████| 10/10 [02:45<00:00, 16.57s/it]\n",
      "Processing pages 181 to 190:   0%|          | 0/10 [00:00<?, ?it/s]"
     ]
    },
    {
     "name": "stdout",
     "output_type": "stream",
     "text": [
      "Fetching page 181: https://doda.jp/DodaFront/View/JobSearchList.action?pic=1&ds=0&oc=03L%2C14L&so=50&ind=0101S%2C0103S%2C0107S&op=17&pf=0&ne=3%2C4&tp=1&page=181&prsrt=1\n",
      "Fetching page 182: https://doda.jp/DodaFront/View/JobSearchList.action?pic=1&ds=0&oc=03L%2C14L&so=50&ind=0101S%2C0103S%2C0107S&op=17&pf=0&ne=3%2C4&tp=1&page=182&prsrt=1\n",
      "Fetching page 183: https://doda.jp/DodaFront/View/JobSearchList.action?pic=1&ds=0&oc=03L%2C14L&so=50&ind=0101S%2C0103S%2C0107S&op=17&pf=0&ne=3%2C4&tp=1&page=183&prsrt=1\n",
      "Fetching page 184: https://doda.jp/DodaFront/View/JobSearchList.action?pic=1&ds=0&oc=03L%2C14L&so=50&ind=0101S%2C0103S%2C0107S&op=17&pf=0&ne=3%2C4&tp=1&page=184&prsrt=1\n",
      "Fetching page 185: https://doda.jp/DodaFront/View/JobSearchList.action?pic=1&ds=0&oc=03L%2C14L&so=50&ind=0101S%2C0103S%2C0107S&op=17&pf=0&ne=3%2C4&tp=1&page=185&prsrt=1\n",
      "Fetching page 186: https://doda.jp/DodaFront/View/JobSearchList.action?pic=1&ds=0&oc=03L%2C14L&so=50&ind=0101S%2C0103S%2C0107S&op=17&pf=0&ne=3%2C4&tp=1&page=186&prsrt=1\n",
      "Fetching page 187: https://doda.jp/DodaFront/View/JobSearchList.action?pic=1&ds=0&oc=03L%2C14L&so=50&ind=0101S%2C0103S%2C0107S&op=17&pf=0&ne=3%2C4&tp=1&page=187&prsrt=1\n",
      "Fetching page 188: https://doda.jp/DodaFront/View/JobSearchList.action?pic=1&ds=0&oc=03L%2C14L&so=50&ind=0101S%2C0103S%2C0107S&op=17&pf=0&ne=3%2C4&tp=1&page=188&prsrt=1\n",
      "Fetching page 189: https://doda.jp/DodaFront/View/JobSearchList.action?pic=1&ds=0&oc=03L%2C14L&so=50&ind=0101S%2C0103S%2C0107S&op=17&pf=0&ne=3%2C4&tp=1&page=189&prsrt=1\n",
      "Fetching page 190: https://doda.jp/DodaFront/View/JobSearchList.action?pic=1&ds=0&oc=03L%2C14L&so=50&ind=0101S%2C0103S%2C0107S&op=17&pf=0&ne=3%2C4&tp=1&page=190&prsrt=1\n"
     ]
    },
    {
     "name": "stderr",
     "output_type": "stream",
     "text": [
      "Processing pages 181 to 190: 100%|██████████| 10/10 [02:37<00:00, 15.72s/it]\n",
      "Processing pages 191 to 200:   0%|          | 0/10 [00:00<?, ?it/s]"
     ]
    },
    {
     "name": "stdout",
     "output_type": "stream",
     "text": [
      "Fetching page 191: https://doda.jp/DodaFront/View/JobSearchList.action?pic=1&ds=0&oc=03L%2C14L&so=50&ind=0101S%2C0103S%2C0107S&op=17&pf=0&ne=3%2C4&tp=1&page=191&prsrt=1\n",
      "Fetching page 192: https://doda.jp/DodaFront/View/JobSearchList.action?pic=1&ds=0&oc=03L%2C14L&so=50&ind=0101S%2C0103S%2C0107S&op=17&pf=0&ne=3%2C4&tp=1&page=192&prsrt=1\n",
      "Fetching page 193: https://doda.jp/DodaFront/View/JobSearchList.action?pic=1&ds=0&oc=03L%2C14L&so=50&ind=0101S%2C0103S%2C0107S&op=17&pf=0&ne=3%2C4&tp=1&page=193&prsrt=1\n",
      "Fetching page 194: https://doda.jp/DodaFront/View/JobSearchList.action?pic=1&ds=0&oc=03L%2C14L&so=50&ind=0101S%2C0103S%2C0107S&op=17&pf=0&ne=3%2C4&tp=1&page=194&prsrt=1\n",
      "Fetching page 195: https://doda.jp/DodaFront/View/JobSearchList.action?pic=1&ds=0&oc=03L%2C14L&so=50&ind=0101S%2C0103S%2C0107S&op=17&pf=0&ne=3%2C4&tp=1&page=195&prsrt=1\n",
      "Fetching page 196: https://doda.jp/DodaFront/View/JobSearchList.action?pic=1&ds=0&oc=03L%2C14L&so=50&ind=0101S%2C0103S%2C0107S&op=17&pf=0&ne=3%2C4&tp=1&page=196&prsrt=1\n",
      "Fetching page 197: https://doda.jp/DodaFront/View/JobSearchList.action?pic=1&ds=0&oc=03L%2C14L&so=50&ind=0101S%2C0103S%2C0107S&op=17&pf=0&ne=3%2C4&tp=1&page=197&prsrt=1\n",
      "Fetching page 198: https://doda.jp/DodaFront/View/JobSearchList.action?pic=1&ds=0&oc=03L%2C14L&so=50&ind=0101S%2C0103S%2C0107S&op=17&pf=0&ne=3%2C4&tp=1&page=198&prsrt=1\n",
      "Fetching page 199: https://doda.jp/DodaFront/View/JobSearchList.action?pic=1&ds=0&oc=03L%2C14L&so=50&ind=0101S%2C0103S%2C0107S&op=17&pf=0&ne=3%2C4&tp=1&page=199&prsrt=1\n",
      "Fetching page 200: https://doda.jp/DodaFront/View/JobSearchList.action?pic=1&ds=0&oc=03L%2C14L&so=50&ind=0101S%2C0103S%2C0107S&op=17&pf=0&ne=3%2C4&tp=1&page=200&prsrt=1\n"
     ]
    },
    {
     "name": "stderr",
     "output_type": "stream",
     "text": [
      "Processing pages 191 to 200: 100%|██████████| 10/10 [02:38<00:00, 15.85s/it]\n",
      "Processing pages 201 to 210:   0%|          | 0/10 [00:00<?, ?it/s]"
     ]
    },
    {
     "name": "stdout",
     "output_type": "stream",
     "text": [
      "Fetching page 201: https://doda.jp/DodaFront/View/JobSearchList.action?pic=1&ds=0&oc=03L%2C14L&so=50&ind=0101S%2C0103S%2C0107S&op=17&pf=0&ne=3%2C4&tp=1&page=201&prsrt=1\n",
      "Fetching page 202: https://doda.jp/DodaFront/View/JobSearchList.action?pic=1&ds=0&oc=03L%2C14L&so=50&ind=0101S%2C0103S%2C0107S&op=17&pf=0&ne=3%2C4&tp=1&page=202&prsrt=1\n",
      "Fetching page 203: https://doda.jp/DodaFront/View/JobSearchList.action?pic=1&ds=0&oc=03L%2C14L&so=50&ind=0101S%2C0103S%2C0107S&op=17&pf=0&ne=3%2C4&tp=1&page=203&prsrt=1\n",
      "Fetching page 204: https://doda.jp/DodaFront/View/JobSearchList.action?pic=1&ds=0&oc=03L%2C14L&so=50&ind=0101S%2C0103S%2C0107S&op=17&pf=0&ne=3%2C4&tp=1&page=204&prsrt=1\n",
      "Fetching page 205: https://doda.jp/DodaFront/View/JobSearchList.action?pic=1&ds=0&oc=03L%2C14L&so=50&ind=0101S%2C0103S%2C0107S&op=17&pf=0&ne=3%2C4&tp=1&page=205&prsrt=1\n",
      "Fetching page 206: https://doda.jp/DodaFront/View/JobSearchList.action?pic=1&ds=0&oc=03L%2C14L&so=50&ind=0101S%2C0103S%2C0107S&op=17&pf=0&ne=3%2C4&tp=1&page=206&prsrt=1\n",
      "Fetching page 207: https://doda.jp/DodaFront/View/JobSearchList.action?pic=1&ds=0&oc=03L%2C14L&so=50&ind=0101S%2C0103S%2C0107S&op=17&pf=0&ne=3%2C4&tp=1&page=207&prsrt=1\n",
      "Fetching page 208: https://doda.jp/DodaFront/View/JobSearchList.action?pic=1&ds=0&oc=03L%2C14L&so=50&ind=0101S%2C0103S%2C0107S&op=17&pf=0&ne=3%2C4&tp=1&page=208&prsrt=1\n",
      "Fetching page 209: https://doda.jp/DodaFront/View/JobSearchList.action?pic=1&ds=0&oc=03L%2C14L&so=50&ind=0101S%2C0103S%2C0107S&op=17&pf=0&ne=3%2C4&tp=1&page=209&prsrt=1\n",
      "Fetching page 210: https://doda.jp/DodaFront/View/JobSearchList.action?pic=1&ds=0&oc=03L%2C14L&so=50&ind=0101S%2C0103S%2C0107S&op=17&pf=0&ne=3%2C4&tp=1&page=210&prsrt=1\n"
     ]
    },
    {
     "name": "stderr",
     "output_type": "stream",
     "text": [
      "Processing pages 201 to 210: 100%|██████████| 10/10 [02:35<00:00, 15.52s/it]\n",
      "Processing pages 211 to 220:   0%|          | 0/10 [00:00<?, ?it/s]"
     ]
    },
    {
     "name": "stdout",
     "output_type": "stream",
     "text": [
      "Fetching page 211: https://doda.jp/DodaFront/View/JobSearchList.action?pic=1&ds=0&oc=03L%2C14L&so=50&ind=0101S%2C0103S%2C0107S&op=17&pf=0&ne=3%2C4&tp=1&page=211&prsrt=1\n",
      "Fetching page 212: https://doda.jp/DodaFront/View/JobSearchList.action?pic=1&ds=0&oc=03L%2C14L&so=50&ind=0101S%2C0103S%2C0107S&op=17&pf=0&ne=3%2C4&tp=1&page=212&prsrt=1\n",
      "Fetching page 213: https://doda.jp/DodaFront/View/JobSearchList.action?pic=1&ds=0&oc=03L%2C14L&so=50&ind=0101S%2C0103S%2C0107S&op=17&pf=0&ne=3%2C4&tp=1&page=213&prsrt=1\n",
      "Fetching page 214: https://doda.jp/DodaFront/View/JobSearchList.action?pic=1&ds=0&oc=03L%2C14L&so=50&ind=0101S%2C0103S%2C0107S&op=17&pf=0&ne=3%2C4&tp=1&page=214&prsrt=1\n",
      "Fetching page 215: https://doda.jp/DodaFront/View/JobSearchList.action?pic=1&ds=0&oc=03L%2C14L&so=50&ind=0101S%2C0103S%2C0107S&op=17&pf=0&ne=3%2C4&tp=1&page=215&prsrt=1\n",
      "Fetching page 216: https://doda.jp/DodaFront/View/JobSearchList.action?pic=1&ds=0&oc=03L%2C14L&so=50&ind=0101S%2C0103S%2C0107S&op=17&pf=0&ne=3%2C4&tp=1&page=216&prsrt=1\n",
      "Fetching page 217: https://doda.jp/DodaFront/View/JobSearchList.action?pic=1&ds=0&oc=03L%2C14L&so=50&ind=0101S%2C0103S%2C0107S&op=17&pf=0&ne=3%2C4&tp=1&page=217&prsrt=1\n",
      "Fetching page 218: https://doda.jp/DodaFront/View/JobSearchList.action?pic=1&ds=0&oc=03L%2C14L&so=50&ind=0101S%2C0103S%2C0107S&op=17&pf=0&ne=3%2C4&tp=1&page=218&prsrt=1\n",
      "Fetching page 219: https://doda.jp/DodaFront/View/JobSearchList.action?pic=1&ds=0&oc=03L%2C14L&so=50&ind=0101S%2C0103S%2C0107S&op=17&pf=0&ne=3%2C4&tp=1&page=219&prsrt=1\n",
      "Fetching page 220: https://doda.jp/DodaFront/View/JobSearchList.action?pic=1&ds=0&oc=03L%2C14L&so=50&ind=0101S%2C0103S%2C0107S&op=17&pf=0&ne=3%2C4&tp=1&page=220&prsrt=1\n"
     ]
    },
    {
     "name": "stderr",
     "output_type": "stream",
     "text": [
      "Processing pages 211 to 220: 100%|██████████| 10/10 [02:50<00:00, 17.09s/it]\n",
      "Processing pages 221 to 230:   0%|          | 0/10 [00:00<?, ?it/s]"
     ]
    },
    {
     "name": "stdout",
     "output_type": "stream",
     "text": [
      "Fetching page 221: https://doda.jp/DodaFront/View/JobSearchList.action?pic=1&ds=0&oc=03L%2C14L&so=50&ind=0101S%2C0103S%2C0107S&op=17&pf=0&ne=3%2C4&tp=1&page=221&prsrt=1\n",
      "Fetching page 222: https://doda.jp/DodaFront/View/JobSearchList.action?pic=1&ds=0&oc=03L%2C14L&so=50&ind=0101S%2C0103S%2C0107S&op=17&pf=0&ne=3%2C4&tp=1&page=222&prsrt=1\n",
      "Fetching page 223: https://doda.jp/DodaFront/View/JobSearchList.action?pic=1&ds=0&oc=03L%2C14L&so=50&ind=0101S%2C0103S%2C0107S&op=17&pf=0&ne=3%2C4&tp=1&page=223&prsrt=1\n",
      "Fetching page 224: https://doda.jp/DodaFront/View/JobSearchList.action?pic=1&ds=0&oc=03L%2C14L&so=50&ind=0101S%2C0103S%2C0107S&op=17&pf=0&ne=3%2C4&tp=1&page=224&prsrt=1\n",
      "Fetching page 225: https://doda.jp/DodaFront/View/JobSearchList.action?pic=1&ds=0&oc=03L%2C14L&so=50&ind=0101S%2C0103S%2C0107S&op=17&pf=0&ne=3%2C4&tp=1&page=225&prsrt=1\n",
      "Fetching page 226: https://doda.jp/DodaFront/View/JobSearchList.action?pic=1&ds=0&oc=03L%2C14L&so=50&ind=0101S%2C0103S%2C0107S&op=17&pf=0&ne=3%2C4&tp=1&page=226&prsrt=1\n",
      "Fetching page 227: https://doda.jp/DodaFront/View/JobSearchList.action?pic=1&ds=0&oc=03L%2C14L&so=50&ind=0101S%2C0103S%2C0107S&op=17&pf=0&ne=3%2C4&tp=1&page=227&prsrt=1\n",
      "Fetching page 228: https://doda.jp/DodaFront/View/JobSearchList.action?pic=1&ds=0&oc=03L%2C14L&so=50&ind=0101S%2C0103S%2C0107S&op=17&pf=0&ne=3%2C4&tp=1&page=228&prsrt=1\n",
      "Fetching page 229: https://doda.jp/DodaFront/View/JobSearchList.action?pic=1&ds=0&oc=03L%2C14L&so=50&ind=0101S%2C0103S%2C0107S&op=17&pf=0&ne=3%2C4&tp=1&page=229&prsrt=1\n",
      "Fetching page 230: https://doda.jp/DodaFront/View/JobSearchList.action?pic=1&ds=0&oc=03L%2C14L&so=50&ind=0101S%2C0103S%2C0107S&op=17&pf=0&ne=3%2C4&tp=1&page=230&prsrt=1\n"
     ]
    },
    {
     "name": "stderr",
     "output_type": "stream",
     "text": [
      "Processing pages 221 to 230: 100%|██████████| 10/10 [02:46<00:00, 16.65s/it]\n",
      "Processing pages 231 to 240:   0%|          | 0/10 [00:00<?, ?it/s]"
     ]
    },
    {
     "name": "stdout",
     "output_type": "stream",
     "text": [
      "Fetching page 231: https://doda.jp/DodaFront/View/JobSearchList.action?pic=1&ds=0&oc=03L%2C14L&so=50&ind=0101S%2C0103S%2C0107S&op=17&pf=0&ne=3%2C4&tp=1&page=231&prsrt=1\n",
      "Fetching page 232: https://doda.jp/DodaFront/View/JobSearchList.action?pic=1&ds=0&oc=03L%2C14L&so=50&ind=0101S%2C0103S%2C0107S&op=17&pf=0&ne=3%2C4&tp=1&page=232&prsrt=1\n",
      "Fetching page 233: https://doda.jp/DodaFront/View/JobSearchList.action?pic=1&ds=0&oc=03L%2C14L&so=50&ind=0101S%2C0103S%2C0107S&op=17&pf=0&ne=3%2C4&tp=1&page=233&prsrt=1\n",
      "Fetching page 234: https://doda.jp/DodaFront/View/JobSearchList.action?pic=1&ds=0&oc=03L%2C14L&so=50&ind=0101S%2C0103S%2C0107S&op=17&pf=0&ne=3%2C4&tp=1&page=234&prsrt=1\n",
      "Fetching page 235: https://doda.jp/DodaFront/View/JobSearchList.action?pic=1&ds=0&oc=03L%2C14L&so=50&ind=0101S%2C0103S%2C0107S&op=17&pf=0&ne=3%2C4&tp=1&page=235&prsrt=1\n",
      "Fetching page 236: https://doda.jp/DodaFront/View/JobSearchList.action?pic=1&ds=0&oc=03L%2C14L&so=50&ind=0101S%2C0103S%2C0107S&op=17&pf=0&ne=3%2C4&tp=1&page=236&prsrt=1\n",
      "Fetching page 237: https://doda.jp/DodaFront/View/JobSearchList.action?pic=1&ds=0&oc=03L%2C14L&so=50&ind=0101S%2C0103S%2C0107S&op=17&pf=0&ne=3%2C4&tp=1&page=237&prsrt=1\n",
      "Fetching page 238: https://doda.jp/DodaFront/View/JobSearchList.action?pic=1&ds=0&oc=03L%2C14L&so=50&ind=0101S%2C0103S%2C0107S&op=17&pf=0&ne=3%2C4&tp=1&page=238&prsrt=1\n",
      "Fetching page 239: https://doda.jp/DodaFront/View/JobSearchList.action?pic=1&ds=0&oc=03L%2C14L&so=50&ind=0101S%2C0103S%2C0107S&op=17&pf=0&ne=3%2C4&tp=1&page=239&prsrt=1\n",
      "Fetching page 240: https://doda.jp/DodaFront/View/JobSearchList.action?pic=1&ds=0&oc=03L%2C14L&so=50&ind=0101S%2C0103S%2C0107S&op=17&pf=0&ne=3%2C4&tp=1&page=240&prsrt=1\n"
     ]
    },
    {
     "name": "stderr",
     "output_type": "stream",
     "text": [
      "Processing pages 231 to 240: 100%|██████████| 10/10 [02:43<00:00, 16.35s/it]\n",
      "Processing pages 241 to 250:   0%|          | 0/10 [00:00<?, ?it/s]"
     ]
    },
    {
     "name": "stdout",
     "output_type": "stream",
     "text": [
      "Fetching page 241: https://doda.jp/DodaFront/View/JobSearchList.action?pic=1&ds=0&oc=03L%2C14L&so=50&ind=0101S%2C0103S%2C0107S&op=17&pf=0&ne=3%2C4&tp=1&page=241&prsrt=1\n",
      "Fetching page 242: https://doda.jp/DodaFront/View/JobSearchList.action?pic=1&ds=0&oc=03L%2C14L&so=50&ind=0101S%2C0103S%2C0107S&op=17&pf=0&ne=3%2C4&tp=1&page=242&prsrt=1\n",
      "Fetching page 243: https://doda.jp/DodaFront/View/JobSearchList.action?pic=1&ds=0&oc=03L%2C14L&so=50&ind=0101S%2C0103S%2C0107S&op=17&pf=0&ne=3%2C4&tp=1&page=243&prsrt=1\n",
      "Fetching page 244: https://doda.jp/DodaFront/View/JobSearchList.action?pic=1&ds=0&oc=03L%2C14L&so=50&ind=0101S%2C0103S%2C0107S&op=17&pf=0&ne=3%2C4&tp=1&page=244&prsrt=1\n",
      "Fetching page 245: https://doda.jp/DodaFront/View/JobSearchList.action?pic=1&ds=0&oc=03L%2C14L&so=50&ind=0101S%2C0103S%2C0107S&op=17&pf=0&ne=3%2C4&tp=1&page=245&prsrt=1\n",
      "Fetching page 246: https://doda.jp/DodaFront/View/JobSearchList.action?pic=1&ds=0&oc=03L%2C14L&so=50&ind=0101S%2C0103S%2C0107S&op=17&pf=0&ne=3%2C4&tp=1&page=246&prsrt=1\n",
      "Fetching page 247: https://doda.jp/DodaFront/View/JobSearchList.action?pic=1&ds=0&oc=03L%2C14L&so=50&ind=0101S%2C0103S%2C0107S&op=17&pf=0&ne=3%2C4&tp=1&page=247&prsrt=1\n",
      "Fetching page 248: https://doda.jp/DodaFront/View/JobSearchList.action?pic=1&ds=0&oc=03L%2C14L&so=50&ind=0101S%2C0103S%2C0107S&op=17&pf=0&ne=3%2C4&tp=1&page=248&prsrt=1\n",
      "Fetching page 249: https://doda.jp/DodaFront/View/JobSearchList.action?pic=1&ds=0&oc=03L%2C14L&so=50&ind=0101S%2C0103S%2C0107S&op=17&pf=0&ne=3%2C4&tp=1&page=249&prsrt=1\n",
      "Fetching page 250: https://doda.jp/DodaFront/View/JobSearchList.action?pic=1&ds=0&oc=03L%2C14L&so=50&ind=0101S%2C0103S%2C0107S&op=17&pf=0&ne=3%2C4&tp=1&page=250&prsrt=1\n"
     ]
    },
    {
     "name": "stderr",
     "output_type": "stream",
     "text": [
      "Processing pages 241 to 250: 100%|██████████| 10/10 [02:42<00:00, 16.21s/it]\n",
      "Processing pages 251 to 260:   0%|          | 0/10 [00:00<?, ?it/s]"
     ]
    },
    {
     "name": "stdout",
     "output_type": "stream",
     "text": [
      "Fetching page 251: https://doda.jp/DodaFront/View/JobSearchList.action?pic=1&ds=0&oc=03L%2C14L&so=50&ind=0101S%2C0103S%2C0107S&op=17&pf=0&ne=3%2C4&tp=1&page=251&prsrt=1\n",
      "Fetching page 252: https://doda.jp/DodaFront/View/JobSearchList.action?pic=1&ds=0&oc=03L%2C14L&so=50&ind=0101S%2C0103S%2C0107S&op=17&pf=0&ne=3%2C4&tp=1&page=252&prsrt=1\n",
      "Fetching page 253: https://doda.jp/DodaFront/View/JobSearchList.action?pic=1&ds=0&oc=03L%2C14L&so=50&ind=0101S%2C0103S%2C0107S&op=17&pf=0&ne=3%2C4&tp=1&page=253&prsrt=1\n",
      "Fetching page 254: https://doda.jp/DodaFront/View/JobSearchList.action?pic=1&ds=0&oc=03L%2C14L&so=50&ind=0101S%2C0103S%2C0107S&op=17&pf=0&ne=3%2C4&tp=1&page=254&prsrt=1\n",
      "Fetching page 255: https://doda.jp/DodaFront/View/JobSearchList.action?pic=1&ds=0&oc=03L%2C14L&so=50&ind=0101S%2C0103S%2C0107S&op=17&pf=0&ne=3%2C4&tp=1&page=255&prsrt=1\n",
      "Fetching page 256: https://doda.jp/DodaFront/View/JobSearchList.action?pic=1&ds=0&oc=03L%2C14L&so=50&ind=0101S%2C0103S%2C0107S&op=17&pf=0&ne=3%2C4&tp=1&page=256&prsrt=1\n",
      "Fetching page 257: https://doda.jp/DodaFront/View/JobSearchList.action?pic=1&ds=0&oc=03L%2C14L&so=50&ind=0101S%2C0103S%2C0107S&op=17&pf=0&ne=3%2C4&tp=1&page=257&prsrt=1\n",
      "Fetching page 258: https://doda.jp/DodaFront/View/JobSearchList.action?pic=1&ds=0&oc=03L%2C14L&so=50&ind=0101S%2C0103S%2C0107S&op=17&pf=0&ne=3%2C4&tp=1&page=258&prsrt=1\n",
      "Fetching page 259: https://doda.jp/DodaFront/View/JobSearchList.action?pic=1&ds=0&oc=03L%2C14L&so=50&ind=0101S%2C0103S%2C0107S&op=17&pf=0&ne=3%2C4&tp=1&page=259&prsrt=1\n",
      "Fetching page 260: https://doda.jp/DodaFront/View/JobSearchList.action?pic=1&ds=0&oc=03L%2C14L&so=50&ind=0101S%2C0103S%2C0107S&op=17&pf=0&ne=3%2C4&tp=1&page=260&prsrt=1\n"
     ]
    },
    {
     "name": "stderr",
     "output_type": "stream",
     "text": [
      "Processing pages 251 to 260: 100%|██████████| 10/10 [02:33<00:00, 15.31s/it]\n",
      "Processing pages 261 to 270:   0%|          | 0/10 [00:00<?, ?it/s]"
     ]
    },
    {
     "name": "stdout",
     "output_type": "stream",
     "text": [
      "Fetching page 261: https://doda.jp/DodaFront/View/JobSearchList.action?pic=1&ds=0&oc=03L%2C14L&so=50&ind=0101S%2C0103S%2C0107S&op=17&pf=0&ne=3%2C4&tp=1&page=261&prsrt=1\n",
      "Fetching page 262: https://doda.jp/DodaFront/View/JobSearchList.action?pic=1&ds=0&oc=03L%2C14L&so=50&ind=0101S%2C0103S%2C0107S&op=17&pf=0&ne=3%2C4&tp=1&page=262&prsrt=1\n",
      "Fetching page 263: https://doda.jp/DodaFront/View/JobSearchList.action?pic=1&ds=0&oc=03L%2C14L&so=50&ind=0101S%2C0103S%2C0107S&op=17&pf=0&ne=3%2C4&tp=1&page=263&prsrt=1\n",
      "Fetching page 264: https://doda.jp/DodaFront/View/JobSearchList.action?pic=1&ds=0&oc=03L%2C14L&so=50&ind=0101S%2C0103S%2C0107S&op=17&pf=0&ne=3%2C4&tp=1&page=264&prsrt=1\n",
      "Fetching page 265: https://doda.jp/DodaFront/View/JobSearchList.action?pic=1&ds=0&oc=03L%2C14L&so=50&ind=0101S%2C0103S%2C0107S&op=17&pf=0&ne=3%2C4&tp=1&page=265&prsrt=1\n",
      "Fetching page 266: https://doda.jp/DodaFront/View/JobSearchList.action?pic=1&ds=0&oc=03L%2C14L&so=50&ind=0101S%2C0103S%2C0107S&op=17&pf=0&ne=3%2C4&tp=1&page=266&prsrt=1\n",
      "Fetching page 267: https://doda.jp/DodaFront/View/JobSearchList.action?pic=1&ds=0&oc=03L%2C14L&so=50&ind=0101S%2C0103S%2C0107S&op=17&pf=0&ne=3%2C4&tp=1&page=267&prsrt=1\n",
      "Fetching page 268: https://doda.jp/DodaFront/View/JobSearchList.action?pic=1&ds=0&oc=03L%2C14L&so=50&ind=0101S%2C0103S%2C0107S&op=17&pf=0&ne=3%2C4&tp=1&page=268&prsrt=1\n",
      "Fetching page 269: https://doda.jp/DodaFront/View/JobSearchList.action?pic=1&ds=0&oc=03L%2C14L&so=50&ind=0101S%2C0103S%2C0107S&op=17&pf=0&ne=3%2C4&tp=1&page=269&prsrt=1\n",
      "Fetching page 270: https://doda.jp/DodaFront/View/JobSearchList.action?pic=1&ds=0&oc=03L%2C14L&so=50&ind=0101S%2C0103S%2C0107S&op=17&pf=0&ne=3%2C4&tp=1&page=270&prsrt=1\n"
     ]
    },
    {
     "name": "stderr",
     "output_type": "stream",
     "text": [
      "Processing pages 261 to 270: 100%|██████████| 10/10 [02:33<00:00, 15.38s/it]\n",
      "Processing pages 271 to 280:   0%|          | 0/10 [00:00<?, ?it/s]"
     ]
    },
    {
     "name": "stdout",
     "output_type": "stream",
     "text": [
      "Fetching page 271: https://doda.jp/DodaFront/View/JobSearchList.action?pic=1&ds=0&oc=03L%2C14L&so=50&ind=0101S%2C0103S%2C0107S&op=17&pf=0&ne=3%2C4&tp=1&page=271&prsrt=1\n",
      "Fetching page 272: https://doda.jp/DodaFront/View/JobSearchList.action?pic=1&ds=0&oc=03L%2C14L&so=50&ind=0101S%2C0103S%2C0107S&op=17&pf=0&ne=3%2C4&tp=1&page=272&prsrt=1\n",
      "Fetching page 273: https://doda.jp/DodaFront/View/JobSearchList.action?pic=1&ds=0&oc=03L%2C14L&so=50&ind=0101S%2C0103S%2C0107S&op=17&pf=0&ne=3%2C4&tp=1&page=273&prsrt=1\n",
      "Fetching page 274: https://doda.jp/DodaFront/View/JobSearchList.action?pic=1&ds=0&oc=03L%2C14L&so=50&ind=0101S%2C0103S%2C0107S&op=17&pf=0&ne=3%2C4&tp=1&page=274&prsrt=1\n",
      "Fetching page 275: https://doda.jp/DodaFront/View/JobSearchList.action?pic=1&ds=0&oc=03L%2C14L&so=50&ind=0101S%2C0103S%2C0107S&op=17&pf=0&ne=3%2C4&tp=1&page=275&prsrt=1\n",
      "Fetching page 276: https://doda.jp/DodaFront/View/JobSearchList.action?pic=1&ds=0&oc=03L%2C14L&so=50&ind=0101S%2C0103S%2C0107S&op=17&pf=0&ne=3%2C4&tp=1&page=276&prsrt=1\n",
      "Fetching page 277: https://doda.jp/DodaFront/View/JobSearchList.action?pic=1&ds=0&oc=03L%2C14L&so=50&ind=0101S%2C0103S%2C0107S&op=17&pf=0&ne=3%2C4&tp=1&page=277&prsrt=1\n",
      "Fetching page 278: https://doda.jp/DodaFront/View/JobSearchList.action?pic=1&ds=0&oc=03L%2C14L&so=50&ind=0101S%2C0103S%2C0107S&op=17&pf=0&ne=3%2C4&tp=1&page=278&prsrt=1\n",
      "Fetching page 279: https://doda.jp/DodaFront/View/JobSearchList.action?pic=1&ds=0&oc=03L%2C14L&so=50&ind=0101S%2C0103S%2C0107S&op=17&pf=0&ne=3%2C4&tp=1&page=279&prsrt=1\n",
      "Fetching page 280: https://doda.jp/DodaFront/View/JobSearchList.action?pic=1&ds=0&oc=03L%2C14L&so=50&ind=0101S%2C0103S%2C0107S&op=17&pf=0&ne=3%2C4&tp=1&page=280&prsrt=1\n"
     ]
    },
    {
     "name": "stderr",
     "output_type": "stream",
     "text": [
      "Processing pages 271 to 280: 100%|██████████| 10/10 [02:36<00:00, 15.61s/it]\n",
      "Processing pages 281 to 290:   0%|          | 0/10 [00:00<?, ?it/s]"
     ]
    },
    {
     "name": "stdout",
     "output_type": "stream",
     "text": [
      "Fetching page 281: https://doda.jp/DodaFront/View/JobSearchList.action?pic=1&ds=0&oc=03L%2C14L&so=50&ind=0101S%2C0103S%2C0107S&op=17&pf=0&ne=3%2C4&tp=1&page=281&prsrt=1\n",
      "Fetching page 282: https://doda.jp/DodaFront/View/JobSearchList.action?pic=1&ds=0&oc=03L%2C14L&so=50&ind=0101S%2C0103S%2C0107S&op=17&pf=0&ne=3%2C4&tp=1&page=282&prsrt=1\n",
      "Fetching page 283: https://doda.jp/DodaFront/View/JobSearchList.action?pic=1&ds=0&oc=03L%2C14L&so=50&ind=0101S%2C0103S%2C0107S&op=17&pf=0&ne=3%2C4&tp=1&page=283&prsrt=1\n",
      "Fetching page 284: https://doda.jp/DodaFront/View/JobSearchList.action?pic=1&ds=0&oc=03L%2C14L&so=50&ind=0101S%2C0103S%2C0107S&op=17&pf=0&ne=3%2C4&tp=1&page=284&prsrt=1\n",
      "Fetching page 285: https://doda.jp/DodaFront/View/JobSearchList.action?pic=1&ds=0&oc=03L%2C14L&so=50&ind=0101S%2C0103S%2C0107S&op=17&pf=0&ne=3%2C4&tp=1&page=285&prsrt=1\n",
      "Fetching page 286: https://doda.jp/DodaFront/View/JobSearchList.action?pic=1&ds=0&oc=03L%2C14L&so=50&ind=0101S%2C0103S%2C0107S&op=17&pf=0&ne=3%2C4&tp=1&page=286&prsrt=1\n",
      "Fetching page 287: https://doda.jp/DodaFront/View/JobSearchList.action?pic=1&ds=0&oc=03L%2C14L&so=50&ind=0101S%2C0103S%2C0107S&op=17&pf=0&ne=3%2C4&tp=1&page=287&prsrt=1\n",
      "Fetching page 288: https://doda.jp/DodaFront/View/JobSearchList.action?pic=1&ds=0&oc=03L%2C14L&so=50&ind=0101S%2C0103S%2C0107S&op=17&pf=0&ne=3%2C4&tp=1&page=288&prsrt=1\n",
      "Fetching page 289: https://doda.jp/DodaFront/View/JobSearchList.action?pic=1&ds=0&oc=03L%2C14L&so=50&ind=0101S%2C0103S%2C0107S&op=17&pf=0&ne=3%2C4&tp=1&page=289&prsrt=1\n",
      "Fetching page 290: https://doda.jp/DodaFront/View/JobSearchList.action?pic=1&ds=0&oc=03L%2C14L&so=50&ind=0101S%2C0103S%2C0107S&op=17&pf=0&ne=3%2C4&tp=1&page=290&prsrt=1\n"
     ]
    },
    {
     "name": "stderr",
     "output_type": "stream",
     "text": [
      "Processing pages 281 to 290: 100%|██████████| 10/10 [02:39<00:00, 16.00s/it]\n",
      "Processing pages 291 to 300:   0%|          | 0/10 [00:00<?, ?it/s]"
     ]
    },
    {
     "name": "stdout",
     "output_type": "stream",
     "text": [
      "Fetching page 291: https://doda.jp/DodaFront/View/JobSearchList.action?pic=1&ds=0&oc=03L%2C14L&so=50&ind=0101S%2C0103S%2C0107S&op=17&pf=0&ne=3%2C4&tp=1&page=291&prsrt=1\n",
      "Fetching page 292: https://doda.jp/DodaFront/View/JobSearchList.action?pic=1&ds=0&oc=03L%2C14L&so=50&ind=0101S%2C0103S%2C0107S&op=17&pf=0&ne=3%2C4&tp=1&page=292&prsrt=1\n",
      "Fetching page 293: https://doda.jp/DodaFront/View/JobSearchList.action?pic=1&ds=0&oc=03L%2C14L&so=50&ind=0101S%2C0103S%2C0107S&op=17&pf=0&ne=3%2C4&tp=1&page=293&prsrt=1\n",
      "Fetching page 294: https://doda.jp/DodaFront/View/JobSearchList.action?pic=1&ds=0&oc=03L%2C14L&so=50&ind=0101S%2C0103S%2C0107S&op=17&pf=0&ne=3%2C4&tp=1&page=294&prsrt=1\n",
      "Fetching page 295: https://doda.jp/DodaFront/View/JobSearchList.action?pic=1&ds=0&oc=03L%2C14L&so=50&ind=0101S%2C0103S%2C0107S&op=17&pf=0&ne=3%2C4&tp=1&page=295&prsrt=1\n",
      "Fetching page 296: https://doda.jp/DodaFront/View/JobSearchList.action?pic=1&ds=0&oc=03L%2C14L&so=50&ind=0101S%2C0103S%2C0107S&op=17&pf=0&ne=3%2C4&tp=1&page=296&prsrt=1\n",
      "Fetching page 297: https://doda.jp/DodaFront/View/JobSearchList.action?pic=1&ds=0&oc=03L%2C14L&so=50&ind=0101S%2C0103S%2C0107S&op=17&pf=0&ne=3%2C4&tp=1&page=297&prsrt=1\n",
      "Fetching page 298: https://doda.jp/DodaFront/View/JobSearchList.action?pic=1&ds=0&oc=03L%2C14L&so=50&ind=0101S%2C0103S%2C0107S&op=17&pf=0&ne=3%2C4&tp=1&page=298&prsrt=1\n",
      "Fetching page 299: https://doda.jp/DodaFront/View/JobSearchList.action?pic=1&ds=0&oc=03L%2C14L&so=50&ind=0101S%2C0103S%2C0107S&op=17&pf=0&ne=3%2C4&tp=1&page=299&prsrt=1\n",
      "Fetching page 300: https://doda.jp/DodaFront/View/JobSearchList.action?pic=1&ds=0&oc=03L%2C14L&so=50&ind=0101S%2C0103S%2C0107S&op=17&pf=0&ne=3%2C4&tp=1&page=300&prsrt=1\n"
     ]
    },
    {
     "name": "stderr",
     "output_type": "stream",
     "text": [
      "Processing pages 291 to 300: 100%|██████████| 10/10 [02:46<00:00, 16.66s/it]\n",
      "Processing pages 301 to 310:   0%|          | 0/10 [00:00<?, ?it/s]"
     ]
    },
    {
     "name": "stdout",
     "output_type": "stream",
     "text": [
      "Fetching page 301: https://doda.jp/DodaFront/View/JobSearchList.action?pic=1&ds=0&oc=03L%2C14L&so=50&ind=0101S%2C0103S%2C0107S&op=17&pf=0&ne=3%2C4&tp=1&page=301&prsrt=1\n",
      "Fetching page 302: https://doda.jp/DodaFront/View/JobSearchList.action?pic=1&ds=0&oc=03L%2C14L&so=50&ind=0101S%2C0103S%2C0107S&op=17&pf=0&ne=3%2C4&tp=1&page=302&prsrt=1\n",
      "Fetching page 303: https://doda.jp/DodaFront/View/JobSearchList.action?pic=1&ds=0&oc=03L%2C14L&so=50&ind=0101S%2C0103S%2C0107S&op=17&pf=0&ne=3%2C4&tp=1&page=303&prsrt=1\n",
      "Fetching page 304: https://doda.jp/DodaFront/View/JobSearchList.action?pic=1&ds=0&oc=03L%2C14L&so=50&ind=0101S%2C0103S%2C0107S&op=17&pf=0&ne=3%2C4&tp=1&page=304&prsrt=1\n",
      "Fetching page 305: https://doda.jp/DodaFront/View/JobSearchList.action?pic=1&ds=0&oc=03L%2C14L&so=50&ind=0101S%2C0103S%2C0107S&op=17&pf=0&ne=3%2C4&tp=1&page=305&prsrt=1\n",
      "Fetching page 306: https://doda.jp/DodaFront/View/JobSearchList.action?pic=1&ds=0&oc=03L%2C14L&so=50&ind=0101S%2C0103S%2C0107S&op=17&pf=0&ne=3%2C4&tp=1&page=306&prsrt=1\n",
      "Fetching page 307: https://doda.jp/DodaFront/View/JobSearchList.action?pic=1&ds=0&oc=03L%2C14L&so=50&ind=0101S%2C0103S%2C0107S&op=17&pf=0&ne=3%2C4&tp=1&page=307&prsrt=1\n",
      "Fetching page 308: https://doda.jp/DodaFront/View/JobSearchList.action?pic=1&ds=0&oc=03L%2C14L&so=50&ind=0101S%2C0103S%2C0107S&op=17&pf=0&ne=3%2C4&tp=1&page=308&prsrt=1\n",
      "Fetching page 309: https://doda.jp/DodaFront/View/JobSearchList.action?pic=1&ds=0&oc=03L%2C14L&so=50&ind=0101S%2C0103S%2C0107S&op=17&pf=0&ne=3%2C4&tp=1&page=309&prsrt=1\n",
      "Fetching page 310: https://doda.jp/DodaFront/View/JobSearchList.action?pic=1&ds=0&oc=03L%2C14L&so=50&ind=0101S%2C0103S%2C0107S&op=17&pf=0&ne=3%2C4&tp=1&page=310&prsrt=1\n"
     ]
    },
    {
     "name": "stderr",
     "output_type": "stream",
     "text": [
      "Processing pages 301 to 310: 100%|██████████| 10/10 [02:41<00:00, 16.13s/it]\n",
      "Processing pages 311 to 320:   0%|          | 0/10 [00:00<?, ?it/s]"
     ]
    },
    {
     "name": "stdout",
     "output_type": "stream",
     "text": [
      "Fetching page 311: https://doda.jp/DodaFront/View/JobSearchList.action?pic=1&ds=0&oc=03L%2C14L&so=50&ind=0101S%2C0103S%2C0107S&op=17&pf=0&ne=3%2C4&tp=1&page=311&prsrt=1\n",
      "Fetching page 312: https://doda.jp/DodaFront/View/JobSearchList.action?pic=1&ds=0&oc=03L%2C14L&so=50&ind=0101S%2C0103S%2C0107S&op=17&pf=0&ne=3%2C4&tp=1&page=312&prsrt=1\n",
      "Fetching page 313: https://doda.jp/DodaFront/View/JobSearchList.action?pic=1&ds=0&oc=03L%2C14L&so=50&ind=0101S%2C0103S%2C0107S&op=17&pf=0&ne=3%2C4&tp=1&page=313&prsrt=1\n",
      "Fetching page 314: https://doda.jp/DodaFront/View/JobSearchList.action?pic=1&ds=0&oc=03L%2C14L&so=50&ind=0101S%2C0103S%2C0107S&op=17&pf=0&ne=3%2C4&tp=1&page=314&prsrt=1\n",
      "Fetching page 315: https://doda.jp/DodaFront/View/JobSearchList.action?pic=1&ds=0&oc=03L%2C14L&so=50&ind=0101S%2C0103S%2C0107S&op=17&pf=0&ne=3%2C4&tp=1&page=315&prsrt=1\n",
      "Fetching page 316: https://doda.jp/DodaFront/View/JobSearchList.action?pic=1&ds=0&oc=03L%2C14L&so=50&ind=0101S%2C0103S%2C0107S&op=17&pf=0&ne=3%2C4&tp=1&page=316&prsrt=1\n",
      "Fetching page 317: https://doda.jp/DodaFront/View/JobSearchList.action?pic=1&ds=0&oc=03L%2C14L&so=50&ind=0101S%2C0103S%2C0107S&op=17&pf=0&ne=3%2C4&tp=1&page=317&prsrt=1\n",
      "Fetching page 318: https://doda.jp/DodaFront/View/JobSearchList.action?pic=1&ds=0&oc=03L%2C14L&so=50&ind=0101S%2C0103S%2C0107S&op=17&pf=0&ne=3%2C4&tp=1&page=318&prsrt=1\n",
      "Fetching page 319: https://doda.jp/DodaFront/View/JobSearchList.action?pic=1&ds=0&oc=03L%2C14L&so=50&ind=0101S%2C0103S%2C0107S&op=17&pf=0&ne=3%2C4&tp=1&page=319&prsrt=1\n",
      "Fetching page 320: https://doda.jp/DodaFront/View/JobSearchList.action?pic=1&ds=0&oc=03L%2C14L&so=50&ind=0101S%2C0103S%2C0107S&op=17&pf=0&ne=3%2C4&tp=1&page=320&prsrt=1\n"
     ]
    },
    {
     "name": "stderr",
     "output_type": "stream",
     "text": [
      "Processing pages 311 to 320: 100%|██████████| 10/10 [02:42<00:00, 16.28s/it]\n",
      "Processing pages 321 to 330:   0%|          | 0/10 [00:00<?, ?it/s]"
     ]
    },
    {
     "name": "stdout",
     "output_type": "stream",
     "text": [
      "Fetching page 321: https://doda.jp/DodaFront/View/JobSearchList.action?pic=1&ds=0&oc=03L%2C14L&so=50&ind=0101S%2C0103S%2C0107S&op=17&pf=0&ne=3%2C4&tp=1&page=321&prsrt=1\n",
      "Fetching page 322: https://doda.jp/DodaFront/View/JobSearchList.action?pic=1&ds=0&oc=03L%2C14L&so=50&ind=0101S%2C0103S%2C0107S&op=17&pf=0&ne=3%2C4&tp=1&page=322&prsrt=1\n",
      "Fetching page 323: https://doda.jp/DodaFront/View/JobSearchList.action?pic=1&ds=0&oc=03L%2C14L&so=50&ind=0101S%2C0103S%2C0107S&op=17&pf=0&ne=3%2C4&tp=1&page=323&prsrt=1\n",
      "Fetching page 324: https://doda.jp/DodaFront/View/JobSearchList.action?pic=1&ds=0&oc=03L%2C14L&so=50&ind=0101S%2C0103S%2C0107S&op=17&pf=0&ne=3%2C4&tp=1&page=324&prsrt=1\n",
      "Fetching page 325: https://doda.jp/DodaFront/View/JobSearchList.action?pic=1&ds=0&oc=03L%2C14L&so=50&ind=0101S%2C0103S%2C0107S&op=17&pf=0&ne=3%2C4&tp=1&page=325&prsrt=1\n",
      "Fetching page 326: https://doda.jp/DodaFront/View/JobSearchList.action?pic=1&ds=0&oc=03L%2C14L&so=50&ind=0101S%2C0103S%2C0107S&op=17&pf=0&ne=3%2C4&tp=1&page=326&prsrt=1\n",
      "Fetching page 327: https://doda.jp/DodaFront/View/JobSearchList.action?pic=1&ds=0&oc=03L%2C14L&so=50&ind=0101S%2C0103S%2C0107S&op=17&pf=0&ne=3%2C4&tp=1&page=327&prsrt=1\n",
      "Fetching page 328: https://doda.jp/DodaFront/View/JobSearchList.action?pic=1&ds=0&oc=03L%2C14L&so=50&ind=0101S%2C0103S%2C0107S&op=17&pf=0&ne=3%2C4&tp=1&page=328&prsrt=1\n",
      "Fetching page 329: https://doda.jp/DodaFront/View/JobSearchList.action?pic=1&ds=0&oc=03L%2C14L&so=50&ind=0101S%2C0103S%2C0107S&op=17&pf=0&ne=3%2C4&tp=1&page=329&prsrt=1\n",
      "Fetching page 330: https://doda.jp/DodaFront/View/JobSearchList.action?pic=1&ds=0&oc=03L%2C14L&so=50&ind=0101S%2C0103S%2C0107S&op=17&pf=0&ne=3%2C4&tp=1&page=330&prsrt=1\n"
     ]
    },
    {
     "name": "stderr",
     "output_type": "stream",
     "text": [
      "Processing pages 321 to 330: 100%|██████████| 10/10 [02:45<00:00, 16.57s/it]\n",
      "Processing pages 331 to 340:   0%|          | 0/10 [00:00<?, ?it/s]"
     ]
    },
    {
     "name": "stdout",
     "output_type": "stream",
     "text": [
      "Fetching page 331: https://doda.jp/DodaFront/View/JobSearchList.action?pic=1&ds=0&oc=03L%2C14L&so=50&ind=0101S%2C0103S%2C0107S&op=17&pf=0&ne=3%2C4&tp=1&page=331&prsrt=1\n",
      "Fetching page 332: https://doda.jp/DodaFront/View/JobSearchList.action?pic=1&ds=0&oc=03L%2C14L&so=50&ind=0101S%2C0103S%2C0107S&op=17&pf=0&ne=3%2C4&tp=1&page=332&prsrt=1\n",
      "Fetching page 333: https://doda.jp/DodaFront/View/JobSearchList.action?pic=1&ds=0&oc=03L%2C14L&so=50&ind=0101S%2C0103S%2C0107S&op=17&pf=0&ne=3%2C4&tp=1&page=333&prsrt=1\n",
      "Fetching page 334: https://doda.jp/DodaFront/View/JobSearchList.action?pic=1&ds=0&oc=03L%2C14L&so=50&ind=0101S%2C0103S%2C0107S&op=17&pf=0&ne=3%2C4&tp=1&page=334&prsrt=1\n",
      "Fetching page 335: https://doda.jp/DodaFront/View/JobSearchList.action?pic=1&ds=0&oc=03L%2C14L&so=50&ind=0101S%2C0103S%2C0107S&op=17&pf=0&ne=3%2C4&tp=1&page=335&prsrt=1\n",
      "Fetching page 336: https://doda.jp/DodaFront/View/JobSearchList.action?pic=1&ds=0&oc=03L%2C14L&so=50&ind=0101S%2C0103S%2C0107S&op=17&pf=0&ne=3%2C4&tp=1&page=336&prsrt=1\n",
      "Fetching page 337: https://doda.jp/DodaFront/View/JobSearchList.action?pic=1&ds=0&oc=03L%2C14L&so=50&ind=0101S%2C0103S%2C0107S&op=17&pf=0&ne=3%2C4&tp=1&page=337&prsrt=1\n",
      "Fetching page 338: https://doda.jp/DodaFront/View/JobSearchList.action?pic=1&ds=0&oc=03L%2C14L&so=50&ind=0101S%2C0103S%2C0107S&op=17&pf=0&ne=3%2C4&tp=1&page=338&prsrt=1\n",
      "Fetching page 339: https://doda.jp/DodaFront/View/JobSearchList.action?pic=1&ds=0&oc=03L%2C14L&so=50&ind=0101S%2C0103S%2C0107S&op=17&pf=0&ne=3%2C4&tp=1&page=339&prsrt=1\n",
      "Fetching page 340: https://doda.jp/DodaFront/View/JobSearchList.action?pic=1&ds=0&oc=03L%2C14L&so=50&ind=0101S%2C0103S%2C0107S&op=17&pf=0&ne=3%2C4&tp=1&page=340&prsrt=1\n"
     ]
    },
    {
     "name": "stderr",
     "output_type": "stream",
     "text": [
      "Processing pages 331 to 340: 100%|██████████| 10/10 [02:37<00:00, 15.71s/it]\n",
      "Processing pages 341 to 350:   0%|          | 0/10 [00:00<?, ?it/s]"
     ]
    },
    {
     "name": "stdout",
     "output_type": "stream",
     "text": [
      "Fetching page 341: https://doda.jp/DodaFront/View/JobSearchList.action?pic=1&ds=0&oc=03L%2C14L&so=50&ind=0101S%2C0103S%2C0107S&op=17&pf=0&ne=3%2C4&tp=1&page=341&prsrt=1\n",
      "Fetching page 342: https://doda.jp/DodaFront/View/JobSearchList.action?pic=1&ds=0&oc=03L%2C14L&so=50&ind=0101S%2C0103S%2C0107S&op=17&pf=0&ne=3%2C4&tp=1&page=342&prsrt=1\n",
      "Fetching page 343: https://doda.jp/DodaFront/View/JobSearchList.action?pic=1&ds=0&oc=03L%2C14L&so=50&ind=0101S%2C0103S%2C0107S&op=17&pf=0&ne=3%2C4&tp=1&page=343&prsrt=1\n",
      "Fetching page 344: https://doda.jp/DodaFront/View/JobSearchList.action?pic=1&ds=0&oc=03L%2C14L&so=50&ind=0101S%2C0103S%2C0107S&op=17&pf=0&ne=3%2C4&tp=1&page=344&prsrt=1\n",
      "Fetching page 345: https://doda.jp/DodaFront/View/JobSearchList.action?pic=1&ds=0&oc=03L%2C14L&so=50&ind=0101S%2C0103S%2C0107S&op=17&pf=0&ne=3%2C4&tp=1&page=345&prsrt=1\n",
      "Fetching page 346: https://doda.jp/DodaFront/View/JobSearchList.action?pic=1&ds=0&oc=03L%2C14L&so=50&ind=0101S%2C0103S%2C0107S&op=17&pf=0&ne=3%2C4&tp=1&page=346&prsrt=1\n",
      "Fetching page 347: https://doda.jp/DodaFront/View/JobSearchList.action?pic=1&ds=0&oc=03L%2C14L&so=50&ind=0101S%2C0103S%2C0107S&op=17&pf=0&ne=3%2C4&tp=1&page=347&prsrt=1\n",
      "Fetching page 348: https://doda.jp/DodaFront/View/JobSearchList.action?pic=1&ds=0&oc=03L%2C14L&so=50&ind=0101S%2C0103S%2C0107S&op=17&pf=0&ne=3%2C4&tp=1&page=348&prsrt=1\n",
      "Fetching page 349: https://doda.jp/DodaFront/View/JobSearchList.action?pic=1&ds=0&oc=03L%2C14L&so=50&ind=0101S%2C0103S%2C0107S&op=17&pf=0&ne=3%2C4&tp=1&page=349&prsrt=1\n",
      "Fetching page 350: https://doda.jp/DodaFront/View/JobSearchList.action?pic=1&ds=0&oc=03L%2C14L&so=50&ind=0101S%2C0103S%2C0107S&op=17&pf=0&ne=3%2C4&tp=1&page=350&prsrt=1\n"
     ]
    },
    {
     "name": "stderr",
     "output_type": "stream",
     "text": [
      "Processing pages 341 to 350: 100%|██████████| 10/10 [02:35<00:00, 15.56s/it]\n",
      "Processing pages 351 to 360:   0%|          | 0/10 [00:00<?, ?it/s]"
     ]
    },
    {
     "name": "stdout",
     "output_type": "stream",
     "text": [
      "Fetching page 351: https://doda.jp/DodaFront/View/JobSearchList.action?pic=1&ds=0&oc=03L%2C14L&so=50&ind=0101S%2C0103S%2C0107S&op=17&pf=0&ne=3%2C4&tp=1&page=351&prsrt=1\n",
      "Fetching page 352: https://doda.jp/DodaFront/View/JobSearchList.action?pic=1&ds=0&oc=03L%2C14L&so=50&ind=0101S%2C0103S%2C0107S&op=17&pf=0&ne=3%2C4&tp=1&page=352&prsrt=1\n",
      "Fetching page 353: https://doda.jp/DodaFront/View/JobSearchList.action?pic=1&ds=0&oc=03L%2C14L&so=50&ind=0101S%2C0103S%2C0107S&op=17&pf=0&ne=3%2C4&tp=1&page=353&prsrt=1\n",
      "Fetching page 354: https://doda.jp/DodaFront/View/JobSearchList.action?pic=1&ds=0&oc=03L%2C14L&so=50&ind=0101S%2C0103S%2C0107S&op=17&pf=0&ne=3%2C4&tp=1&page=354&prsrt=1\n",
      "Fetching page 355: https://doda.jp/DodaFront/View/JobSearchList.action?pic=1&ds=0&oc=03L%2C14L&so=50&ind=0101S%2C0103S%2C0107S&op=17&pf=0&ne=3%2C4&tp=1&page=355&prsrt=1\n",
      "Fetching page 356: https://doda.jp/DodaFront/View/JobSearchList.action?pic=1&ds=0&oc=03L%2C14L&so=50&ind=0101S%2C0103S%2C0107S&op=17&pf=0&ne=3%2C4&tp=1&page=356&prsrt=1\n",
      "Fetching page 357: https://doda.jp/DodaFront/View/JobSearchList.action?pic=1&ds=0&oc=03L%2C14L&so=50&ind=0101S%2C0103S%2C0107S&op=17&pf=0&ne=3%2C4&tp=1&page=357&prsrt=1\n",
      "Fetching page 358: https://doda.jp/DodaFront/View/JobSearchList.action?pic=1&ds=0&oc=03L%2C14L&so=50&ind=0101S%2C0103S%2C0107S&op=17&pf=0&ne=3%2C4&tp=1&page=358&prsrt=1\n",
      "Fetching page 359: https://doda.jp/DodaFront/View/JobSearchList.action?pic=1&ds=0&oc=03L%2C14L&so=50&ind=0101S%2C0103S%2C0107S&op=17&pf=0&ne=3%2C4&tp=1&page=359&prsrt=1\n",
      "Fetching page 360: https://doda.jp/DodaFront/View/JobSearchList.action?pic=1&ds=0&oc=03L%2C14L&so=50&ind=0101S%2C0103S%2C0107S&op=17&pf=0&ne=3%2C4&tp=1&page=360&prsrt=1\n"
     ]
    },
    {
     "name": "stderr",
     "output_type": "stream",
     "text": [
      "Processing pages 351 to 360: 100%|██████████| 10/10 [02:43<00:00, 16.37s/it]\n",
      "Processing pages 361 to 370:   0%|          | 0/10 [00:00<?, ?it/s]"
     ]
    },
    {
     "name": "stdout",
     "output_type": "stream",
     "text": [
      "Fetching page 361: https://doda.jp/DodaFront/View/JobSearchList.action?pic=1&ds=0&oc=03L%2C14L&so=50&ind=0101S%2C0103S%2C0107S&op=17&pf=0&ne=3%2C4&tp=1&page=361&prsrt=1\n",
      "Fetching page 362: https://doda.jp/DodaFront/View/JobSearchList.action?pic=1&ds=0&oc=03L%2C14L&so=50&ind=0101S%2C0103S%2C0107S&op=17&pf=0&ne=3%2C4&tp=1&page=362&prsrt=1\n",
      "Fetching page 363: https://doda.jp/DodaFront/View/JobSearchList.action?pic=1&ds=0&oc=03L%2C14L&so=50&ind=0101S%2C0103S%2C0107S&op=17&pf=0&ne=3%2C4&tp=1&page=363&prsrt=1\n",
      "Fetching page 364: https://doda.jp/DodaFront/View/JobSearchList.action?pic=1&ds=0&oc=03L%2C14L&so=50&ind=0101S%2C0103S%2C0107S&op=17&pf=0&ne=3%2C4&tp=1&page=364&prsrt=1\n",
      "Fetching page 365: https://doda.jp/DodaFront/View/JobSearchList.action?pic=1&ds=0&oc=03L%2C14L&so=50&ind=0101S%2C0103S%2C0107S&op=17&pf=0&ne=3%2C4&tp=1&page=365&prsrt=1\n",
      "Fetching page 366: https://doda.jp/DodaFront/View/JobSearchList.action?pic=1&ds=0&oc=03L%2C14L&so=50&ind=0101S%2C0103S%2C0107S&op=17&pf=0&ne=3%2C4&tp=1&page=366&prsrt=1\n",
      "Fetching page 367: https://doda.jp/DodaFront/View/JobSearchList.action?pic=1&ds=0&oc=03L%2C14L&so=50&ind=0101S%2C0103S%2C0107S&op=17&pf=0&ne=3%2C4&tp=1&page=367&prsrt=1\n",
      "Fetching page 368: https://doda.jp/DodaFront/View/JobSearchList.action?pic=1&ds=0&oc=03L%2C14L&so=50&ind=0101S%2C0103S%2C0107S&op=17&pf=0&ne=3%2C4&tp=1&page=368&prsrt=1\n",
      "Fetching page 369: https://doda.jp/DodaFront/View/JobSearchList.action?pic=1&ds=0&oc=03L%2C14L&so=50&ind=0101S%2C0103S%2C0107S&op=17&pf=0&ne=3%2C4&tp=1&page=369&prsrt=1\n",
      "Fetching page 370: https://doda.jp/DodaFront/View/JobSearchList.action?pic=1&ds=0&oc=03L%2C14L&so=50&ind=0101S%2C0103S%2C0107S&op=17&pf=0&ne=3%2C4&tp=1&page=370&prsrt=1\n"
     ]
    },
    {
     "name": "stderr",
     "output_type": "stream",
     "text": [
      "Processing pages 361 to 370: 100%|██████████| 10/10 [02:32<00:00, 15.23s/it]\n",
      "Processing pages 371 to 380:   0%|          | 0/10 [00:00<?, ?it/s]"
     ]
    },
    {
     "name": "stdout",
     "output_type": "stream",
     "text": [
      "Fetching page 371: https://doda.jp/DodaFront/View/JobSearchList.action?pic=1&ds=0&oc=03L%2C14L&so=50&ind=0101S%2C0103S%2C0107S&op=17&pf=0&ne=3%2C4&tp=1&page=371&prsrt=1\n",
      "Fetching page 372: https://doda.jp/DodaFront/View/JobSearchList.action?pic=1&ds=0&oc=03L%2C14L&so=50&ind=0101S%2C0103S%2C0107S&op=17&pf=0&ne=3%2C4&tp=1&page=372&prsrt=1\n",
      "Fetching page 373: https://doda.jp/DodaFront/View/JobSearchList.action?pic=1&ds=0&oc=03L%2C14L&so=50&ind=0101S%2C0103S%2C0107S&op=17&pf=0&ne=3%2C4&tp=1&page=373&prsrt=1\n",
      "Fetching page 374: https://doda.jp/DodaFront/View/JobSearchList.action?pic=1&ds=0&oc=03L%2C14L&so=50&ind=0101S%2C0103S%2C0107S&op=17&pf=0&ne=3%2C4&tp=1&page=374&prsrt=1\n",
      "Fetching page 375: https://doda.jp/DodaFront/View/JobSearchList.action?pic=1&ds=0&oc=03L%2C14L&so=50&ind=0101S%2C0103S%2C0107S&op=17&pf=0&ne=3%2C4&tp=1&page=375&prsrt=1\n",
      "Fetching page 376: https://doda.jp/DodaFront/View/JobSearchList.action?pic=1&ds=0&oc=03L%2C14L&so=50&ind=0101S%2C0103S%2C0107S&op=17&pf=0&ne=3%2C4&tp=1&page=376&prsrt=1\n",
      "Fetching page 377: https://doda.jp/DodaFront/View/JobSearchList.action?pic=1&ds=0&oc=03L%2C14L&so=50&ind=0101S%2C0103S%2C0107S&op=17&pf=0&ne=3%2C4&tp=1&page=377&prsrt=1\n",
      "Fetching page 378: https://doda.jp/DodaFront/View/JobSearchList.action?pic=1&ds=0&oc=03L%2C14L&so=50&ind=0101S%2C0103S%2C0107S&op=17&pf=0&ne=3%2C4&tp=1&page=378&prsrt=1\n",
      "Fetching page 379: https://doda.jp/DodaFront/View/JobSearchList.action?pic=1&ds=0&oc=03L%2C14L&so=50&ind=0101S%2C0103S%2C0107S&op=17&pf=0&ne=3%2C4&tp=1&page=379&prsrt=1\n",
      "Fetching page 380: https://doda.jp/DodaFront/View/JobSearchList.action?pic=1&ds=0&oc=03L%2C14L&so=50&ind=0101S%2C0103S%2C0107S&op=17&pf=0&ne=3%2C4&tp=1&page=380&prsrt=1\n"
     ]
    },
    {
     "name": "stderr",
     "output_type": "stream",
     "text": [
      "Processing pages 371 to 380: 100%|██████████| 10/10 [02:40<00:00, 16.05s/it]\n",
      "Processing pages 381 to 390:   0%|          | 0/10 [00:00<?, ?it/s]"
     ]
    },
    {
     "name": "stdout",
     "output_type": "stream",
     "text": [
      "Fetching page 381: https://doda.jp/DodaFront/View/JobSearchList.action?pic=1&ds=0&oc=03L%2C14L&so=50&ind=0101S%2C0103S%2C0107S&op=17&pf=0&ne=3%2C4&tp=1&page=381&prsrt=1\n",
      "Fetching page 382: https://doda.jp/DodaFront/View/JobSearchList.action?pic=1&ds=0&oc=03L%2C14L&so=50&ind=0101S%2C0103S%2C0107S&op=17&pf=0&ne=3%2C4&tp=1&page=382&prsrt=1\n",
      "Fetching page 383: https://doda.jp/DodaFront/View/JobSearchList.action?pic=1&ds=0&oc=03L%2C14L&so=50&ind=0101S%2C0103S%2C0107S&op=17&pf=0&ne=3%2C4&tp=1&page=383&prsrt=1\n",
      "Fetching page 384: https://doda.jp/DodaFront/View/JobSearchList.action?pic=1&ds=0&oc=03L%2C14L&so=50&ind=0101S%2C0103S%2C0107S&op=17&pf=0&ne=3%2C4&tp=1&page=384&prsrt=1\n",
      "Fetching page 385: https://doda.jp/DodaFront/View/JobSearchList.action?pic=1&ds=0&oc=03L%2C14L&so=50&ind=0101S%2C0103S%2C0107S&op=17&pf=0&ne=3%2C4&tp=1&page=385&prsrt=1\n",
      "Fetching page 386: https://doda.jp/DodaFront/View/JobSearchList.action?pic=1&ds=0&oc=03L%2C14L&so=50&ind=0101S%2C0103S%2C0107S&op=17&pf=0&ne=3%2C4&tp=1&page=386&prsrt=1\n",
      "Fetching page 387: https://doda.jp/DodaFront/View/JobSearchList.action?pic=1&ds=0&oc=03L%2C14L&so=50&ind=0101S%2C0103S%2C0107S&op=17&pf=0&ne=3%2C4&tp=1&page=387&prsrt=1\n",
      "Fetching page 388: https://doda.jp/DodaFront/View/JobSearchList.action?pic=1&ds=0&oc=03L%2C14L&so=50&ind=0101S%2C0103S%2C0107S&op=17&pf=0&ne=3%2C4&tp=1&page=388&prsrt=1\n",
      "Fetching page 389: https://doda.jp/DodaFront/View/JobSearchList.action?pic=1&ds=0&oc=03L%2C14L&so=50&ind=0101S%2C0103S%2C0107S&op=17&pf=0&ne=3%2C4&tp=1&page=389&prsrt=1\n",
      "Fetching page 390: https://doda.jp/DodaFront/View/JobSearchList.action?pic=1&ds=0&oc=03L%2C14L&so=50&ind=0101S%2C0103S%2C0107S&op=17&pf=0&ne=3%2C4&tp=1&page=390&prsrt=1\n"
     ]
    },
    {
     "name": "stderr",
     "output_type": "stream",
     "text": [
      "Processing pages 381 to 390: 100%|██████████| 10/10 [02:34<00:00, 15.46s/it]\n",
      "Processing pages 391 to 400:   0%|          | 0/10 [00:00<?, ?it/s]"
     ]
    },
    {
     "name": "stdout",
     "output_type": "stream",
     "text": [
      "Fetching page 391: https://doda.jp/DodaFront/View/JobSearchList.action?pic=1&ds=0&oc=03L%2C14L&so=50&ind=0101S%2C0103S%2C0107S&op=17&pf=0&ne=3%2C4&tp=1&page=391&prsrt=1\n",
      "Fetching page 392: https://doda.jp/DodaFront/View/JobSearchList.action?pic=1&ds=0&oc=03L%2C14L&so=50&ind=0101S%2C0103S%2C0107S&op=17&pf=0&ne=3%2C4&tp=1&page=392&prsrt=1\n",
      "Fetching page 393: https://doda.jp/DodaFront/View/JobSearchList.action?pic=1&ds=0&oc=03L%2C14L&so=50&ind=0101S%2C0103S%2C0107S&op=17&pf=0&ne=3%2C4&tp=1&page=393&prsrt=1\n",
      "Fetching page 394: https://doda.jp/DodaFront/View/JobSearchList.action?pic=1&ds=0&oc=03L%2C14L&so=50&ind=0101S%2C0103S%2C0107S&op=17&pf=0&ne=3%2C4&tp=1&page=394&prsrt=1\n",
      "Fetching page 395: https://doda.jp/DodaFront/View/JobSearchList.action?pic=1&ds=0&oc=03L%2C14L&so=50&ind=0101S%2C0103S%2C0107S&op=17&pf=0&ne=3%2C4&tp=1&page=395&prsrt=1\n",
      "Fetching page 396: https://doda.jp/DodaFront/View/JobSearchList.action?pic=1&ds=0&oc=03L%2C14L&so=50&ind=0101S%2C0103S%2C0107S&op=17&pf=0&ne=3%2C4&tp=1&page=396&prsrt=1\n",
      "Fetching page 397: https://doda.jp/DodaFront/View/JobSearchList.action?pic=1&ds=0&oc=03L%2C14L&so=50&ind=0101S%2C0103S%2C0107S&op=17&pf=0&ne=3%2C4&tp=1&page=397&prsrt=1\n",
      "Fetching page 398: https://doda.jp/DodaFront/View/JobSearchList.action?pic=1&ds=0&oc=03L%2C14L&so=50&ind=0101S%2C0103S%2C0107S&op=17&pf=0&ne=3%2C4&tp=1&page=398&prsrt=1\n",
      "Fetching page 399: https://doda.jp/DodaFront/View/JobSearchList.action?pic=1&ds=0&oc=03L%2C14L&so=50&ind=0101S%2C0103S%2C0107S&op=17&pf=0&ne=3%2C4&tp=1&page=399&prsrt=1\n",
      "Fetching page 400: https://doda.jp/DodaFront/View/JobSearchList.action?pic=1&ds=0&oc=03L%2C14L&so=50&ind=0101S%2C0103S%2C0107S&op=17&pf=0&ne=3%2C4&tp=1&page=400&prsrt=1\n"
     ]
    },
    {
     "name": "stderr",
     "output_type": "stream",
     "text": [
      "Processing pages 391 to 400: 100%|██████████| 10/10 [02:43<00:00, 16.36s/it]\n",
      "Processing pages 401 to 410:   0%|          | 0/10 [00:00<?, ?it/s]"
     ]
    },
    {
     "name": "stdout",
     "output_type": "stream",
     "text": [
      "Fetching page 401: https://doda.jp/DodaFront/View/JobSearchList.action?pic=1&ds=0&oc=03L%2C14L&so=50&ind=0101S%2C0103S%2C0107S&op=17&pf=0&ne=3%2C4&tp=1&page=401&prsrt=1\n",
      "Fetching page 402: https://doda.jp/DodaFront/View/JobSearchList.action?pic=1&ds=0&oc=03L%2C14L&so=50&ind=0101S%2C0103S%2C0107S&op=17&pf=0&ne=3%2C4&tp=1&page=402&prsrt=1\n",
      "Fetching page 403: https://doda.jp/DodaFront/View/JobSearchList.action?pic=1&ds=0&oc=03L%2C14L&so=50&ind=0101S%2C0103S%2C0107S&op=17&pf=0&ne=3%2C4&tp=1&page=403&prsrt=1\n",
      "Fetching page 404: https://doda.jp/DodaFront/View/JobSearchList.action?pic=1&ds=0&oc=03L%2C14L&so=50&ind=0101S%2C0103S%2C0107S&op=17&pf=0&ne=3%2C4&tp=1&page=404&prsrt=1\n",
      "Fetching page 405: https://doda.jp/DodaFront/View/JobSearchList.action?pic=1&ds=0&oc=03L%2C14L&so=50&ind=0101S%2C0103S%2C0107S&op=17&pf=0&ne=3%2C4&tp=1&page=405&prsrt=1\n",
      "Fetching page 406: https://doda.jp/DodaFront/View/JobSearchList.action?pic=1&ds=0&oc=03L%2C14L&so=50&ind=0101S%2C0103S%2C0107S&op=17&pf=0&ne=3%2C4&tp=1&page=406&prsrt=1\n",
      "Fetching page 407: https://doda.jp/DodaFront/View/JobSearchList.action?pic=1&ds=0&oc=03L%2C14L&so=50&ind=0101S%2C0103S%2C0107S&op=17&pf=0&ne=3%2C4&tp=1&page=407&prsrt=1\n",
      "Fetching page 408: https://doda.jp/DodaFront/View/JobSearchList.action?pic=1&ds=0&oc=03L%2C14L&so=50&ind=0101S%2C0103S%2C0107S&op=17&pf=0&ne=3%2C4&tp=1&page=408&prsrt=1\n",
      "Fetching page 409: https://doda.jp/DodaFront/View/JobSearchList.action?pic=1&ds=0&oc=03L%2C14L&so=50&ind=0101S%2C0103S%2C0107S&op=17&pf=0&ne=3%2C4&tp=1&page=409&prsrt=1\n",
      "Fetching page 410: https://doda.jp/DodaFront/View/JobSearchList.action?pic=1&ds=0&oc=03L%2C14L&so=50&ind=0101S%2C0103S%2C0107S&op=17&pf=0&ne=3%2C4&tp=1&page=410&prsrt=1\n"
     ]
    },
    {
     "name": "stderr",
     "output_type": "stream",
     "text": [
      "Processing pages 401 to 410: 100%|██████████| 10/10 [02:40<00:00, 16.09s/it]\n",
      "Processing pages 411 to 420:   0%|          | 0/10 [00:00<?, ?it/s]"
     ]
    },
    {
     "name": "stdout",
     "output_type": "stream",
     "text": [
      "Fetching page 411: https://doda.jp/DodaFront/View/JobSearchList.action?pic=1&ds=0&oc=03L%2C14L&so=50&ind=0101S%2C0103S%2C0107S&op=17&pf=0&ne=3%2C4&tp=1&page=411&prsrt=1\n",
      "Fetching page 412: https://doda.jp/DodaFront/View/JobSearchList.action?pic=1&ds=0&oc=03L%2C14L&so=50&ind=0101S%2C0103S%2C0107S&op=17&pf=0&ne=3%2C4&tp=1&page=412&prsrt=1\n",
      "Fetching page 413: https://doda.jp/DodaFront/View/JobSearchList.action?pic=1&ds=0&oc=03L%2C14L&so=50&ind=0101S%2C0103S%2C0107S&op=17&pf=0&ne=3%2C4&tp=1&page=413&prsrt=1\n",
      "Fetching page 414: https://doda.jp/DodaFront/View/JobSearchList.action?pic=1&ds=0&oc=03L%2C14L&so=50&ind=0101S%2C0103S%2C0107S&op=17&pf=0&ne=3%2C4&tp=1&page=414&prsrt=1\n",
      "Fetching page 415: https://doda.jp/DodaFront/View/JobSearchList.action?pic=1&ds=0&oc=03L%2C14L&so=50&ind=0101S%2C0103S%2C0107S&op=17&pf=0&ne=3%2C4&tp=1&page=415&prsrt=1\n",
      "Fetching page 416: https://doda.jp/DodaFront/View/JobSearchList.action?pic=1&ds=0&oc=03L%2C14L&so=50&ind=0101S%2C0103S%2C0107S&op=17&pf=0&ne=3%2C4&tp=1&page=416&prsrt=1\n",
      "Fetching page 417: https://doda.jp/DodaFront/View/JobSearchList.action?pic=1&ds=0&oc=03L%2C14L&so=50&ind=0101S%2C0103S%2C0107S&op=17&pf=0&ne=3%2C4&tp=1&page=417&prsrt=1\n",
      "Fetching page 418: https://doda.jp/DodaFront/View/JobSearchList.action?pic=1&ds=0&oc=03L%2C14L&so=50&ind=0101S%2C0103S%2C0107S&op=17&pf=0&ne=3%2C4&tp=1&page=418&prsrt=1\n",
      "Fetching page 419: https://doda.jp/DodaFront/View/JobSearchList.action?pic=1&ds=0&oc=03L%2C14L&so=50&ind=0101S%2C0103S%2C0107S&op=17&pf=0&ne=3%2C4&tp=1&page=419&prsrt=1\n",
      "Fetching page 420: https://doda.jp/DodaFront/View/JobSearchList.action?pic=1&ds=0&oc=03L%2C14L&so=50&ind=0101S%2C0103S%2C0107S&op=17&pf=0&ne=3%2C4&tp=1&page=420&prsrt=1\n"
     ]
    },
    {
     "name": "stderr",
     "output_type": "stream",
     "text": [
      "Processing pages 411 to 420: 100%|██████████| 10/10 [02:44<00:00, 16.44s/it]\n",
      "Processing pages 421 to 430:   0%|          | 0/10 [00:00<?, ?it/s]"
     ]
    },
    {
     "name": "stdout",
     "output_type": "stream",
     "text": [
      "Fetching page 421: https://doda.jp/DodaFront/View/JobSearchList.action?pic=1&ds=0&oc=03L%2C14L&so=50&ind=0101S%2C0103S%2C0107S&op=17&pf=0&ne=3%2C4&tp=1&page=421&prsrt=1\n",
      "Fetching page 422: https://doda.jp/DodaFront/View/JobSearchList.action?pic=1&ds=0&oc=03L%2C14L&so=50&ind=0101S%2C0103S%2C0107S&op=17&pf=0&ne=3%2C4&tp=1&page=422&prsrt=1\n",
      "Fetching page 423: https://doda.jp/DodaFront/View/JobSearchList.action?pic=1&ds=0&oc=03L%2C14L&so=50&ind=0101S%2C0103S%2C0107S&op=17&pf=0&ne=3%2C4&tp=1&page=423&prsrt=1\n",
      "Fetching page 424: https://doda.jp/DodaFront/View/JobSearchList.action?pic=1&ds=0&oc=03L%2C14L&so=50&ind=0101S%2C0103S%2C0107S&op=17&pf=0&ne=3%2C4&tp=1&page=424&prsrt=1\n",
      "Fetching page 425: https://doda.jp/DodaFront/View/JobSearchList.action?pic=1&ds=0&oc=03L%2C14L&so=50&ind=0101S%2C0103S%2C0107S&op=17&pf=0&ne=3%2C4&tp=1&page=425&prsrt=1\n",
      "Fetching page 426: https://doda.jp/DodaFront/View/JobSearchList.action?pic=1&ds=0&oc=03L%2C14L&so=50&ind=0101S%2C0103S%2C0107S&op=17&pf=0&ne=3%2C4&tp=1&page=426&prsrt=1\n",
      "Fetching page 427: https://doda.jp/DodaFront/View/JobSearchList.action?pic=1&ds=0&oc=03L%2C14L&so=50&ind=0101S%2C0103S%2C0107S&op=17&pf=0&ne=3%2C4&tp=1&page=427&prsrt=1\n",
      "Fetching page 428: https://doda.jp/DodaFront/View/JobSearchList.action?pic=1&ds=0&oc=03L%2C14L&so=50&ind=0101S%2C0103S%2C0107S&op=17&pf=0&ne=3%2C4&tp=1&page=428&prsrt=1\n",
      "Fetching page 429: https://doda.jp/DodaFront/View/JobSearchList.action?pic=1&ds=0&oc=03L%2C14L&so=50&ind=0101S%2C0103S%2C0107S&op=17&pf=0&ne=3%2C4&tp=1&page=429&prsrt=1\n",
      "Fetching page 430: https://doda.jp/DodaFront/View/JobSearchList.action?pic=1&ds=0&oc=03L%2C14L&so=50&ind=0101S%2C0103S%2C0107S&op=17&pf=0&ne=3%2C4&tp=1&page=430&prsrt=1\n"
     ]
    },
    {
     "name": "stderr",
     "output_type": "stream",
     "text": [
      "Processing pages 421 to 430: 100%|██████████| 10/10 [02:48<00:00, 16.83s/it]\n",
      "Processing pages 431 to 440:   0%|          | 0/10 [00:00<?, ?it/s]"
     ]
    },
    {
     "name": "stdout",
     "output_type": "stream",
     "text": [
      "Fetching page 431: https://doda.jp/DodaFront/View/JobSearchList.action?pic=1&ds=0&oc=03L%2C14L&so=50&ind=0101S%2C0103S%2C0107S&op=17&pf=0&ne=3%2C4&tp=1&page=431&prsrt=1\n",
      "Fetching page 432: https://doda.jp/DodaFront/View/JobSearchList.action?pic=1&ds=0&oc=03L%2C14L&so=50&ind=0101S%2C0103S%2C0107S&op=17&pf=0&ne=3%2C4&tp=1&page=432&prsrt=1\n",
      "Fetching page 433: https://doda.jp/DodaFront/View/JobSearchList.action?pic=1&ds=0&oc=03L%2C14L&so=50&ind=0101S%2C0103S%2C0107S&op=17&pf=0&ne=3%2C4&tp=1&page=433&prsrt=1\n",
      "Fetching page 434: https://doda.jp/DodaFront/View/JobSearchList.action?pic=1&ds=0&oc=03L%2C14L&so=50&ind=0101S%2C0103S%2C0107S&op=17&pf=0&ne=3%2C4&tp=1&page=434&prsrt=1\n",
      "Fetching page 435: https://doda.jp/DodaFront/View/JobSearchList.action?pic=1&ds=0&oc=03L%2C14L&so=50&ind=0101S%2C0103S%2C0107S&op=17&pf=0&ne=3%2C4&tp=1&page=435&prsrt=1\n",
      "Fetching page 436: https://doda.jp/DodaFront/View/JobSearchList.action?pic=1&ds=0&oc=03L%2C14L&so=50&ind=0101S%2C0103S%2C0107S&op=17&pf=0&ne=3%2C4&tp=1&page=436&prsrt=1\n",
      "Fetching page 437: https://doda.jp/DodaFront/View/JobSearchList.action?pic=1&ds=0&oc=03L%2C14L&so=50&ind=0101S%2C0103S%2C0107S&op=17&pf=0&ne=3%2C4&tp=1&page=437&prsrt=1\n",
      "Fetching page 438: https://doda.jp/DodaFront/View/JobSearchList.action?pic=1&ds=0&oc=03L%2C14L&so=50&ind=0101S%2C0103S%2C0107S&op=17&pf=0&ne=3%2C4&tp=1&page=438&prsrt=1\n",
      "Fetching page 439: https://doda.jp/DodaFront/View/JobSearchList.action?pic=1&ds=0&oc=03L%2C14L&so=50&ind=0101S%2C0103S%2C0107S&op=17&pf=0&ne=3%2C4&tp=1&page=439&prsrt=1\n",
      "Fetching page 440: https://doda.jp/DodaFront/View/JobSearchList.action?pic=1&ds=0&oc=03L%2C14L&so=50&ind=0101S%2C0103S%2C0107S&op=17&pf=0&ne=3%2C4&tp=1&page=440&prsrt=1\n"
     ]
    },
    {
     "name": "stderr",
     "output_type": "stream",
     "text": [
      "Processing pages 431 to 440: 100%|██████████| 10/10 [02:41<00:00, 16.19s/it]\n",
      "Processing pages 441 to 450:   0%|          | 0/10 [00:00<?, ?it/s]"
     ]
    },
    {
     "name": "stdout",
     "output_type": "stream",
     "text": [
      "Fetching page 441: https://doda.jp/DodaFront/View/JobSearchList.action?pic=1&ds=0&oc=03L%2C14L&so=50&ind=0101S%2C0103S%2C0107S&op=17&pf=0&ne=3%2C4&tp=1&page=441&prsrt=1\n",
      "Fetching page 442: https://doda.jp/DodaFront/View/JobSearchList.action?pic=1&ds=0&oc=03L%2C14L&so=50&ind=0101S%2C0103S%2C0107S&op=17&pf=0&ne=3%2C4&tp=1&page=442&prsrt=1\n",
      "Fetching page 443: https://doda.jp/DodaFront/View/JobSearchList.action?pic=1&ds=0&oc=03L%2C14L&so=50&ind=0101S%2C0103S%2C0107S&op=17&pf=0&ne=3%2C4&tp=1&page=443&prsrt=1\n",
      "Fetching page 444: https://doda.jp/DodaFront/View/JobSearchList.action?pic=1&ds=0&oc=03L%2C14L&so=50&ind=0101S%2C0103S%2C0107S&op=17&pf=0&ne=3%2C4&tp=1&page=444&prsrt=1\n",
      "Fetching page 445: https://doda.jp/DodaFront/View/JobSearchList.action?pic=1&ds=0&oc=03L%2C14L&so=50&ind=0101S%2C0103S%2C0107S&op=17&pf=0&ne=3%2C4&tp=1&page=445&prsrt=1\n",
      "Fetching page 446: https://doda.jp/DodaFront/View/JobSearchList.action?pic=1&ds=0&oc=03L%2C14L&so=50&ind=0101S%2C0103S%2C0107S&op=17&pf=0&ne=3%2C4&tp=1&page=446&prsrt=1\n",
      "Fetching page 447: https://doda.jp/DodaFront/View/JobSearchList.action?pic=1&ds=0&oc=03L%2C14L&so=50&ind=0101S%2C0103S%2C0107S&op=17&pf=0&ne=3%2C4&tp=1&page=447&prsrt=1\n",
      "Fetching page 448: https://doda.jp/DodaFront/View/JobSearchList.action?pic=1&ds=0&oc=03L%2C14L&so=50&ind=0101S%2C0103S%2C0107S&op=17&pf=0&ne=3%2C4&tp=1&page=448&prsrt=1\n",
      "Fetching page 449: https://doda.jp/DodaFront/View/JobSearchList.action?pic=1&ds=0&oc=03L%2C14L&so=50&ind=0101S%2C0103S%2C0107S&op=17&pf=0&ne=3%2C4&tp=1&page=449&prsrt=1\n",
      "Fetching page 450: https://doda.jp/DodaFront/View/JobSearchList.action?pic=1&ds=0&oc=03L%2C14L&so=50&ind=0101S%2C0103S%2C0107S&op=17&pf=0&ne=3%2C4&tp=1&page=450&prsrt=1\n"
     ]
    },
    {
     "name": "stderr",
     "output_type": "stream",
     "text": [
      "Processing pages 441 to 450: 100%|██████████| 10/10 [02:44<00:00, 16.44s/it]\n",
      "Processing pages 451 to 460:   0%|          | 0/10 [00:00<?, ?it/s]"
     ]
    },
    {
     "name": "stdout",
     "output_type": "stream",
     "text": [
      "Fetching page 451: https://doda.jp/DodaFront/View/JobSearchList.action?pic=1&ds=0&oc=03L%2C14L&so=50&ind=0101S%2C0103S%2C0107S&op=17&pf=0&ne=3%2C4&tp=1&page=451&prsrt=1\n",
      "Fetching page 452: https://doda.jp/DodaFront/View/JobSearchList.action?pic=1&ds=0&oc=03L%2C14L&so=50&ind=0101S%2C0103S%2C0107S&op=17&pf=0&ne=3%2C4&tp=1&page=452&prsrt=1\n",
      "Fetching page 453: https://doda.jp/DodaFront/View/JobSearchList.action?pic=1&ds=0&oc=03L%2C14L&so=50&ind=0101S%2C0103S%2C0107S&op=17&pf=0&ne=3%2C4&tp=1&page=453&prsrt=1\n",
      "Fetching page 454: https://doda.jp/DodaFront/View/JobSearchList.action?pic=1&ds=0&oc=03L%2C14L&so=50&ind=0101S%2C0103S%2C0107S&op=17&pf=0&ne=3%2C4&tp=1&page=454&prsrt=1\n",
      "Fetching page 455: https://doda.jp/DodaFront/View/JobSearchList.action?pic=1&ds=0&oc=03L%2C14L&so=50&ind=0101S%2C0103S%2C0107S&op=17&pf=0&ne=3%2C4&tp=1&page=455&prsrt=1\n",
      "Fetching page 456: https://doda.jp/DodaFront/View/JobSearchList.action?pic=1&ds=0&oc=03L%2C14L&so=50&ind=0101S%2C0103S%2C0107S&op=17&pf=0&ne=3%2C4&tp=1&page=456&prsrt=1\n",
      "Fetching page 457: https://doda.jp/DodaFront/View/JobSearchList.action?pic=1&ds=0&oc=03L%2C14L&so=50&ind=0101S%2C0103S%2C0107S&op=17&pf=0&ne=3%2C4&tp=1&page=457&prsrt=1\n",
      "Fetching page 458: https://doda.jp/DodaFront/View/JobSearchList.action?pic=1&ds=0&oc=03L%2C14L&so=50&ind=0101S%2C0103S%2C0107S&op=17&pf=0&ne=3%2C4&tp=1&page=458&prsrt=1\n",
      "Fetching page 459: https://doda.jp/DodaFront/View/JobSearchList.action?pic=1&ds=0&oc=03L%2C14L&so=50&ind=0101S%2C0103S%2C0107S&op=17&pf=0&ne=3%2C4&tp=1&page=459&prsrt=1\n",
      "Fetching page 460: https://doda.jp/DodaFront/View/JobSearchList.action?pic=1&ds=0&oc=03L%2C14L&so=50&ind=0101S%2C0103S%2C0107S&op=17&pf=0&ne=3%2C4&tp=1&page=460&prsrt=1\n"
     ]
    },
    {
     "name": "stderr",
     "output_type": "stream",
     "text": [
      "Processing pages 451 to 460: 100%|██████████| 10/10 [02:44<00:00, 16.44s/it]\n",
      "Processing pages 461 to 470:   0%|          | 0/10 [00:00<?, ?it/s]"
     ]
    },
    {
     "name": "stdout",
     "output_type": "stream",
     "text": [
      "Fetching page 461: https://doda.jp/DodaFront/View/JobSearchList.action?pic=1&ds=0&oc=03L%2C14L&so=50&ind=0101S%2C0103S%2C0107S&op=17&pf=0&ne=3%2C4&tp=1&page=461&prsrt=1\n",
      "Fetching page 462: https://doda.jp/DodaFront/View/JobSearchList.action?pic=1&ds=0&oc=03L%2C14L&so=50&ind=0101S%2C0103S%2C0107S&op=17&pf=0&ne=3%2C4&tp=1&page=462&prsrt=1\n",
      "Fetching page 463: https://doda.jp/DodaFront/View/JobSearchList.action?pic=1&ds=0&oc=03L%2C14L&so=50&ind=0101S%2C0103S%2C0107S&op=17&pf=0&ne=3%2C4&tp=1&page=463&prsrt=1\n",
      "Fetching page 464: https://doda.jp/DodaFront/View/JobSearchList.action?pic=1&ds=0&oc=03L%2C14L&so=50&ind=0101S%2C0103S%2C0107S&op=17&pf=0&ne=3%2C4&tp=1&page=464&prsrt=1\n",
      "Fetching page 465: https://doda.jp/DodaFront/View/JobSearchList.action?pic=1&ds=0&oc=03L%2C14L&so=50&ind=0101S%2C0103S%2C0107S&op=17&pf=0&ne=3%2C4&tp=1&page=465&prsrt=1\n",
      "Fetching page 466: https://doda.jp/DodaFront/View/JobSearchList.action?pic=1&ds=0&oc=03L%2C14L&so=50&ind=0101S%2C0103S%2C0107S&op=17&pf=0&ne=3%2C4&tp=1&page=466&prsrt=1\n",
      "Fetching page 467: https://doda.jp/DodaFront/View/JobSearchList.action?pic=1&ds=0&oc=03L%2C14L&so=50&ind=0101S%2C0103S%2C0107S&op=17&pf=0&ne=3%2C4&tp=1&page=467&prsrt=1\n",
      "Fetching page 468: https://doda.jp/DodaFront/View/JobSearchList.action?pic=1&ds=0&oc=03L%2C14L&so=50&ind=0101S%2C0103S%2C0107S&op=17&pf=0&ne=3%2C4&tp=1&page=468&prsrt=1\n",
      "Fetching page 469: https://doda.jp/DodaFront/View/JobSearchList.action?pic=1&ds=0&oc=03L%2C14L&so=50&ind=0101S%2C0103S%2C0107S&op=17&pf=0&ne=3%2C4&tp=1&page=469&prsrt=1\n",
      "Fetching page 470: https://doda.jp/DodaFront/View/JobSearchList.action?pic=1&ds=0&oc=03L%2C14L&so=50&ind=0101S%2C0103S%2C0107S&op=17&pf=0&ne=3%2C4&tp=1&page=470&prsrt=1\n"
     ]
    },
    {
     "name": "stderr",
     "output_type": "stream",
     "text": [
      "Processing pages 461 to 470: 100%|██████████| 10/10 [02:50<00:00, 17.03s/it]\n",
      "Processing pages 471 to 480:   0%|          | 0/10 [00:00<?, ?it/s]"
     ]
    },
    {
     "name": "stdout",
     "output_type": "stream",
     "text": [
      "Fetching page 471: https://doda.jp/DodaFront/View/JobSearchList.action?pic=1&ds=0&oc=03L%2C14L&so=50&ind=0101S%2C0103S%2C0107S&op=17&pf=0&ne=3%2C4&tp=1&page=471&prsrt=1\n",
      "Fetching page 472: https://doda.jp/DodaFront/View/JobSearchList.action?pic=1&ds=0&oc=03L%2C14L&so=50&ind=0101S%2C0103S%2C0107S&op=17&pf=0&ne=3%2C4&tp=1&page=472&prsrt=1\n",
      "Fetching page 473: https://doda.jp/DodaFront/View/JobSearchList.action?pic=1&ds=0&oc=03L%2C14L&so=50&ind=0101S%2C0103S%2C0107S&op=17&pf=0&ne=3%2C4&tp=1&page=473&prsrt=1\n",
      "Fetching page 474: https://doda.jp/DodaFront/View/JobSearchList.action?pic=1&ds=0&oc=03L%2C14L&so=50&ind=0101S%2C0103S%2C0107S&op=17&pf=0&ne=3%2C4&tp=1&page=474&prsrt=1\n",
      "Fetching page 475: https://doda.jp/DodaFront/View/JobSearchList.action?pic=1&ds=0&oc=03L%2C14L&so=50&ind=0101S%2C0103S%2C0107S&op=17&pf=0&ne=3%2C4&tp=1&page=475&prsrt=1\n",
      "Fetching page 476: https://doda.jp/DodaFront/View/JobSearchList.action?pic=1&ds=0&oc=03L%2C14L&so=50&ind=0101S%2C0103S%2C0107S&op=17&pf=0&ne=3%2C4&tp=1&page=476&prsrt=1\n",
      "Fetching page 477: https://doda.jp/DodaFront/View/JobSearchList.action?pic=1&ds=0&oc=03L%2C14L&so=50&ind=0101S%2C0103S%2C0107S&op=17&pf=0&ne=3%2C4&tp=1&page=477&prsrt=1\n",
      "Fetching page 478: https://doda.jp/DodaFront/View/JobSearchList.action?pic=1&ds=0&oc=03L%2C14L&so=50&ind=0101S%2C0103S%2C0107S&op=17&pf=0&ne=3%2C4&tp=1&page=478&prsrt=1\n",
      "Fetching page 479: https://doda.jp/DodaFront/View/JobSearchList.action?pic=1&ds=0&oc=03L%2C14L&so=50&ind=0101S%2C0103S%2C0107S&op=17&pf=0&ne=3%2C4&tp=1&page=479&prsrt=1\n",
      "Fetching page 480: https://doda.jp/DodaFront/View/JobSearchList.action?pic=1&ds=0&oc=03L%2C14L&so=50&ind=0101S%2C0103S%2C0107S&op=17&pf=0&ne=3%2C4&tp=1&page=480&prsrt=1\n"
     ]
    },
    {
     "name": "stderr",
     "output_type": "stream",
     "text": [
      "Processing pages 471 to 480: 100%|██████████| 10/10 [02:42<00:00, 16.25s/it]\n"
     ]
    }
   ],
   "source": [
    "import aiohttp\n",
    "import asyncio\n",
    "from bs4 import BeautifulSoup\n",
    "import pandas as pd\n",
    "import re\n",
    "from tqdm import tqdm\n",
    "import nest_asyncio\n",
    "import random\n",
    "\n",
    "# 既存のイベントループを再利用するために必要\n",
    "nest_asyncio.apply()\n",
    "\n",
    "all_data = []\n",
    "semaphore = asyncio.Semaphore(10)  # 同時に実行されるタスクの数を10に制限\n",
    "\n",
    "user_agents = [\n",
    "    'Mozilla/5.0 (Windows NT 10.0; Win64; x64) AppleWebKit/537.36 (KHTML, like Gecko) Chrome/58.0.3029.110 Safari/537.3', \n",
    "    'Mozilla/5.0 (Macintosh; Intel Mac OS X 10_15_7) AppleWebKit/605.1.15 (KHTML, like Gecko) Version/14.0.3 Safari/605.1.15',\n",
    "    'Mozilla/5.0 (X11; Linux x86_64) AppleWebKit/537.36 (KHTML, like Gecko) Chrome/91.0.4472.114 Safari/537.36',\n",
    "    # 他のユーザーエージェントを追加\n",
    "]\n",
    "\n",
    "async def fetch(session, url):\n",
    "    async with semaphore:\n",
    "        headers = {'User-Agent': random.choice(user_agents)}\n",
    "        async with session.get(url, headers=headers) as response:\n",
    "            await asyncio.sleep(random.uniform(1, 3))  # ランダムな待機時間を追加\n",
    "            return await response.text()\n",
    "\n",
    "async def fetch_detail(session, job_id):\n",
    "    detail_url = f'https://doda.jp/DodaFront/View/JobSearchDetail/j_jid__{job_id}/-tab__jd/-fm__jobdetail/-mpsc_sid__10/-tp__1/'\n",
    "    async with semaphore:\n",
    "        headers = {'User-Agent': random.choice(user_agents)}\n",
    "        async with session.get(detail_url, headers=headers) as response:\n",
    "            await asyncio.sleep(random.uniform(1, 3))  # ランダムな待機時間を追加\n",
    "            return await response.text()\n",
    "\n",
    "def get_text_from_selectors(soup, selectors):\n",
    "    for selector in selectors:\n",
    "        element = soup.select_one(selector)\n",
    "        if element:\n",
    "            return element.get_text(strip=True, separator='\\n')\n",
    "    return ''\n",
    "\n",
    "async def process_page(session, page_number, pbar):\n",
    "    try:\n",
    "        url = f'https://doda.jp/DodaFront/View/JobSearchList.action?pic=1&ds=0&oc=03L%2C14L&so=50&ind=0101S%2C0103S%2C0107S&op=17&pf=0&ne=3%2C4&tp=1&page={page_number}&prsrt=1'\n",
    "        print(f\"Fetching page {page_number}: {url}\")  # デバッグ用の出力\n",
    "        html = await fetch(session, url)\n",
    "        soup = BeautifulSoup(html, 'html.parser')\n",
    "        job_elements = soup.find_all('h2', class_='title clrFix')\n",
    "\n",
    "        for job_element in job_elements:\n",
    "            company_span = job_element.find('span', class_='company width688')\n",
    "            company_name = company_span.get_text(separator=\" \", strip=True).replace('NEW', '').strip()\n",
    "\n",
    "            job_title = job_element.find('span', class_='job width688').get_text(strip=True)\n",
    "            job_url = job_element.find('a', class_='_JobListToDetail')['href']\n",
    "\n",
    "            pattern = r'j_jid__(\\d+)'\n",
    "            match = re.search(pattern, job_url)\n",
    "            job_id = match.group(1)\n",
    "\n",
    "            # 対象と給与を取得\n",
    "            target = job_element.find_next('dt', string='対象').find_next_sibling('dd').get_text(strip=True)\n",
    "            salary = job_element.find_next('dt', string='給与').find_next_sibling('dd').get_text(strip=True)\n",
    "\n",
    "            # 詳細ページに移動して追加情報を取得\n",
    "            detail_html = await fetch_detail(session, job_id)\n",
    "            detail_soup = BeautifulSoup(detail_html, 'html.parser')\n",
    "\n",
    "            # 業種\n",
    "            li_elements = detail_soup.find('ul', class_='clrFix').find_all('li')\n",
    "            industry = li_elements[2].get_text(strip=True)\n",
    "            if industry.endswith('>'):\n",
    "                industry = industry[:-1].strip()\n",
    "\n",
    "            # 連絡先の中身を取得\n",
    "            contact_info = get_text_from_selectors(detail_soup, [\n",
    "                'dt:-soup-contains(\"連絡先\") + dd',\n",
    "                'th:-soup-contains(\"連絡先\") + td'\n",
    "            ])\n",
    "\n",
    "            # 所在地を取得\n",
    "            location = get_text_from_selectors(detail_soup, [\n",
    "                'th:-soup-contains(\"所在地\") + td',\n",
    "                'dt:-soup-contains(\"所在地\") + dd'\n",
    "            ])\n",
    "\n",
    "            # 代表者を取得\n",
    "            representative = get_text_from_selectors(detail_soup, [\n",
    "                'th:-soup-contains(\"代表者\") + td',\n",
    "                'dt:-soup-contains(\"代表者\") + dd'\n",
    "            ])\n",
    "\n",
    "            # 企業URLを取得\n",
    "            company_url = ''\n",
    "            for selector in ['th:-soup-contains(\"企業URL\") + td a', 'dt:-soup-contains(\"企業URL\") + dd a']:\n",
    "                element = detail_soup.select_one(selector)\n",
    "                if element:\n",
    "                    company_url = element['href']\n",
    "                    break\n",
    "\n",
    "            # データをリストに追加\n",
    "            all_data.append({\n",
    "                '会社名': company_name,\n",
    "                '求人タイトル': job_title,\n",
    "                '詳細ページURL': job_url,\n",
    "                '対象': target,\n",
    "                '給与': salary,\n",
    "                '求人ID': job_id,\n",
    "                '業種': industry,\n",
    "                '連絡先': contact_info,\n",
    "                '所在地': location,\n",
    "                '代表者': representative,\n",
    "                '企業URL': company_url\n",
    "            })\n",
    "        pbar.update(1)  # ページの処理が完了したら進捗バーを更新\n",
    "    except Exception:\n",
    "        pass\n",
    "\n",
    "async def main():\n",
    "    async with aiohttp.ClientSession() as session:\n",
    "        for start_page in range(1, 481, 10):\n",
    "            tasks = []\n",
    "            with tqdm(total=10, desc=f\"Processing pages {start_page} to {start_page + 9}\") as pbar:\n",
    "                for page_number in range(start_page, start_page + 10):\n",
    "                    task = process_page(session, page_number, pbar)\n",
    "                    tasks.append(task)\n",
    "                await asyncio.gather(*tasks)\n",
    "\n",
    "# 非同期イベントループを実行\n",
    "loop = asyncio.get_event_loop()\n",
    "loop.run_until_complete(main())\n",
    "\n",
    "# データフレームに変換\n",
    "df = pd.DataFrame(all_data)\n",
    "df.to_csv('doda-scraping.csv', index=False, encoding='utf-8')"
   ]
  }
 ],
 "metadata": {
  "kernelspec": {
   "display_name": "Python 3 (ipykernel)",
   "language": "python",
   "name": "python3"
  },
  "language_info": {
   "codemirror_mode": {
    "name": "ipython",
    "version": 3
   },
   "file_extension": ".py",
   "mimetype": "text/x-python",
   "name": "python",
   "nbconvert_exporter": "python",
   "pygments_lexer": "ipython3",
   "version": "3.11.5"
  }
 },
 "nbformat": 4,
 "nbformat_minor": 5
}
